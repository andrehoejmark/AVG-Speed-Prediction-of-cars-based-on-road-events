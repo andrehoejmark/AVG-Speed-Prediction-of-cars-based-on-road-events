{
 "cells": [
  {
   "cell_type": "code",
   "execution_count": 1,
   "id": "7570d8c7",
   "metadata": {},
   "outputs": [
    {
     "name": "stderr",
     "output_type": "stream",
     "text": [
      "C:\\Users\\vivs_\\anaconda3\\lib\\site-packages\\numpy\\_distributor_init.py:30: UserWarning: loaded more than 1 DLL from .libs:\n",
      "C:\\Users\\vivs_\\anaconda3\\lib\\site-packages\\numpy\\.libs\\libopenblas.PYQHXLVVQ7VESDPUVUADXEVJOBGHJPAY.gfortran-win_amd64.dll\n",
      "C:\\Users\\vivs_\\anaconda3\\lib\\site-packages\\numpy\\.libs\\libopenblas.WCDJNK7YVMPZQ2ME2ZZHJJRJ3JIKNDB7.gfortran-win_amd64.dll\n",
      "  warnings.warn(\"loaded more than 1 DLL from .libs:\\n%s\" %\n"
     ]
    }
   ],
   "source": [
    "import pandas as pd\n",
    "import numpy as np\n",
    "from math import sqrt\n",
    "from numpy import concatenate\n",
    "from matplotlib import pyplot\n",
    "from pandas import read_csv\n",
    "from pandas import DataFrame\n",
    "from pandas import concat\n",
    "from sklearn.preprocessing import MinMaxScaler\n",
    "from sklearn.preprocessing import LabelEncoder\n",
    "from sklearn.metrics import mean_squared_error\n",
    "from keras.models import Sequential\n",
    "from keras.layers import Dense\n",
    "from keras.layers import LSTM, GRU\n",
    "import tensorflow as tf\n",
    "from datetime import datetime"
   ]
  },
  {
   "cell_type": "code",
   "execution_count": 2,
   "id": "e3083976",
   "metadata": {},
   "outputs": [],
   "source": [
    "training_dataset = read_csv(\"segment_speeds_weather_road_events_training_data.csv\", sep=\",\")\n",
    "\n",
    "values = training_dataset.values"
   ]
  },
  {
   "cell_type": "code",
   "execution_count": 3,
   "id": "b48e82e1",
   "metadata": {},
   "outputs": [
    {
     "data": {
      "text/html": [
       "<div>\n",
       "<style scoped>\n",
       "    .dataframe tbody tr th:only-of-type {\n",
       "        vertical-align: middle;\n",
       "    }\n",
       "\n",
       "    .dataframe tbody tr th {\n",
       "        vertical-align: top;\n",
       "    }\n",
       "\n",
       "    .dataframe thead th {\n",
       "        text-align: right;\n",
       "    }\n",
       "</style>\n",
       "<table border=\"1\" class=\"dataframe\">\n",
       "  <thead>\n",
       "    <tr style=\"text-align: right;\">\n",
       "      <th></th>\n",
       "      <th>Unnamed: 0</th>\n",
       "      <th>SegmentId</th>\n",
       "      <th>StartTime</th>\n",
       "      <th>hour</th>\n",
       "      <th>day</th>\n",
       "      <th>year</th>\n",
       "      <th>Speed</th>\n",
       "      <th>Monday</th>\n",
       "      <th>Saturday</th>\n",
       "      <th>Sunday</th>\n",
       "      <th>...</th>\n",
       "      <th>Friday</th>\n",
       "      <th>holiday</th>\n",
       "      <th>Lufttemperatur</th>\n",
       "      <th>EVENT_TEXT</th>\n",
       "      <th>Nederbördsmängd</th>\n",
       "      <th>Vindhastighet</th>\n",
       "      <th>Snödjup</th>\n",
       "      <th>Temperature-with-last-known-value-on-nan</th>\n",
       "      <th>Wind-speed-avg-when-nan</th>\n",
       "      <th>EVENT_CODE_35.0</th>\n",
       "    </tr>\n",
       "  </thead>\n",
       "  <tbody>\n",
       "    <tr>\n",
       "      <th>0</th>\n",
       "      <td>0</td>\n",
       "      <td>428389808</td>\n",
       "      <td>2019-06-04 00:00:00</td>\n",
       "      <td>0</td>\n",
       "      <td>155</td>\n",
       "      <td>2019</td>\n",
       "      <td>116.150000</td>\n",
       "      <td>0</td>\n",
       "      <td>0</td>\n",
       "      <td>0</td>\n",
       "      <td>...</td>\n",
       "      <td>0</td>\n",
       "      <td>0</td>\n",
       "      <td>13.7</td>\n",
       "      <td>0</td>\n",
       "      <td>0.0</td>\n",
       "      <td>4.7</td>\n",
       "      <td>0.0</td>\n",
       "      <td>13.7</td>\n",
       "      <td>4.7</td>\n",
       "      <td>0</td>\n",
       "    </tr>\n",
       "    <tr>\n",
       "      <th>1</th>\n",
       "      <td>1</td>\n",
       "      <td>428389808</td>\n",
       "      <td>2019-06-04 01:00:00</td>\n",
       "      <td>1</td>\n",
       "      <td>155</td>\n",
       "      <td>2019</td>\n",
       "      <td>94.033333</td>\n",
       "      <td>0</td>\n",
       "      <td>0</td>\n",
       "      <td>0</td>\n",
       "      <td>...</td>\n",
       "      <td>0</td>\n",
       "      <td>0</td>\n",
       "      <td>14.1</td>\n",
       "      <td>0</td>\n",
       "      <td>0.0</td>\n",
       "      <td>5.0</td>\n",
       "      <td>0.0</td>\n",
       "      <td>14.1</td>\n",
       "      <td>5.0</td>\n",
       "      <td>0</td>\n",
       "    </tr>\n",
       "    <tr>\n",
       "      <th>2</th>\n",
       "      <td>2</td>\n",
       "      <td>428389808</td>\n",
       "      <td>2019-06-04 02:00:00</td>\n",
       "      <td>2</td>\n",
       "      <td>155</td>\n",
       "      <td>2019</td>\n",
       "      <td>93.983333</td>\n",
       "      <td>0</td>\n",
       "      <td>0</td>\n",
       "      <td>0</td>\n",
       "      <td>...</td>\n",
       "      <td>0</td>\n",
       "      <td>0</td>\n",
       "      <td>14.2</td>\n",
       "      <td>0</td>\n",
       "      <td>0.0</td>\n",
       "      <td>4.8</td>\n",
       "      <td>0.0</td>\n",
       "      <td>14.2</td>\n",
       "      <td>4.8</td>\n",
       "      <td>0</td>\n",
       "    </tr>\n",
       "    <tr>\n",
       "      <th>3</th>\n",
       "      <td>3</td>\n",
       "      <td>428389808</td>\n",
       "      <td>2019-06-04 03:00:00</td>\n",
       "      <td>3</td>\n",
       "      <td>155</td>\n",
       "      <td>2019</td>\n",
       "      <td>83.466667</td>\n",
       "      <td>0</td>\n",
       "      <td>0</td>\n",
       "      <td>0</td>\n",
       "      <td>...</td>\n",
       "      <td>0</td>\n",
       "      <td>0</td>\n",
       "      <td>14.3</td>\n",
       "      <td>0</td>\n",
       "      <td>0.0</td>\n",
       "      <td>4.9</td>\n",
       "      <td>0.0</td>\n",
       "      <td>14.3</td>\n",
       "      <td>4.9</td>\n",
       "      <td>0</td>\n",
       "    </tr>\n",
       "  </tbody>\n",
       "</table>\n",
       "<p>4 rows × 23 columns</p>\n",
       "</div>"
      ],
      "text/plain": [
       "   Unnamed: 0  SegmentId            StartTime  hour  day  year       Speed  \\\n",
       "0           0  428389808  2019-06-04 00:00:00     0  155  2019  116.150000   \n",
       "1           1  428389808  2019-06-04 01:00:00     1  155  2019   94.033333   \n",
       "2           2  428389808  2019-06-04 02:00:00     2  155  2019   93.983333   \n",
       "3           3  428389808  2019-06-04 03:00:00     3  155  2019   83.466667   \n",
       "\n",
       "   Monday  Saturday  Sunday  ...  Friday  holiday  Lufttemperatur  EVENT_TEXT  \\\n",
       "0       0         0       0  ...       0        0            13.7           0   \n",
       "1       0         0       0  ...       0        0            14.1           0   \n",
       "2       0         0       0  ...       0        0            14.2           0   \n",
       "3       0         0       0  ...       0        0            14.3           0   \n",
       "\n",
       "   Nederbördsmängd  Vindhastighet Snödjup  \\\n",
       "0              0.0            4.7     0.0   \n",
       "1              0.0            5.0     0.0   \n",
       "2              0.0            4.8     0.0   \n",
       "3              0.0            4.9     0.0   \n",
       "\n",
       "   Temperature-with-last-known-value-on-nan  Wind-speed-avg-when-nan  \\\n",
       "0                                      13.7                      4.7   \n",
       "1                                      14.1                      5.0   \n",
       "2                                      14.2                      4.8   \n",
       "3                                      14.3                      4.9   \n",
       "\n",
       "   EVENT_CODE_35.0  \n",
       "0                0  \n",
       "1                0  \n",
       "2                0  \n",
       "3                0  \n",
       "\n",
       "[4 rows x 23 columns]"
      ]
     },
     "execution_count": 3,
     "metadata": {},
     "output_type": "execute_result"
    }
   ],
   "source": [
    "training_dataset.head(4)"
   ]
  },
  {
   "cell_type": "code",
   "execution_count": 6,
   "id": "ccae4ba9",
   "metadata": {},
   "outputs": [],
   "source": [
    "training_dataset.drop(columns  = ['StartTime','EVENT_TEXT'], inplace = True)\n",
    "values = training_dataset.values\n",
    "# ensure all data is float\n",
    "values = values.astype('float32')"
   ]
  },
  {
   "cell_type": "code",
   "execution_count": 4,
   "id": "9d0d6cd7",
   "metadata": {},
   "outputs": [],
   "source": [
    "test_dataset = read_csv(\"segment_speeds_weather_road_events_training_data.csv\", sep=\",\")\n",
    "\n",
    "values = test_dataset.values"
   ]
  },
  {
   "cell_type": "code",
   "execution_count": 5,
   "id": "42e25fae",
   "metadata": {},
   "outputs": [],
   "source": [
    "test_dataset.drop(columns  = ['StartTime','EVENT_TEXT'], inplace = True)\n",
    "values = test_dataset.values\n",
    "# ensure all data is float\n",
    "values = values.astype('float32')"
   ]
  },
  {
   "cell_type": "code",
   "execution_count": null,
   "id": "6c8b9968",
   "metadata": {},
   "outputs": [],
   "source": []
  },
  {
   "cell_type": "code",
   "execution_count": 7,
   "id": "9de35b52",
   "metadata": {},
   "outputs": [
    {
     "data": {
      "text/html": [
       "<div>\n",
       "<style scoped>\n",
       "    .dataframe tbody tr th:only-of-type {\n",
       "        vertical-align: middle;\n",
       "    }\n",
       "\n",
       "    .dataframe tbody tr th {\n",
       "        vertical-align: top;\n",
       "    }\n",
       "\n",
       "    .dataframe thead th {\n",
       "        text-align: right;\n",
       "    }\n",
       "</style>\n",
       "<table border=\"1\" class=\"dataframe\">\n",
       "  <thead>\n",
       "    <tr style=\"text-align: right;\">\n",
       "      <th></th>\n",
       "      <th>0</th>\n",
       "      <th>1</th>\n",
       "      <th>2</th>\n",
       "      <th>3</th>\n",
       "      <th>4</th>\n",
       "      <th>5</th>\n",
       "      <th>6</th>\n",
       "      <th>7</th>\n",
       "      <th>8</th>\n",
       "      <th>9</th>\n",
       "      <th>...</th>\n",
       "      <th>11</th>\n",
       "      <th>12</th>\n",
       "      <th>13</th>\n",
       "      <th>14</th>\n",
       "      <th>15</th>\n",
       "      <th>16</th>\n",
       "      <th>17</th>\n",
       "      <th>18</th>\n",
       "      <th>19</th>\n",
       "      <th>20</th>\n",
       "    </tr>\n",
       "  </thead>\n",
       "  <tbody>\n",
       "    <tr>\n",
       "      <th>0</th>\n",
       "      <td>0.000000</td>\n",
       "      <td>0.0</td>\n",
       "      <td>0.000000</td>\n",
       "      <td>0.421918</td>\n",
       "      <td>0.0</td>\n",
       "      <td>0.857726</td>\n",
       "      <td>0.0</td>\n",
       "      <td>0.0</td>\n",
       "      <td>0.0</td>\n",
       "      <td>0.0</td>\n",
       "      <td>...</td>\n",
       "      <td>0.0</td>\n",
       "      <td>0.0</td>\n",
       "      <td>0.0</td>\n",
       "      <td>0.622222</td>\n",
       "      <td>0.0</td>\n",
       "      <td>0.237374</td>\n",
       "      <td>0.0</td>\n",
       "      <td>0.622222</td>\n",
       "      <td>0.237374</td>\n",
       "      <td>0.0</td>\n",
       "    </tr>\n",
       "    <tr>\n",
       "      <th>1</th>\n",
       "      <td>0.000046</td>\n",
       "      <td>0.0</td>\n",
       "      <td>0.043478</td>\n",
       "      <td>0.421918</td>\n",
       "      <td>0.0</td>\n",
       "      <td>0.683074</td>\n",
       "      <td>0.0</td>\n",
       "      <td>0.0</td>\n",
       "      <td>0.0</td>\n",
       "      <td>0.0</td>\n",
       "      <td>...</td>\n",
       "      <td>0.0</td>\n",
       "      <td>0.0</td>\n",
       "      <td>0.0</td>\n",
       "      <td>0.633333</td>\n",
       "      <td>0.0</td>\n",
       "      <td>0.252525</td>\n",
       "      <td>0.0</td>\n",
       "      <td>0.633333</td>\n",
       "      <td>0.252525</td>\n",
       "      <td>0.0</td>\n",
       "    </tr>\n",
       "    <tr>\n",
       "      <th>2</th>\n",
       "      <td>0.000093</td>\n",
       "      <td>0.0</td>\n",
       "      <td>0.086957</td>\n",
       "      <td>0.421918</td>\n",
       "      <td>0.0</td>\n",
       "      <td>0.682680</td>\n",
       "      <td>0.0</td>\n",
       "      <td>0.0</td>\n",
       "      <td>0.0</td>\n",
       "      <td>0.0</td>\n",
       "      <td>...</td>\n",
       "      <td>0.0</td>\n",
       "      <td>0.0</td>\n",
       "      <td>0.0</td>\n",
       "      <td>0.636111</td>\n",
       "      <td>0.0</td>\n",
       "      <td>0.242424</td>\n",
       "      <td>0.0</td>\n",
       "      <td>0.636111</td>\n",
       "      <td>0.242424</td>\n",
       "      <td>0.0</td>\n",
       "    </tr>\n",
       "    <tr>\n",
       "      <th>3</th>\n",
       "      <td>0.000139</td>\n",
       "      <td>0.0</td>\n",
       "      <td>0.130435</td>\n",
       "      <td>0.421918</td>\n",
       "      <td>0.0</td>\n",
       "      <td>0.599631</td>\n",
       "      <td>0.0</td>\n",
       "      <td>0.0</td>\n",
       "      <td>0.0</td>\n",
       "      <td>0.0</td>\n",
       "      <td>...</td>\n",
       "      <td>0.0</td>\n",
       "      <td>0.0</td>\n",
       "      <td>0.0</td>\n",
       "      <td>0.638889</td>\n",
       "      <td>0.0</td>\n",
       "      <td>0.247475</td>\n",
       "      <td>0.0</td>\n",
       "      <td>0.638889</td>\n",
       "      <td>0.247475</td>\n",
       "      <td>0.0</td>\n",
       "    </tr>\n",
       "  </tbody>\n",
       "</table>\n",
       "<p>4 rows × 21 columns</p>\n",
       "</div>"
      ],
      "text/plain": [
       "         0    1         2         3    4         5    6    7    8    9   ...  \\\n",
       "0  0.000000  0.0  0.000000  0.421918  0.0  0.857726  0.0  0.0  0.0  0.0  ...   \n",
       "1  0.000046  0.0  0.043478  0.421918  0.0  0.683074  0.0  0.0  0.0  0.0  ...   \n",
       "2  0.000093  0.0  0.086957  0.421918  0.0  0.682680  0.0  0.0  0.0  0.0  ...   \n",
       "3  0.000139  0.0  0.130435  0.421918  0.0  0.599631  0.0  0.0  0.0  0.0  ...   \n",
       "\n",
       "    11   12   13        14   15        16   17        18        19   20  \n",
       "0  0.0  0.0  0.0  0.622222  0.0  0.237374  0.0  0.622222  0.237374  0.0  \n",
       "1  0.0  0.0  0.0  0.633333  0.0  0.252525  0.0  0.633333  0.252525  0.0  \n",
       "2  0.0  0.0  0.0  0.636111  0.0  0.242424  0.0  0.636111  0.242424  0.0  \n",
       "3  0.0  0.0  0.0  0.638889  0.0  0.247475  0.0  0.638889  0.247475  0.0  \n",
       "\n",
       "[4 rows x 21 columns]"
      ]
     },
     "execution_count": 7,
     "metadata": {},
     "output_type": "execute_result"
    }
   ],
   "source": [
    "# normalizing input features\n",
    "scaler = MinMaxScaler(feature_range=(0, 1))\n",
    "scaled = scaler.fit_transform(values)\n",
    "scaled =pd.DataFrame(scaled)\n",
    "scaled.head(4)"
   ]
  },
  {
   "cell_type": "code",
   "execution_count": 10,
   "id": "0493b49d",
   "metadata": {},
   "outputs": [],
   "source": [
    "def create_ts_data(training_dataset, lookback=1, predicted_col=6):\n",
    "    temp=training_dataset.copy()\n",
    "    temp[\"id\"]= range(1, len(temp)+1)\n",
    "    temp = temp.iloc[:-lookback, :]\n",
    "    temp.set_index('id', inplace =True)\n",
    "    predicted_value=training_dataset.copy()\n",
    "    predicted_value = predicted_value.iloc[lookback:,predicted_col]\n",
    "    predicted_value.columns=[\"Predcited\"]\n",
    "    predicted_value= pd.DataFrame(predicted_value)\n",
    "    \n",
    "    predicted_value[\"id\"]= range(1, len(predicted_value)+1)\n",
    "    predicted_value.set_index('id', inplace =True)\n",
    "    final_df= pd.concat([temp, predicted_value], axis=1)\n",
    "    #final_df.columns = ['var1(t-1)', 'var2(t-1)', 'var3(t-1)', 'var4(t-1)', 'var5(t-1)', 'var6(t-1)', 'var7(t-1)', 'var8(t-1)','var1(t)']\n",
    "    #final_df.set_index('Date', inplace=True)\n",
    "    return final_df"
   ]
  },
  {
   "cell_type": "code",
   "execution_count": 13,
   "id": "554e600c",
   "metadata": {},
   "outputs": [
    {
     "name": "stdout",
     "output_type": "stream",
     "text": [
      "    var1(t-1)  var2(t-1)  var3(t-1)  var4(t-1)  var5(t-1)  var6(t-1)  \\\n",
      "id                                                                     \n",
      "1    0.000000        0.0   0.000000   0.421918        0.0   0.857726   \n",
      "2    0.000046        0.0   0.043478   0.421918        0.0   0.683074   \n",
      "3    0.000093        0.0   0.086957   0.421918        0.0   0.682680   \n",
      "4    0.000139        0.0   0.130435   0.421918        0.0   0.599631   \n",
      "\n",
      "    var7(t-1)  var8(t-1)  var9(t-1)  var10(t-1)  ...  var13(t-1)  var14(t-1)  \\\n",
      "id                                               ...                           \n",
      "1         0.0        0.0        0.0         0.0  ...         0.0         0.0   \n",
      "2         0.0        0.0        0.0         0.0  ...         0.0         0.0   \n",
      "3         0.0        0.0        0.0         0.0  ...         0.0         0.0   \n",
      "4         0.0        0.0        0.0         0.0  ...         0.0         0.0   \n",
      "\n",
      "    var15(t-1)  var16(t-1)  var17(t-1)  var18(t-1)  var19(t-1)  var20(t-1)  \\\n",
      "id                                                                           \n",
      "1     0.622222         0.0    0.237374         0.0    0.622222    0.237374   \n",
      "2     0.633333         0.0    0.252525         0.0    0.633333    0.252525   \n",
      "3     0.636111         0.0    0.242424         0.0    0.636111    0.242424   \n",
      "4     0.638889         0.0    0.247475         0.0    0.638889    0.247475   \n",
      "\n",
      "    var21(t-1)  var1(t)  \n",
      "id                       \n",
      "1          0.0      0.0  \n",
      "2          0.0      0.0  \n",
      "3          0.0      0.0  \n",
      "4          0.0      0.0  \n",
      "\n",
      "[4 rows x 22 columns]\n"
     ]
    }
   ],
   "source": [
    "#We now create the time series dataset with looking back one time step\n",
    "\n",
    "reframed_df= create_ts_data(scaled, 1,1)\n",
    "reframed_df.fillna(0, inplace=True)\n",
    "\n",
    "reframed_df.columns = ['var1(t-1)', 'var2(t-1)', 'var3(t-1)', 'var4(t-1)', 'var5(t-1)', 'var6(t-1)', 'var7(t-1)', 'var8(t-1)', 'var9(t-1)', 'var10(t-1)', 'var11(t-1)', 'var12(t-1)', 'var13(t-1)', 'var14(t-1)', 'var15(t-1)', 'var16(t-1)', 'var17(t-1)', 'var18(t-1)', 'var19(t-1)', 'var20(t-1)','var21(t-1)', 'var1(t)',]\n",
    "print(reframed_df.head(4))"
   ]
  },
  {
   "cell_type": "code",
   "execution_count": 14,
   "id": "6a46fea8",
   "metadata": {},
   "outputs": [],
   "source": [
    "values = reframed_df.values\n",
    "training_sample =int(len(training_dataset))\n",
    "test_sample =int(len(test_dataset))\n",
    "train = values[:training_sample, :]\n",
    "test = values[:test_sample, :]\n",
    "# split into input and outputs\n",
    "train_X, train_y = train[:, :-1], train[:, -1]\n",
    "test_X, test_y = test[:, :-1], test[:, -1]"
   ]
  },
  {
   "cell_type": "code",
   "execution_count": 15,
   "id": "d8befe04",
   "metadata": {},
   "outputs": [
    {
     "name": "stdout",
     "output_type": "stream",
     "text": [
      "(21540, 1, 21) (21540,) (21540, 1, 21) (21540,)\n"
     ]
    }
   ],
   "source": [
    "# reshape input to be 3D [samples, time steps, features]\n",
    "train_X = train_X.reshape((train_X.shape[0], 1, train_X.shape[1]))\n",
    "test_X = test_X.reshape((test_X.shape[0], 1, test_X.shape[1]))\n",
    "print(train_X.shape, train_y.shape, test_X.shape, test_y.shape)"
   ]
  },
  {
   "cell_type": "code",
   "execution_count": 16,
   "id": "c56e2852",
   "metadata": {},
   "outputs": [
    {
     "name": "stdout",
     "output_type": "stream",
     "text": [
      "Model: \"sequential\"\n",
      "_________________________________________________________________\n",
      "Layer (type)                 Output Shape              Param #   \n",
      "=================================================================\n",
      "lstm (LSTM)                  (None, 1, 512)            1093632   \n",
      "_________________________________________________________________\n",
      "lstm_1 (LSTM)                (None, 1, 80)             189760    \n",
      "_________________________________________________________________\n",
      "lstm_2 (LSTM)                (None, 80)                51520     \n",
      "_________________________________________________________________\n",
      "dense (Dense)                (None, 1)                 81        \n",
      "=================================================================\n",
      "Total params: 1,334,993\n",
      "Trainable params: 1,334,993\n",
      "Non-trainable params: 0\n",
      "_________________________________________________________________\n"
     ]
    }
   ],
   "source": [
    "model_lstm = Sequential()\n",
    "model_lstm.add(LSTM(512, return_sequences=True,input_shape=(train_X.shape[1], train_X.shape[2])))\n",
    "model_lstm.add(LSTM(units=80, return_sequences=True))\n",
    "model_lstm.add(LSTM(units=80))\n",
    "model_lstm.add(Dense(units=1))\n",
    "\n",
    "model_lstm.compile(loss='mae', optimizer='adam')\n",
    "model_lstm.summary()"
   ]
  },
  {
   "cell_type": "code",
   "execution_count": 17,
   "id": "28891243",
   "metadata": {},
   "outputs": [
    {
     "name": "stdout",
     "output_type": "stream",
     "text": [
      "Epoch 1/30\n",
      "431/431 [==============================] - 20s 13ms/step - loss: 8.2407e-04 - val_loss: 5.3569e-04\n",
      "Epoch 2/30\n",
      "431/431 [==============================] - 4s 10ms/step - loss: 1.7716e-04 - val_loss: 6.8524e-05\n",
      "Epoch 3/30\n",
      "431/431 [==============================] - 5s 11ms/step - loss: 1.2742e-04 - val_loss: 7.7385e-05\n",
      "Epoch 4/30\n",
      "431/431 [==============================] - 4s 10ms/step - loss: 8.1088e-05 - val_loss: 7.2039e-05\n",
      "Epoch 5/30\n",
      "431/431 [==============================] - 4s 10ms/step - loss: 5.9100e-05 - val_loss: 7.2712e-05\n",
      "Epoch 6/30\n",
      "431/431 [==============================] - 4s 10ms/step - loss: 6.7139e-05 - val_loss: 9.9275e-05\n",
      "Epoch 7/30\n",
      "431/431 [==============================] - 5s 11ms/step - loss: 9.7769e-05 - val_loss: 9.7379e-05\n",
      "Epoch 8/30\n",
      "431/431 [==============================] - 4s 10ms/step - loss: 9.8680e-05 - val_loss: 6.3908e-05\n",
      "Epoch 9/30\n",
      "431/431 [==============================] - 4s 10ms/step - loss: 9.7201e-05 - val_loss: 1.2484e-04\n",
      "Epoch 10/30\n",
      "431/431 [==============================] - 5s 11ms/step - loss: 9.6976e-05 - val_loss: 8.3808e-05\n",
      "Epoch 11/30\n",
      "431/431 [==============================] - 5s 11ms/step - loss: 9.8448e-05 - val_loss: 7.5799e-05\n",
      "Epoch 12/30\n",
      "431/431 [==============================] - 5s 11ms/step - loss: 9.7560e-05 - val_loss: 1.3835e-04\n",
      "Epoch 13/30\n",
      "431/431 [==============================] - 5s 11ms/step - loss: 9.7685e-05 - val_loss: 9.6998e-05\n",
      "Epoch 14/30\n",
      "431/431 [==============================] - 5s 11ms/step - loss: 9.9235e-05 - val_loss: 6.2416e-05\n",
      "Epoch 15/30\n",
      "431/431 [==============================] - 5s 11ms/step - loss: 9.7782e-05 - val_loss: 1.2430e-04\n",
      "Epoch 16/30\n",
      "431/431 [==============================] - 5s 11ms/step - loss: 9.7306e-05 - val_loss: 8.3745e-05\n",
      "Epoch 17/30\n",
      "431/431 [==============================] - 5s 11ms/step - loss: 1.0656e-04 - val_loss: 4.4802e-05\n",
      "Epoch 18/30\n",
      "431/431 [==============================] - 5s 11ms/step - loss: 9.1769e-05 - val_loss: 2.2996e-05\n",
      "Epoch 19/30\n",
      "431/431 [==============================] - 5s 11ms/step - loss: 5.4155e-05 - val_loss: 2.8806e-05\n",
      "Epoch 20/30\n",
      "431/431 [==============================] - 5s 11ms/step - loss: 5.2793e-05 - val_loss: 7.6697e-05\n",
      "Epoch 21/30\n",
      "431/431 [==============================] - 5s 12ms/step - loss: 5.3947e-05 - val_loss: 8.3991e-05\n",
      "Epoch 22/30\n",
      "431/431 [==============================] - 5s 12ms/step - loss: 5.4108e-05 - val_loss: 2.3193e-05\n",
      "Epoch 23/30\n",
      "431/431 [==============================] - 5s 11ms/step - loss: 5.8772e-05 - val_loss: 6.8844e-05\n",
      "Epoch 24/30\n",
      "431/431 [==============================] - 5s 12ms/step - loss: 5.3437e-05 - val_loss: 3.6761e-05\n",
      "Epoch 25/30\n",
      "431/431 [==============================] - 5s 11ms/step - loss: 5.2921e-05 - val_loss: 4.2164e-05\n",
      "Epoch 26/30\n",
      "431/431 [==============================] - 5s 11ms/step - loss: 5.3071e-05 - val_loss: 6.3173e-05\n",
      "Epoch 27/30\n",
      "431/431 [==============================] - 5s 12ms/step - loss: 5.9856e-05 - val_loss: 2.2993e-05\n",
      "Epoch 28/30\n",
      "431/431 [==============================] - 6s 13ms/step - loss: 5.2661e-05 - val_loss: 2.8478e-05\n",
      "Epoch 29/30\n",
      "431/431 [==============================] - 5s 12ms/step - loss: 5.2223e-05 - val_loss: 7.6677e-05\n",
      "Epoch 30/30\n",
      "431/431 [==============================] - 6s 14ms/step - loss: 5.3097e-05 - val_loss: 8.2249e-05\n"
     ]
    }
   ],
   "source": [
    "# fit network\n",
    "lstm_history = model_lstm.fit(train_X, train_y, epochs=30,validation_data=(test_X, test_y), batch_size=50, shuffle=False)"
   ]
  },
  {
   "cell_type": "code",
   "execution_count": 18,
   "id": "7ec6f9a0",
   "metadata": {},
   "outputs": [],
   "source": [
    "pred_y =  model_lstm.predict(test_X)"
   ]
  },
  {
   "cell_type": "code",
   "execution_count": 19,
   "id": "357f00af",
   "metadata": {},
   "outputs": [
    {
     "data": {
      "image/png": "[encoded data removed]",
      "text/plain": [
       "<Figure size 432x288 with 1 Axes>"
      ]
     },
     "metadata": {
      "needs_background": "light"
     },
     "output_type": "display_data"
    }
   ],
   "source": [
    "pyplot.plot(lstm_history.history['loss'], label='LSTM train', color='brown')\n",
    "pyplot.plot(lstm_history.history['val_loss'], label='LSTM test', color='blue')\n",
    "pyplot.legend()\n",
    "pyplot.show()"
   ]
  },
  {
   "cell_type": "code",
   "execution_count": 21,
   "id": "b0f8dee5",
   "metadata": {},
   "outputs": [
    {
     "data": {
      "text/plain": [
       "array([[0.],\n",
       "       [0.],\n",
       "       [0.],\n",
       "       ...,\n",
       "       [0.],\n",
       "       [0.],\n",
       "       [0.]], dtype=float32)"
      ]
     },
     "execution_count": 21,
     "metadata": {},
     "output_type": "execute_result"
    }
   ],
   "source": [
    "test_y.reshape(21540,1)"
   ]
  },
  {
   "cell_type": "code",
   "execution_count": 22,
   "id": "2af6ef50",
   "metadata": {},
   "outputs": [
    {
     "data": {
      "text/plain": [
       "array([[8.2228005e-05],\n",
       "       [8.2134720e-05],\n",
       "       [8.2170794e-05],\n",
       "       ...,\n",
       "       [8.1956794e-05],\n",
       "       [8.1906837e-05],\n",
       "       [8.1361053e-05]], dtype=float32)"
      ]
     },
     "execution_count": 22,
     "metadata": {},
     "output_type": "execute_result"
    }
   ],
   "source": [
    "pred_y"
   ]
  },
  {
   "cell_type": "code",
   "execution_count": 23,
   "id": "1d31628e",
   "metadata": {},
   "outputs": [
    {
     "name": "stdout",
     "output_type": "stream",
     "text": [
      "6.764978e-09\n",
      "0.0\n",
      "8.224948578069596e-05\n",
      "8.2248655e-05\n"
     ]
    },
    {
     "data": {
      "image/png": "[encoded data removed]",
      "text/plain": [
       "<Figure size 720x360 with 1 Axes>"
      ]
     },
     "metadata": {
      "needs_background": "light"
     },
     "output_type": "display_data"
    }
   ],
   "source": [
    "import matplotlib.pyplot as plt\n",
    "plt.rcParams['figure.figsize'] = (10,5)\n",
    "\n",
    "from sklearn.metrics import *\n",
    "from math import sqrt\n",
    "\n",
    "MSE = mean_squared_error(test_y, pred_y)\n",
    "R2 = r2_score(test_y, pred_y)\n",
    "RMSE = sqrt(mean_squared_error(test_y, pred_y))\n",
    "MAE = mean_absolute_error(test_y, pred_y)\n",
    "\n",
    "\n",
    "print(MSE)\n",
    "print(R2)\n",
    "print(RMSE)\n",
    "print(MAE)\n",
    "\n",
    "#plotting predicted test value vs actual test value\n",
    "plt.plot(test_y, label = 'Actual')\n",
    "plt.plot(pred_y, label = 'Predicted')\n",
    "plt.legend()\n",
    "plt.show()"
   ]
  },
  {
   "cell_type": "code",
   "execution_count": 24,
   "id": "b647bd1a",
   "metadata": {},
   "outputs": [
    {
     "data": {
      "image/png": "[encoded data removed]",
      "text/plain": [
       "<Figure size 720x360 with 1 Axes>"
      ]
     },
     "metadata": {
      "needs_background": "light"
     },
     "output_type": "display_data"
    }
   ],
   "source": [
    "#visualization over full data\n",
    "tra = test_X\n",
    "tes = test_y\n",
    "fp = model_lstm.predict(tra)\n",
    "plt.plot(tes, label = 'Actual')\n",
    "plt.plot(fp, label = 'Predicted')\n",
    "plt.legend()\n",
    "plt.show()"
   ]
  },
  {
   "cell_type": "code",
   "execution_count": null,
   "id": "fc39e217",
   "metadata": {},
   "outputs": [],
   "source": []
  }
 ],
 "metadata": {
  "kernelspec": {
   "display_name": "Python 3 (ipykernel)",
   "language": "python",
   "name": "python3"
  },
  "language_info": {
   "codemirror_mode": {
    "name": "ipython",
    "version": 3
   },
   "file_extension": ".py",
   "mimetype": "text/x-python",
   "name": "python",
   "nbconvert_exporter": "python",
   "pygments_lexer": "ipython3",
   "version": "3.8.5"
  }
 },
 "nbformat": 4,
 "nbformat_minor": 5
}
