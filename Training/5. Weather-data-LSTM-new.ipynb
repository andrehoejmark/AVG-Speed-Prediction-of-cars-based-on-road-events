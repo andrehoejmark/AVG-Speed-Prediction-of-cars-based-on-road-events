{
 "cells": [
  {
   "cell_type": "code",
   "execution_count": 1,
   "id": "5985d116",
   "metadata": {},
   "outputs": [
    {
     "name": "stderr",
     "output_type": "stream",
     "text": [
      "C:\\Users\\vivs_\\anaconda3\\lib\\site-packages\\numpy\\_distributor_init.py:30: UserWarning: loaded more than 1 DLL from .libs:\n",
      "C:\\Users\\vivs_\\anaconda3\\lib\\site-packages\\numpy\\.libs\\libopenblas.PYQHXLVVQ7VESDPUVUADXEVJOBGHJPAY.gfortran-win_amd64.dll\n",
      "C:\\Users\\vivs_\\anaconda3\\lib\\site-packages\\numpy\\.libs\\libopenblas.WCDJNK7YVMPZQ2ME2ZZHJJRJ3JIKNDB7.gfortran-win_amd64.dll\n",
      "  warnings.warn(\"loaded more than 1 DLL from .libs:\\n%s\" %\n"
     ]
    }
   ],
   "source": [
    "import pandas as pd\n",
    "import numpy as np\n",
    "from math import sqrt\n",
    "from numpy import concatenate\n",
    "from matplotlib import pyplot\n",
    "from pandas import read_csv\n",
    "from pandas import DataFrame\n",
    "from pandas import concat\n",
    "from sklearn.preprocessing import MinMaxScaler\n",
    "from sklearn.preprocessing import LabelEncoder\n",
    "from sklearn.metrics import mean_squared_error\n",
    "from keras.models import Sequential\n",
    "from keras.layers import Dense\n",
    "from keras.layers import LSTM, GRU\n",
    "import tensorflow as tf\n",
    "from datetime import datetime\n",
    "import holidays\n",
    "import math"
   ]
  },
  {
   "cell_type": "code",
   "execution_count": 2,
   "id": "2f2df8b4",
   "metadata": {},
   "outputs": [],
   "source": [
    "segment_speeds = read_csv(\"60_min_seg.csv\", sep=\";\")\n",
    "wind_speed = read_csv(\"wind.csv\", sep=\";\")\n",
    "rain = read_csv(\"rain.csv\", sep=\";\")\n",
    "snow_depth = read_csv(\"snow.csv\", sep=\";\")\n",
    "temperature = read_csv(\"temp.csv\", sep=\";\")"
   ]
  },
  {
   "cell_type": "code",
   "execution_count": 3,
   "id": "d84dde66",
   "metadata": {
    "scrolled": true
   },
   "outputs": [
    {
     "data": {
      "text/html": [
       "<div>\n",
       "<style scoped>\n",
       "    .dataframe tbody tr th:only-of-type {\n",
       "        vertical-align: middle;\n",
       "    }\n",
       "\n",
       "    .dataframe tbody tr th {\n",
       "        vertical-align: top;\n",
       "    }\n",
       "\n",
       "    .dataframe thead th {\n",
       "        text-align: right;\n",
       "    }\n",
       "</style>\n",
       "<table border=\"1\" class=\"dataframe\">\n",
       "  <thead>\n",
       "    <tr style=\"text-align: right;\">\n",
       "      <th></th>\n",
       "      <th>Datum</th>\n",
       "      <th>Tid (UTC)</th>\n",
       "      <th>Nederbördsmängd</th>\n",
       "      <th>Kvalitet</th>\n",
       "    </tr>\n",
       "  </thead>\n",
       "  <tbody>\n",
       "    <tr>\n",
       "      <th>0</th>\n",
       "      <td>1995-08-01</td>\n",
       "      <td>00:00:00</td>\n",
       "      <td>0.0</td>\n",
       "      <td>Y</td>\n",
       "    </tr>\n",
       "    <tr>\n",
       "      <th>1</th>\n",
       "      <td>1995-08-01</td>\n",
       "      <td>01:00:00</td>\n",
       "      <td>0.0</td>\n",
       "      <td>Y</td>\n",
       "    </tr>\n",
       "    <tr>\n",
       "      <th>2</th>\n",
       "      <td>1995-08-01</td>\n",
       "      <td>02:00:00</td>\n",
       "      <td>0.0</td>\n",
       "      <td>Y</td>\n",
       "    </tr>\n",
       "    <tr>\n",
       "      <th>3</th>\n",
       "      <td>1995-08-01</td>\n",
       "      <td>03:00:00</td>\n",
       "      <td>0.0</td>\n",
       "      <td>Y</td>\n",
       "    </tr>\n",
       "    <tr>\n",
       "      <th>4</th>\n",
       "      <td>1995-08-01</td>\n",
       "      <td>04:00:00</td>\n",
       "      <td>0.0</td>\n",
       "      <td>Y</td>\n",
       "    </tr>\n",
       "  </tbody>\n",
       "</table>\n",
       "</div>"
      ],
      "text/plain": [
       "        Datum Tid (UTC)  Nederbördsmängd Kvalitet\n",
       "0  1995-08-01  00:00:00              0.0        Y\n",
       "1  1995-08-01  01:00:00              0.0        Y\n",
       "2  1995-08-01  02:00:00              0.0        Y\n",
       "3  1995-08-01  03:00:00              0.0        Y\n",
       "4  1995-08-01  04:00:00              0.0        Y"
      ]
     },
     "execution_count": 3,
     "metadata": {},
     "output_type": "execute_result"
    }
   ],
   "source": [
    "rain.head()"
   ]
  },
  {
   "cell_type": "code",
   "execution_count": 4,
   "id": "5e5455a1",
   "metadata": {},
   "outputs": [],
   "source": [
    "wind_speed = wind_speed.loc[(wind_speed['Datum'] >= \"2019-06-04\")]\n",
    "rain = rain.loc[(rain['Datum'] >= \"2019-06-04\")]\n",
    "snow_depth = snow_depth.loc[(snow_depth['Datum'] >= \"2019-06-04\")]\n",
    "temperature = temperature.loc[(temperature['Datum'] >= \"2019-06-04\")]"
   ]
  },
  {
   "cell_type": "code",
   "execution_count": 5,
   "id": "64a7e38a",
   "metadata": {},
   "outputs": [
    {
     "data": {
      "text/html": [
       "<div>\n",
       "<style scoped>\n",
       "    .dataframe tbody tr th:only-of-type {\n",
       "        vertical-align: middle;\n",
       "    }\n",
       "\n",
       "    .dataframe tbody tr th {\n",
       "        vertical-align: top;\n",
       "    }\n",
       "\n",
       "    .dataframe thead th {\n",
       "        text-align: right;\n",
       "    }\n",
       "</style>\n",
       "<table border=\"1\" class=\"dataframe\">\n",
       "  <thead>\n",
       "    <tr style=\"text-align: right;\">\n",
       "      <th></th>\n",
       "      <th>Datum</th>\n",
       "      <th>Tid (UTC)</th>\n",
       "      <th>Vindriktning</th>\n",
       "      <th>Kvalitet</th>\n",
       "      <th>Vindhastighet</th>\n",
       "      <th>Kvalitet.1</th>\n",
       "    </tr>\n",
       "  </thead>\n",
       "  <tbody>\n",
       "    <tr>\n",
       "      <th>297120</th>\n",
       "      <td>2019-06-04</td>\n",
       "      <td>00:00:00</td>\n",
       "      <td>192.0</td>\n",
       "      <td>G</td>\n",
       "      <td>4.7</td>\n",
       "      <td>G</td>\n",
       "    </tr>\n",
       "    <tr>\n",
       "      <th>297121</th>\n",
       "      <td>2019-06-04</td>\n",
       "      <td>01:00:00</td>\n",
       "      <td>204.0</td>\n",
       "      <td>G</td>\n",
       "      <td>5.0</td>\n",
       "      <td>G</td>\n",
       "    </tr>\n",
       "    <tr>\n",
       "      <th>297122</th>\n",
       "      <td>2019-06-04</td>\n",
       "      <td>02:00:00</td>\n",
       "      <td>211.0</td>\n",
       "      <td>G</td>\n",
       "      <td>4.8</td>\n",
       "      <td>G</td>\n",
       "    </tr>\n",
       "    <tr>\n",
       "      <th>297123</th>\n",
       "      <td>2019-06-04</td>\n",
       "      <td>03:00:00</td>\n",
       "      <td>214.0</td>\n",
       "      <td>G</td>\n",
       "      <td>4.9</td>\n",
       "      <td>G</td>\n",
       "    </tr>\n",
       "    <tr>\n",
       "      <th>297124</th>\n",
       "      <td>2019-06-04</td>\n",
       "      <td>04:00:00</td>\n",
       "      <td>231.0</td>\n",
       "      <td>G</td>\n",
       "      <td>6.7</td>\n",
       "      <td>G</td>\n",
       "    </tr>\n",
       "  </tbody>\n",
       "</table>\n",
       "</div>"
      ],
      "text/plain": [
       "             Datum Tid (UTC)  Vindriktning Kvalitet  Vindhastighet Kvalitet.1\n",
       "297120  2019-06-04  00:00:00         192.0        G            4.7          G\n",
       "297121  2019-06-04  01:00:00         204.0        G            5.0          G\n",
       "297122  2019-06-04  02:00:00         211.0        G            4.8          G\n",
       "297123  2019-06-04  03:00:00         214.0        G            4.9          G\n",
       "297124  2019-06-04  04:00:00         231.0        G            6.7          G"
      ]
     },
     "execution_count": 5,
     "metadata": {},
     "output_type": "execute_result"
    }
   ],
   "source": [
    "wind_speed.head(5)"
   ]
  },
  {
   "cell_type": "markdown",
   "id": "e7df75e3",
   "metadata": {},
   "source": [
    "Removing the first 24 records because the first 24 records are null values for traffic speed"
   ]
  },
  {
   "cell_type": "code",
   "execution_count": 6,
   "id": "07716dc4",
   "metadata": {},
   "outputs": [],
   "source": [
    "segment_speeds = segment_speeds[24:]"
   ]
  },
  {
   "cell_type": "markdown",
   "id": "d1e16c86",
   "metadata": {},
   "source": [
    "Adding days and hours to the dataset because that could make it easier for it to identify what time instead of receiving a date column which is more complex."
   ]
  },
  {
   "cell_type": "code",
   "execution_count": 7,
   "id": "cb517765",
   "metadata": {},
   "outputs": [],
   "source": [
    "pd.to_datetime(segment_speeds['StartTime'], format=\"%Y-%m-%d %H:%M:%S\")\n",
    "segment_speeds['hour'] = pd.DatetimeIndex(segment_speeds['StartTime']).hour\n",
    "segment_speeds['day'] = pd.DatetimeIndex(segment_speeds['StartTime']).dayofyear\n",
    "segment_speeds['year'] = pd.DatetimeIndex(segment_speeds['StartTime']).year\n",
    "segment_speeds['day_name'] = pd.DatetimeIndex(segment_speeds['StartTime']).day_name()"
   ]
  },
  {
   "cell_type": "code",
   "execution_count": 8,
   "id": "e464e9e6",
   "metadata": {},
   "outputs": [],
   "source": [
    "dummy1 = pd.get_dummies(segment_speeds['day_name'])"
   ]
  },
  {
   "cell_type": "code",
   "execution_count": 9,
   "id": "91885bcf",
   "metadata": {},
   "outputs": [],
   "source": [
    "segment_speeds = pd.concat([segment_speeds, dummy1], axis=1).drop('day_name', axis=1)"
   ]
  },
  {
   "cell_type": "markdown",
   "id": "6dea8062",
   "metadata": {},
   "source": [
    "Adding holidays"
   ]
  },
  {
   "cell_type": "code",
   "execution_count": 10,
   "id": "46e835dc",
   "metadata": {},
   "outputs": [],
   "source": [
    "sweden_holidays = holidays.country_holidays('SE')"
   ]
  },
  {
   "cell_type": "code",
   "execution_count": 11,
   "id": "b80f1af3",
   "metadata": {},
   "outputs": [],
   "source": [
    "holiday = []\n",
    " \n",
    "for date in segment_speeds[['StartTime']].values:\n",
    "    \n",
    "    year_month_day = date[0].split(' ')[0]\n",
    "    \n",
    "    res = sweden_holidays.get(str(year_month_day))\n",
    "    \n",
    "    if res != None and res != \"Söndag\":\n",
    "        holiday.append(1)\n",
    "    else:\n",
    "        holiday.append(0)\n",
    "\n",
    "segment_speeds['holiday'] = holiday"
   ]
  },
  {
   "cell_type": "markdown",
   "id": "fe504a2a",
   "metadata": {},
   "source": [
    "Interpolation is performed for null values"
   ]
  },
  {
   "cell_type": "code",
   "execution_count": 12,
   "id": "72201df1",
   "metadata": {},
   "outputs": [],
   "source": [
    "segment_speeds = segment_speeds.interpolate(method='linear', limit_direction='forward', axis=0)"
   ]
  },
  {
   "cell_type": "markdown",
   "id": "86a632a2",
   "metadata": {},
   "source": [
    "\n",
    "Now we merge the traffic speeds with the weather data and first need to put the segment speeds in same format as the weather data"
   ]
  },
  {
   "cell_type": "code",
   "execution_count": 13,
   "id": "27cfa873",
   "metadata": {},
   "outputs": [],
   "source": [
    "pd.to_datetime(temperature['Datum'], format=\"%Y-%m-%d\")\n",
    "pd.to_datetime(temperature['Tid (UTC)'], format=\"%H:%M:%S\")\n",
    "temperature['hour'] = pd.DatetimeIndex(temperature['Tid (UTC)']).hour\n",
    "temperature['day'] = pd.DatetimeIndex(temperature['Datum']).dayofyear\n",
    "temperature['year'] = pd.DatetimeIndex(temperature['Datum']).year\n",
    "\n",
    "pd.to_datetime(rain['Datum'], format=\"%Y-%m-%d\")\n",
    "pd.to_datetime(rain['Tid (UTC)'], format=\"%H:%M:%S\")\n",
    "rain['hour'] = pd.DatetimeIndex(rain['Tid (UTC)']).hour\n",
    "rain['day'] = pd.DatetimeIndex(rain['Datum']).dayofyear\n",
    "rain['year'] = pd.DatetimeIndex(rain['Datum']).year\n",
    "\n",
    "pd.to_datetime(wind_speed['Datum'], format=\"%Y-%m-%d\")\n",
    "pd.to_datetime(wind_speed['Tid (UTC)'], format=\"%H:%M:%S\")\n",
    "wind_speed['hour'] = pd.DatetimeIndex(wind_speed['Tid (UTC)']).hour\n",
    "wind_speed['day'] = pd.DatetimeIndex(wind_speed['Datum']).dayofyear\n",
    "wind_speed['year'] = pd.DatetimeIndex(wind_speed['Datum']).year\n",
    "\n",
    "pd.to_datetime(snow_depth['Datum'], format=\"%Y-%m-%d\")\n",
    "pd.to_datetime(snow_depth['Tid (UTC)'], format=\"%H:%M:%S\")\n",
    "snow_depth['hour'] = pd.DatetimeIndex(snow_depth['Tid (UTC)']).hour\n",
    "snow_depth['day'] = pd.DatetimeIndex(snow_depth['Datum']).dayofyear\n",
    "snow_depth['year'] = pd.DatetimeIndex(snow_depth['Datum']).year"
   ]
  },
  {
   "cell_type": "markdown",
   "id": "faed0af4",
   "metadata": {},
   "source": [
    "\n",
    "A left join is done to keep the values from the old data because for example snow_depth only have records certain days and then we could fill the NaN values from the left join with some approximation"
   ]
  },
  {
   "cell_type": "code",
   "execution_count": 14,
   "id": "4f7e66e9",
   "metadata": {},
   "outputs": [],
   "source": [
    "#segment_speeds_weather = segment_speeds[['SegmentId', 'hour', 'day', 'year', 'Speed']]\n",
    "segment_speeds_weather = segment_speeds\n",
    "\n",
    "segment_speeds_weather = pd.merge(segment_speeds[['SegmentId', 'hour', 'day', 'year', 'Speed', 'Monday', 'Saturday', 'Sunday', 'Thursday', 'Tuesday', 'Wednesday', 'Friday', 'holiday']], temperature[['Lufttemperatur', 'hour', 'day', 'year']], on=['day', 'year', 'hour'], how='left')\n",
    "segment_speeds_weather = pd.merge(segment_speeds_weather, rain[['Nederbördsmängd', 'hour', 'day', 'year']], on=['day', 'year', 'hour'], how='left')\n",
    "segment_speeds_weather = pd.merge(segment_speeds_weather, wind_speed[['Vindhastighet', 'hour', 'day', 'year']], on=['day', 'year', 'hour'], how='left')\n",
    "segment_speeds_weather = pd.merge(segment_speeds_weather, snow_depth[['Snödjup', 'hour', 'day', 'year']], on=['day', 'year'], how='left')\n",
    "segment_speeds_weather.rename(columns = {'hour_x':'hour'}, inplace = True)\n",
    "segment_speeds_weather.drop('hour_y', axis=1, inplace=True)"
   ]
  },
  {
   "cell_type": "markdown",
   "id": "67497fee",
   "metadata": {},
   "source": [
    "Adding temperature based on last known temperature when missing data"
   ]
  },
  {
   "cell_type": "code",
   "execution_count": 15,
   "id": "1c2ff02b",
   "metadata": {},
   "outputs": [],
   "source": [
    "temp = []\n",
    "\n",
    "last_known_temperatuer = None\n",
    "for temperature in segment_speeds_weather[['Lufttemperatur']].values:\n",
    "\n",
    "\n",
    "    #print(temperature[0], type(temperature[0]))\n",
    "    if math.isnan(temperature[0]):\n",
    "        \n",
    "        if last_known_temperatuer == None:\n",
    "            print(\"The first NaN values has no previous value to put there\")\n",
    "        else:\n",
    "            temp.append(last_known_temperatuer)\n",
    "    else:\n",
    "        last_known_temperatuer = temperature[0]\n",
    "        temp.append(temperature[0])\n",
    "        \n",
    "\n",
    "segment_speeds_weather['Temperature-with-last-known-value-on-nan'] = temp"
   ]
  },
  {
   "cell_type": "markdown",
   "id": "efda2072",
   "metadata": {},
   "source": [
    "Adding AVG wind speed for NaN Values"
   ]
  },
  {
   "cell_type": "code",
   "execution_count": 16,
   "id": "d740fcac",
   "metadata": {},
   "outputs": [],
   "source": [
    "avg_wind_speed = segment_speeds_weather['Vindhastighet'].mean()\n",
    "\n",
    "\n",
    "wind_speeds = []\n",
    "\n",
    "for wind_speed in segment_speeds_weather[['Vindhastighet']].values:\n",
    "    \n",
    "    if math.isnan(wind_speed[0]):\n",
    "        wind_speeds.append(avg_wind_speed)\n",
    "    else:\n",
    "        wind_speeds.append(wind_speed[0])\n",
    "        \n",
    "\n",
    "segment_speeds_weather['Wind-speed-avg-when-nan'] = wind_speeds"
   ]
  },
  {
   "cell_type": "markdown",
   "id": "797bd1cf",
   "metadata": {},
   "source": [
    "Handle NAN values"
   ]
  },
  {
   "cell_type": "code",
   "execution_count": 17,
   "id": "e2d5ed80",
   "metadata": {},
   "outputs": [],
   "source": [
    "segment_speeds_weather['Lufttemperatur'] = segment_speeds_weather['Lufttemperatur'].interpolate(method='linear', limit_direction='forward', axis=0)\n",
    "segment_speeds_weather['Nederbördsmängd'] = segment_speeds_weather['Nederbördsmängd'].interpolate(method='linear', limit_direction='forward', axis=0)\n",
    "segment_speeds_weather['Vindhastighet'] = segment_speeds_weather['Vindhastighet'].interpolate(method='linear', limit_direction='forward', axis=0)\n",
    "segment_speeds_weather['Snödjup'] = segment_speeds_weather['Snödjup'].fillna(0)"
   ]
  },
  {
   "cell_type": "code",
   "execution_count": 18,
   "id": "30b1df71",
   "metadata": {},
   "outputs": [
    {
     "data": {
      "text/plain": [
       "SegmentId                                   0\n",
       "hour                                        0\n",
       "day                                         0\n",
       "year                                        0\n",
       "Speed                                       0\n",
       "Monday                                      0\n",
       "Saturday                                    0\n",
       "Sunday                                      0\n",
       "Thursday                                    0\n",
       "Tuesday                                     0\n",
       "Wednesday                                   0\n",
       "Friday                                      0\n",
       "holiday                                     0\n",
       "Lufttemperatur                              0\n",
       "Nederbördsmängd                             0\n",
       "Vindhastighet                               0\n",
       "Snödjup                                     0\n",
       "Temperature-with-last-known-value-on-nan    0\n",
       "Wind-speed-avg-when-nan                     0\n",
       "dtype: int64"
      ]
     },
     "execution_count": 18,
     "metadata": {},
     "output_type": "execute_result"
    }
   ],
   "source": [
    "segment_speeds_weather.isna().sum()"
   ]
  },
  {
   "cell_type": "markdown",
   "id": "b02a31db",
   "metadata": {},
   "source": [
    "Make it into CSV for us to use"
   ]
  },
  {
   "cell_type": "code",
   "execution_count": 19,
   "id": "297a6773",
   "metadata": {},
   "outputs": [],
   "source": [
    "segment_speeds_weather.to_csv(\"segment_speeds_weather.csv\", sep=\",\")"
   ]
  },
  {
   "cell_type": "code",
   "execution_count": 20,
   "id": "c6446f7e",
   "metadata": {},
   "outputs": [
    {
     "data": {
      "text/html": [
       "<div>\n",
       "<style scoped>\n",
       "    .dataframe tbody tr th:only-of-type {\n",
       "        vertical-align: middle;\n",
       "    }\n",
       "\n",
       "    .dataframe tbody tr th {\n",
       "        vertical-align: top;\n",
       "    }\n",
       "\n",
       "    .dataframe thead th {\n",
       "        text-align: right;\n",
       "    }\n",
       "</style>\n",
       "<table border=\"1\" class=\"dataframe\">\n",
       "  <thead>\n",
       "    <tr style=\"text-align: right;\">\n",
       "      <th></th>\n",
       "      <th>SegmentId</th>\n",
       "      <th>hour</th>\n",
       "      <th>day</th>\n",
       "      <th>year</th>\n",
       "      <th>Speed</th>\n",
       "      <th>Monday</th>\n",
       "      <th>Saturday</th>\n",
       "      <th>Sunday</th>\n",
       "      <th>Thursday</th>\n",
       "      <th>Tuesday</th>\n",
       "      <th>Wednesday</th>\n",
       "      <th>Friday</th>\n",
       "      <th>holiday</th>\n",
       "      <th>Lufttemperatur</th>\n",
       "      <th>Nederbördsmängd</th>\n",
       "      <th>Vindhastighet</th>\n",
       "      <th>Snödjup</th>\n",
       "      <th>Temperature-with-last-known-value-on-nan</th>\n",
       "      <th>Wind-speed-avg-when-nan</th>\n",
       "    </tr>\n",
       "  </thead>\n",
       "  <tbody>\n",
       "    <tr>\n",
       "      <th>0</th>\n",
       "      <td>226255131</td>\n",
       "      <td>0</td>\n",
       "      <td>155</td>\n",
       "      <td>2019</td>\n",
       "      <td>91.383333</td>\n",
       "      <td>0</td>\n",
       "      <td>0</td>\n",
       "      <td>0</td>\n",
       "      <td>0</td>\n",
       "      <td>1</td>\n",
       "      <td>0</td>\n",
       "      <td>0</td>\n",
       "      <td>0</td>\n",
       "      <td>13.7</td>\n",
       "      <td>0.0</td>\n",
       "      <td>4.7</td>\n",
       "      <td>0.0</td>\n",
       "      <td>13.7</td>\n",
       "      <td>4.7</td>\n",
       "    </tr>\n",
       "    <tr>\n",
       "      <th>1</th>\n",
       "      <td>226255131</td>\n",
       "      <td>1</td>\n",
       "      <td>155</td>\n",
       "      <td>2019</td>\n",
       "      <td>92.000000</td>\n",
       "      <td>0</td>\n",
       "      <td>0</td>\n",
       "      <td>0</td>\n",
       "      <td>0</td>\n",
       "      <td>1</td>\n",
       "      <td>0</td>\n",
       "      <td>0</td>\n",
       "      <td>0</td>\n",
       "      <td>14.1</td>\n",
       "      <td>0.0</td>\n",
       "      <td>5.0</td>\n",
       "      <td>0.0</td>\n",
       "      <td>14.1</td>\n",
       "      <td>5.0</td>\n",
       "    </tr>\n",
       "    <tr>\n",
       "      <th>2</th>\n",
       "      <td>226255131</td>\n",
       "      <td>2</td>\n",
       "      <td>155</td>\n",
       "      <td>2019</td>\n",
       "      <td>93.666667</td>\n",
       "      <td>0</td>\n",
       "      <td>0</td>\n",
       "      <td>0</td>\n",
       "      <td>0</td>\n",
       "      <td>1</td>\n",
       "      <td>0</td>\n",
       "      <td>0</td>\n",
       "      <td>0</td>\n",
       "      <td>14.2</td>\n",
       "      <td>0.0</td>\n",
       "      <td>4.8</td>\n",
       "      <td>0.0</td>\n",
       "      <td>14.2</td>\n",
       "      <td>4.8</td>\n",
       "    </tr>\n",
       "    <tr>\n",
       "      <th>3</th>\n",
       "      <td>226255131</td>\n",
       "      <td>3</td>\n",
       "      <td>155</td>\n",
       "      <td>2019</td>\n",
       "      <td>86.216667</td>\n",
       "      <td>0</td>\n",
       "      <td>0</td>\n",
       "      <td>0</td>\n",
       "      <td>0</td>\n",
       "      <td>1</td>\n",
       "      <td>0</td>\n",
       "      <td>0</td>\n",
       "      <td>0</td>\n",
       "      <td>14.3</td>\n",
       "      <td>0.0</td>\n",
       "      <td>4.9</td>\n",
       "      <td>0.0</td>\n",
       "      <td>14.3</td>\n",
       "      <td>4.9</td>\n",
       "    </tr>\n",
       "    <tr>\n",
       "      <th>4</th>\n",
       "      <td>226255131</td>\n",
       "      <td>4</td>\n",
       "      <td>155</td>\n",
       "      <td>2019</td>\n",
       "      <td>90.116667</td>\n",
       "      <td>0</td>\n",
       "      <td>0</td>\n",
       "      <td>0</td>\n",
       "      <td>0</td>\n",
       "      <td>1</td>\n",
       "      <td>0</td>\n",
       "      <td>0</td>\n",
       "      <td>0</td>\n",
       "      <td>13.6</td>\n",
       "      <td>0.0</td>\n",
       "      <td>6.7</td>\n",
       "      <td>0.0</td>\n",
       "      <td>13.6</td>\n",
       "      <td>6.7</td>\n",
       "    </tr>\n",
       "  </tbody>\n",
       "</table>\n",
       "</div>"
      ],
      "text/plain": [
       "   SegmentId  hour  day  year      Speed  Monday  Saturday  Sunday  Thursday  \\\n",
       "0  226255131     0  155  2019  91.383333       0         0       0         0   \n",
       "1  226255131     1  155  2019  92.000000       0         0       0         0   \n",
       "2  226255131     2  155  2019  93.666667       0         0       0         0   \n",
       "3  226255131     3  155  2019  86.216667       0         0       0         0   \n",
       "4  226255131     4  155  2019  90.116667       0         0       0         0   \n",
       "\n",
       "   Tuesday  Wednesday  Friday  holiday  Lufttemperatur  Nederbördsmängd  \\\n",
       "0        1          0       0        0            13.7              0.0   \n",
       "1        1          0       0        0            14.1              0.0   \n",
       "2        1          0       0        0            14.2              0.0   \n",
       "3        1          0       0        0            14.3              0.0   \n",
       "4        1          0       0        0            13.6              0.0   \n",
       "\n",
       "   Vindhastighet  Snödjup  Temperature-with-last-known-value-on-nan  \\\n",
       "0            4.7      0.0                                      13.7   \n",
       "1            5.0      0.0                                      14.1   \n",
       "2            4.8      0.0                                      14.2   \n",
       "3            4.9      0.0                                      14.3   \n",
       "4            6.7      0.0                                      13.6   \n",
       "\n",
       "   Wind-speed-avg-when-nan  \n",
       "0                      4.7  \n",
       "1                      5.0  \n",
       "2                      4.8  \n",
       "3                      4.9  \n",
       "4                      6.7  "
      ]
     },
     "execution_count": 20,
     "metadata": {},
     "output_type": "execute_result"
    }
   ],
   "source": [
    "segment_speeds_weather.head(5)"
   ]
  },
  {
   "cell_type": "code",
   "execution_count": 21,
   "id": "4e1d4b72",
   "metadata": {},
   "outputs": [],
   "source": [
    "dataset=segment_speeds_weather\n",
    "values = dataset.values\n",
    "# ensure all data is float\n",
    "values = values.astype('float32')"
   ]
  },
  {
   "cell_type": "code",
   "execution_count": 29,
   "id": "7dec6137",
   "metadata": {},
   "outputs": [
    {
     "data": {
      "text/html": [
       "<div>\n",
       "<style scoped>\n",
       "    .dataframe tbody tr th:only-of-type {\n",
       "        vertical-align: middle;\n",
       "    }\n",
       "\n",
       "    .dataframe tbody tr th {\n",
       "        vertical-align: top;\n",
       "    }\n",
       "\n",
       "    .dataframe thead th {\n",
       "        text-align: right;\n",
       "    }\n",
       "</style>\n",
       "<table border=\"1\" class=\"dataframe\">\n",
       "  <thead>\n",
       "    <tr style=\"text-align: right;\">\n",
       "      <th></th>\n",
       "      <th>0</th>\n",
       "      <th>1</th>\n",
       "      <th>2</th>\n",
       "      <th>3</th>\n",
       "      <th>4</th>\n",
       "      <th>5</th>\n",
       "      <th>6</th>\n",
       "      <th>7</th>\n",
       "      <th>8</th>\n",
       "      <th>9</th>\n",
       "      <th>10</th>\n",
       "      <th>11</th>\n",
       "      <th>12</th>\n",
       "      <th>13</th>\n",
       "      <th>14</th>\n",
       "      <th>15</th>\n",
       "      <th>16</th>\n",
       "      <th>17</th>\n",
       "      <th>18</th>\n",
       "    </tr>\n",
       "  </thead>\n",
       "  <tbody>\n",
       "    <tr>\n",
       "      <th>0</th>\n",
       "      <td>0.0</td>\n",
       "      <td>1.000000</td>\n",
       "      <td>4.79726</td>\n",
       "      <td>1.0</td>\n",
       "      <td>6.953828</td>\n",
       "      <td>1.0</td>\n",
       "      <td>1.0</td>\n",
       "      <td>1.0</td>\n",
       "      <td>1.0</td>\n",
       "      <td>10.0</td>\n",
       "      <td>1.0</td>\n",
       "      <td>1.0</td>\n",
       "      <td>1.0</td>\n",
       "      <td>6.600</td>\n",
       "      <td>1.0</td>\n",
       "      <td>3.136364</td>\n",
       "      <td>1.0</td>\n",
       "      <td>6.600</td>\n",
       "      <td>3.136364</td>\n",
       "    </tr>\n",
       "    <tr>\n",
       "      <th>1</th>\n",
       "      <td>0.0</td>\n",
       "      <td>1.391304</td>\n",
       "      <td>4.79726</td>\n",
       "      <td>1.0</td>\n",
       "      <td>6.997262</td>\n",
       "      <td>1.0</td>\n",
       "      <td>1.0</td>\n",
       "      <td>1.0</td>\n",
       "      <td>1.0</td>\n",
       "      <td>10.0</td>\n",
       "      <td>1.0</td>\n",
       "      <td>1.0</td>\n",
       "      <td>1.0</td>\n",
       "      <td>6.700</td>\n",
       "      <td>1.0</td>\n",
       "      <td>3.272727</td>\n",
       "      <td>1.0</td>\n",
       "      <td>6.700</td>\n",
       "      <td>3.272727</td>\n",
       "    </tr>\n",
       "    <tr>\n",
       "      <th>2</th>\n",
       "      <td>0.0</td>\n",
       "      <td>1.782609</td>\n",
       "      <td>4.79726</td>\n",
       "      <td>1.0</td>\n",
       "      <td>7.114647</td>\n",
       "      <td>1.0</td>\n",
       "      <td>1.0</td>\n",
       "      <td>1.0</td>\n",
       "      <td>1.0</td>\n",
       "      <td>10.0</td>\n",
       "      <td>1.0</td>\n",
       "      <td>1.0</td>\n",
       "      <td>1.0</td>\n",
       "      <td>6.725</td>\n",
       "      <td>1.0</td>\n",
       "      <td>3.181818</td>\n",
       "      <td>1.0</td>\n",
       "      <td>6.725</td>\n",
       "      <td>3.181818</td>\n",
       "    </tr>\n",
       "    <tr>\n",
       "      <th>3</th>\n",
       "      <td>0.0</td>\n",
       "      <td>2.173913</td>\n",
       "      <td>4.79726</td>\n",
       "      <td>1.0</td>\n",
       "      <td>6.589931</td>\n",
       "      <td>1.0</td>\n",
       "      <td>1.0</td>\n",
       "      <td>1.0</td>\n",
       "      <td>1.0</td>\n",
       "      <td>10.0</td>\n",
       "      <td>1.0</td>\n",
       "      <td>1.0</td>\n",
       "      <td>1.0</td>\n",
       "      <td>6.750</td>\n",
       "      <td>1.0</td>\n",
       "      <td>3.227273</td>\n",
       "      <td>1.0</td>\n",
       "      <td>6.750</td>\n",
       "      <td>3.227273</td>\n",
       "    </tr>\n",
       "  </tbody>\n",
       "</table>\n",
       "</div>"
      ],
      "text/plain": [
       "    0         1        2    3         4    5    6    7    8     9    10   11  \\\n",
       "0  0.0  1.000000  4.79726  1.0  6.953828  1.0  1.0  1.0  1.0  10.0  1.0  1.0   \n",
       "1  0.0  1.391304  4.79726  1.0  6.997262  1.0  1.0  1.0  1.0  10.0  1.0  1.0   \n",
       "2  0.0  1.782609  4.79726  1.0  7.114647  1.0  1.0  1.0  1.0  10.0  1.0  1.0   \n",
       "3  0.0  2.173913  4.79726  1.0  6.589931  1.0  1.0  1.0  1.0  10.0  1.0  1.0   \n",
       "\n",
       "    12     13   14        15   16     17        18  \n",
       "0  1.0  6.600  1.0  3.136364  1.0  6.600  3.136364  \n",
       "1  1.0  6.700  1.0  3.272727  1.0  6.700  3.272727  \n",
       "2  1.0  6.725  1.0  3.181818  1.0  6.725  3.181818  \n",
       "3  1.0  6.750  1.0  3.227273  1.0  6.750  3.227273  "
      ]
     },
     "execution_count": 29,
     "metadata": {},
     "output_type": "execute_result"
    }
   ],
   "source": [
    "# normalizing input features\n",
    "scaler = MinMaxScaler(feature_range=(1, 10))\n",
    "scaled = scaler.fit_transform(values)\n",
    "scaled =pd.DataFrame(scaled)\n",
    "scaled.head(4)"
   ]
  },
  {
   "cell_type": "code",
   "execution_count": 24,
   "id": "57b8d8aa",
   "metadata": {},
   "outputs": [],
   "source": [
    "def create_ts_data(dataset, lookback=1, predicted_col=2):\n",
    "    temp=dataset.copy()\n",
    "    temp[\"id\"]= range(1, len(temp)+1)\n",
    "    temp = temp.iloc[:-lookback, :]\n",
    "    temp.set_index('id', inplace =True)\n",
    "    predicted_value=dataset.copy()\n",
    "    predicted_value = predicted_value.iloc[lookback:,predicted_col]\n",
    "    predicted_value.columns=[\"Predcited\"]\n",
    "    predicted_value= pd.DataFrame(predicted_value)\n",
    "    \n",
    "    predicted_value[\"id\"]= range(1, len(predicted_value)+1)\n",
    "    predicted_value.set_index('id', inplace =True)\n",
    "    final_df= pd.concat([temp, predicted_value], axis=1)\n",
    "    #final_df.columns = ['var1(t-1)', 'var2(t-1)', 'var3(t-1)', 'var4(t-1)', 'var5(t-1)', 'var6(t-1)', 'var7(t-1)', 'var8(t-1)','var1(t)']\n",
    "    #final_df.set_index('Date', inplace=True)\n",
    "    return final_df"
   ]
  },
  {
   "cell_type": "code",
   "execution_count": 43,
   "id": "244b0543",
   "metadata": {},
   "outputs": [
    {
     "name": "stdout",
     "output_type": "stream",
     "text": [
      "    var1(t-1)  var2(t-1)  var3(t-1)  var4(t-1)  var5(t-1)  var6(t-1)  \\\n",
      "id                                                                     \n",
      "1         0.0   1.000000    4.79726        1.0   6.953828        1.0   \n",
      "2         0.0   1.391304    4.79726        1.0   6.997262        1.0   \n",
      "3         0.0   1.782609    4.79726        1.0   7.114647        1.0   \n",
      "4         0.0   2.173913    4.79726        1.0   6.589931        1.0   \n",
      "\n",
      "    var7(t-1)  var8(t-1)  var9(t-1)  var10(t-1)  var11(t-1)  var12(t-1)  \\\n",
      "id                                                                        \n",
      "1         1.0        1.0        1.0        10.0         1.0         1.0   \n",
      "2         1.0        1.0        1.0        10.0         1.0         1.0   \n",
      "3         1.0        1.0        1.0        10.0         1.0         1.0   \n",
      "4         1.0        1.0        1.0        10.0         1.0         1.0   \n",
      "\n",
      "    var13(t-1)  var14(t-1)  var15(t-1)  var16(t-1)  var17(t-1)  var18(t-1)  \\\n",
      "id                                                                           \n",
      "1          1.0       6.600         1.0    3.136364         1.0       6.600   \n",
      "2          1.0       6.700         1.0    3.272727         1.0       6.700   \n",
      "3          1.0       6.725         1.0    3.181818         1.0       6.725   \n",
      "4          1.0       6.750         1.0    3.227273         1.0       6.750   \n",
      "\n",
      "    var19(t-1)   var1(t)  \n",
      "id                        \n",
      "1     3.136364  4.090909  \n",
      "2     3.272727  3.636364  \n",
      "3     3.181818  3.954545  \n",
      "4     3.227273  3.454545  \n"
     ]
    }
   ],
   "source": [
    "#We now create the time series dataset with looking back one time step\n",
    "\n",
    "reframed_df= create_ts_data(scaled, 10,18)\n",
    "reframed_df.fillna(0, inplace=True)\n",
    "\n",
    "reframed_df.columns = ['var1(t-1)', 'var2(t-1)', 'var3(t-1)', 'var4(t-1)','var5(t-1)', 'var6(t-1)', 'var7(t-1)','var8(t-1)','var9(t-1)','var10(t-1)','var11(t-1)','var12(t-1)','var13(t-1)','var14(t-1)','var15(t-1)','var16(t-1)','var17(t-1)','var18(t-1)','var19(t-1)','var1(t)',]\n",
    "print(reframed_df.head(4))"
   ]
  },
  {
   "cell_type": "code",
   "execution_count": 44,
   "id": "7de9a776",
   "metadata": {},
   "outputs": [],
   "source": [
    "# split into train and test sets\n",
    "values = reframed_df.values\n",
    "training_sample =int( len(dataset) *0.75)\n",
    "train = values[:training_sample, :]\n",
    "test = values[training_sample:, :]\n",
    "# split into input and outputs\n",
    "train_X, train_y = train[:, :-1], train[:, -1]\n",
    "test_X, test_y = test[:, :-1], test[:, -1]"
   ]
  },
  {
   "cell_type": "code",
   "execution_count": 45,
   "id": "d595d5d6",
   "metadata": {},
   "outputs": [
    {
     "name": "stdout",
     "output_type": "stream",
     "text": [
      "(16164, 1, 19) (16164,) (5378, 1, 19) (5378,)\n"
     ]
    }
   ],
   "source": [
    "# reshape input to be 3D [samples, time steps, features]\n",
    "train_X = train_X.reshape((train_X.shape[0], 1, train_X.shape[1]))\n",
    "test_X = test_X.reshape((test_X.shape[0], 1, test_X.shape[1]))\n",
    "print(train_X.shape, train_y.shape, test_X.shape, test_y.shape)"
   ]
  },
  {
   "cell_type": "code",
   "execution_count": 46,
   "id": "b7070f8a",
   "metadata": {},
   "outputs": [
    {
     "name": "stdout",
     "output_type": "stream",
     "text": [
      "Model: \"sequential_1\"\n",
      "_________________________________________________________________\n",
      "Layer (type)                 Output Shape              Param #   \n",
      "=================================================================\n",
      "lstm_3 (LSTM)                (None, 1, 384)            620544    \n",
      "_________________________________________________________________\n",
      "lstm_4 (LSTM)                (None, 1, 70)             127400    \n",
      "_________________________________________________________________\n",
      "lstm_5 (LSTM)                (None, 70)                39480     \n",
      "_________________________________________________________________\n",
      "dense_1 (Dense)              (None, 1)                 71        \n",
      "=================================================================\n",
      "Total params: 787,495\n",
      "Trainable params: 787,495\n",
      "Non-trainable params: 0\n",
      "_________________________________________________________________\n"
     ]
    }
   ],
   "source": [
    "model_lstm = Sequential()\n",
    "model_lstm.add(LSTM(384, return_sequences=True,input_shape=(train_X.shape[1], train_X.shape[2])))\n",
    "model_lstm.add(LSTM(units=70, return_sequences=True))\n",
    "model_lstm.add(LSTM(units=70))\n",
    "model_lstm.add(Dense(units=1))\n",
    "\n",
    "model_lstm.compile(loss='mae', optimizer='adam')\n",
    "model_lstm.summary()"
   ]
  },
  {
   "cell_type": "code",
   "execution_count": 54,
   "id": "be4ccc4c",
   "metadata": {},
   "outputs": [
    {
     "name": "stdout",
     "output_type": "stream",
     "text": [
      "Epoch 1/120\n",
      "253/253 [==============================] - 2s 7ms/step - loss: 0.6936 - val_loss: 0.9862\n",
      "Epoch 2/120\n",
      "253/253 [==============================] - 2s 7ms/step - loss: 0.6918 - val_loss: 0.9891\n",
      "Epoch 3/120\n",
      "253/253 [==============================] - 2s 7ms/step - loss: 0.6851 - val_loss: 0.9899\n",
      "Epoch 4/120\n",
      "253/253 [==============================] - 2s 8ms/step - loss: 0.6864 - val_loss: 0.9932\n",
      "Epoch 5/120\n",
      "253/253 [==============================] - 2s 9ms/step - loss: 0.6825 - val_loss: 0.9904\n",
      "Epoch 6/120\n",
      "253/253 [==============================] - 2s 9ms/step - loss: 0.6814 - val_loss: 0.9932\n",
      "Epoch 7/120\n",
      "253/253 [==============================] - 2s 9ms/step - loss: 0.6789 - val_loss: 0.9930\n",
      "Epoch 8/120\n",
      "253/253 [==============================] - 2s 10ms/step - loss: 0.6760 - val_loss: 0.9975\n",
      "Epoch 9/120\n",
      "253/253 [==============================] - 2s 10ms/step - loss: 0.6715 - val_loss: 0.9973\n",
      "Epoch 10/120\n",
      "253/253 [==============================] - 2s 10ms/step - loss: 0.6732 - val_loss: 0.9979\n",
      "Epoch 11/120\n",
      "253/253 [==============================] - 3s 10ms/step - loss: 0.6755 - val_loss: 0.9945\n",
      "Epoch 12/120\n",
      "253/253 [==============================] - 3s 10ms/step - loss: 0.6754 - val_loss: 1.0073\n",
      "Epoch 13/120\n",
      "253/253 [==============================] - 3s 11ms/step - loss: 0.6651 - val_loss: 1.0063\n",
      "Epoch 14/120\n",
      "253/253 [==============================] - 2s 10ms/step - loss: 0.6571 - val_loss: 1.0031\n",
      "Epoch 15/120\n",
      "253/253 [==============================] - 2s 9ms/step - loss: 0.6590 - val_loss: 1.0119\n",
      "Epoch 16/120\n",
      "253/253 [==============================] - 2s 10ms/step - loss: 0.6556 - val_loss: 1.0155\n",
      "Epoch 17/120\n",
      "253/253 [==============================] - 2s 9ms/step - loss: 0.6566 - val_loss: 1.0115\n",
      "Epoch 18/120\n",
      "253/253 [==============================] - 2s 9ms/step - loss: 0.6574 - val_loss: 1.0120\n",
      "Epoch 19/120\n",
      "253/253 [==============================] - 3s 11ms/step - loss: 0.6542 - val_loss: 1.0088\n",
      "Epoch 20/120\n",
      "253/253 [==============================] - 3s 10ms/step - loss: 0.6554 - val_loss: 1.0101\n",
      "Epoch 21/120\n",
      "253/253 [==============================] - 3s 10ms/step - loss: 0.6467 - val_loss: 1.0201\n",
      "Epoch 22/120\n",
      "253/253 [==============================] - 3s 10ms/step - loss: 0.6456 - val_loss: 1.0217\n",
      "Epoch 23/120\n",
      "253/253 [==============================] - 3s 10ms/step - loss: 0.6414 - val_loss: 1.0118\n",
      "Epoch 24/120\n",
      "253/253 [==============================] - 3s 10ms/step - loss: 0.6419 - val_loss: 1.0168\n",
      "Epoch 25/120\n",
      "253/253 [==============================] - 3s 11ms/step - loss: 0.6352 - val_loss: 1.0262\n",
      "Epoch 26/120\n",
      "253/253 [==============================] - 3s 10ms/step - loss: 0.6334 - val_loss: 1.0154\n",
      "Epoch 27/120\n",
      "253/253 [==============================] - 3s 10ms/step - loss: 0.6343 - val_loss: 1.0230\n",
      "Epoch 28/120\n",
      "253/253 [==============================] - 3s 10ms/step - loss: 0.6386 - val_loss: 1.0248\n",
      "Epoch 29/120\n",
      "253/253 [==============================] - 3s 10ms/step - loss: 0.6346 - val_loss: 1.0347\n",
      "Epoch 30/120\n",
      "253/253 [==============================] - 3s 10ms/step - loss: 0.6318 - val_loss: 1.0218\n",
      "Epoch 31/120\n",
      "253/253 [==============================] - 3s 11ms/step - loss: 0.6286 - val_loss: 1.0345\n",
      "Epoch 32/120\n",
      "253/253 [==============================] - 3s 10ms/step - loss: 0.6264 - val_loss: 1.0314\n",
      "Epoch 33/120\n",
      "253/253 [==============================] - 2s 10ms/step - loss: 0.6212 - val_loss: 1.0429\n",
      "Epoch 34/120\n",
      "253/253 [==============================] - 3s 10ms/step - loss: 0.6191 - val_loss: 1.0368\n",
      "Epoch 35/120\n",
      "253/253 [==============================] - 2s 10ms/step - loss: 0.6191 - val_loss: 1.0312\n",
      "Epoch 36/120\n",
      "253/253 [==============================] - 2s 10ms/step - loss: 0.6206 - val_loss: 1.0312\n",
      "Epoch 37/120\n",
      "253/253 [==============================] - 2s 9ms/step - loss: 0.6217 - val_loss: 1.0346\n",
      "Epoch 38/120\n",
      "253/253 [==============================] - 2s 9ms/step - loss: 0.6146 - val_loss: 1.0230\n",
      "Epoch 39/120\n",
      "253/253 [==============================] - 2s 9ms/step - loss: 0.6064 - val_loss: 1.0304\n",
      "Epoch 40/120\n",
      "253/253 [==============================] - 2s 9ms/step - loss: 0.6100 - val_loss: 1.0356\n",
      "Epoch 41/120\n",
      "253/253 [==============================] - 2s 9ms/step - loss: 0.6083 - val_loss: 1.0382\n",
      "Epoch 42/120\n",
      "253/253 [==============================] - 2s 9ms/step - loss: 0.6087 - val_loss: 1.0330\n",
      "Epoch 43/120\n",
      "253/253 [==============================] - 2s 9ms/step - loss: 0.6104 - val_loss: 1.0420\n",
      "Epoch 44/120\n",
      "253/253 [==============================] - 2s 10ms/step - loss: 0.6059 - val_loss: 1.0368\n",
      "Epoch 45/120\n",
      "253/253 [==============================] - 2s 9ms/step - loss: 0.6008 - val_loss: 1.0328\n",
      "Epoch 46/120\n",
      "253/253 [==============================] - 2s 9ms/step - loss: 0.5938 - val_loss: 1.0306\n",
      "Epoch 47/120\n",
      "253/253 [==============================] - 2s 9ms/step - loss: 0.5937 - val_loss: 1.0452\n",
      "Epoch 48/120\n",
      "253/253 [==============================] - 2s 9ms/step - loss: 0.5929 - val_loss: 1.0325\n",
      "Epoch 49/120\n",
      "253/253 [==============================] - 2s 9ms/step - loss: 0.5924 - val_loss: 1.0415\n",
      "Epoch 50/120\n",
      "253/253 [==============================] - 2s 9ms/step - loss: 0.5939 - val_loss: 1.0386\n",
      "Epoch 51/120\n",
      "253/253 [==============================] - 2s 9ms/step - loss: 0.5936 - val_loss: 1.0560\n",
      "Epoch 52/120\n",
      "253/253 [==============================] - 2s 9ms/step - loss: 0.5930 - val_loss: 1.0421\n",
      "Epoch 53/120\n",
      "253/253 [==============================] - 2s 9ms/step - loss: 0.5893 - val_loss: 1.0483\n",
      "Epoch 54/120\n",
      "253/253 [==============================] - 2s 9ms/step - loss: 0.5817 - val_loss: 1.0412\n",
      "Epoch 55/120\n",
      "253/253 [==============================] - 2s 9ms/step - loss: 0.5829 - val_loss: 1.0516\n",
      "Epoch 56/120\n",
      "253/253 [==============================] - 3s 12ms/step - loss: 0.5828 - val_loss: 1.0497\n",
      "Epoch 57/120\n",
      "253/253 [==============================] - 3s 10ms/step - loss: 0.5789 - val_loss: 1.0505\n",
      "Epoch 58/120\n",
      "253/253 [==============================] - 3s 11ms/step - loss: 0.5811 - val_loss: 1.0588\n",
      "Epoch 59/120\n",
      "253/253 [==============================] - 2s 10ms/step - loss: 0.5787 - val_loss: 1.0493\n",
      "Epoch 60/120\n",
      "253/253 [==============================] - 3s 10ms/step - loss: 0.5735 - val_loss: 1.0517\n",
      "Epoch 61/120\n",
      "253/253 [==============================] - 3s 10ms/step - loss: 0.5737 - val_loss: 1.0479\n",
      "Epoch 62/120\n",
      "253/253 [==============================] - 2s 9ms/step - loss: 0.5696 - val_loss: 1.0601\n",
      "Epoch 63/120\n",
      "253/253 [==============================] - 2s 10ms/step - loss: 0.5721 - val_loss: 1.0499\n",
      "Epoch 64/120\n",
      "253/253 [==============================] - 3s 11ms/step - loss: 0.5680 - val_loss: 1.0544\n",
      "Epoch 65/120\n",
      "253/253 [==============================] - 3s 10ms/step - loss: 0.5672 - val_loss: 1.0545\n",
      "Epoch 66/120\n",
      "253/253 [==============================] - 3s 10ms/step - loss: 0.5669 - val_loss: 1.0516\n",
      "Epoch 67/120\n",
      "253/253 [==============================] - 3s 10ms/step - loss: 0.5663 - val_loss: 1.0376\n",
      "Epoch 68/120\n",
      "253/253 [==============================] - 3s 10ms/step - loss: 0.5691 - val_loss: 1.0526\n",
      "Epoch 69/120\n",
      "253/253 [==============================] - 3s 10ms/step - loss: 0.5620 - val_loss: 1.0470\n",
      "Epoch 70/120\n",
      "253/253 [==============================] - 3s 11ms/step - loss: 0.5589 - val_loss: 1.0576\n",
      "Epoch 71/120\n",
      "253/253 [==============================] - 3s 10ms/step - loss: 0.5565 - val_loss: 1.0437\n",
      "Epoch 72/120\n",
      "253/253 [==============================] - 3s 10ms/step - loss: 0.5553 - val_loss: 1.0563\n",
      "Epoch 73/120\n",
      "253/253 [==============================] - 3s 10ms/step - loss: 0.5562 - val_loss: 1.0581\n",
      "Epoch 74/120\n",
      "253/253 [==============================] - 3s 10ms/step - loss: 0.5561 - val_loss: 1.0540\n",
      "Epoch 75/120\n",
      "253/253 [==============================] - 3s 10ms/step - loss: 0.5546 - val_loss: 1.0572\n",
      "Epoch 76/120\n",
      "253/253 [==============================] - 3s 10ms/step - loss: 0.5527 - val_loss: 1.0580\n",
      "Epoch 77/120\n",
      "253/253 [==============================] - 3s 10ms/step - loss: 0.5505 - val_loss: 1.0560\n",
      "Epoch 78/120\n",
      "253/253 [==============================] - 3s 10ms/step - loss: 0.5527 - val_loss: 1.0533\n",
      "Epoch 79/120\n",
      "253/253 [==============================] - 3s 10ms/step - loss: 0.5471 - val_loss: 1.0607\n",
      "Epoch 80/120\n",
      "253/253 [==============================] - 3s 10ms/step - loss: 0.5425 - val_loss: 1.0729\n"
     ]
    },
    {
     "name": "stdout",
     "output_type": "stream",
     "text": [
      "Epoch 81/120\n",
      "253/253 [==============================] - 2s 10ms/step - loss: 0.5477 - val_loss: 1.0541\n",
      "Epoch 82/120\n",
      "253/253 [==============================] - 3s 10ms/step - loss: 0.5466 - val_loss: 1.0694\n",
      "Epoch 83/120\n",
      "253/253 [==============================] - 3s 11ms/step - loss: 0.5430 - val_loss: 1.0595\n",
      "Epoch 84/120\n",
      "253/253 [==============================] - 3s 10ms/step - loss: 0.5450 - val_loss: 1.0698\n",
      "Epoch 85/120\n",
      "253/253 [==============================] - 3s 10ms/step - loss: 0.5392 - val_loss: 1.0668\n",
      "Epoch 86/120\n",
      "253/253 [==============================] - 3s 10ms/step - loss: 0.5378 - val_loss: 1.0699\n",
      "Epoch 87/120\n",
      "253/253 [==============================] - 3s 10ms/step - loss: 0.5365 - val_loss: 1.0701\n",
      "Epoch 88/120\n",
      "253/253 [==============================] - 3s 10ms/step - loss: 0.5328 - val_loss: 1.0718\n",
      "Epoch 89/120\n",
      "253/253 [==============================] - 3s 11ms/step - loss: 0.5305 - val_loss: 1.0729\n",
      "Epoch 90/120\n",
      "253/253 [==============================] - 3s 10ms/step - loss: 0.5292 - val_loss: 1.0755\n",
      "Epoch 91/120\n",
      "253/253 [==============================] - 3s 11ms/step - loss: 0.5299 - val_loss: 1.0810\n",
      "Epoch 92/120\n",
      "253/253 [==============================] - 2s 9ms/step - loss: 0.5240 - val_loss: 1.0635\n",
      "Epoch 93/120\n",
      "253/253 [==============================] - 2s 10ms/step - loss: 0.5272 - val_loss: 1.0780\n",
      "Epoch 94/120\n",
      "253/253 [==============================] - 2s 9ms/step - loss: 0.5262 - val_loss: 1.0912\n",
      "Epoch 95/120\n",
      "253/253 [==============================] - 2s 10ms/step - loss: 0.5223 - val_loss: 1.0672\n",
      "Epoch 96/120\n",
      "253/253 [==============================] - 2s 10ms/step - loss: 0.5213 - val_loss: 1.0832\n",
      "Epoch 97/120\n",
      "253/253 [==============================] - 2s 9ms/step - loss: 0.5191 - val_loss: 1.0767\n",
      "Epoch 98/120\n",
      "253/253 [==============================] - 3s 10ms/step - loss: 0.5201 - val_loss: 1.0966\n",
      "Epoch 99/120\n",
      "253/253 [==============================] - 2s 9ms/step - loss: 0.5196 - val_loss: 1.0896\n",
      "Epoch 100/120\n",
      "253/253 [==============================] - 2s 9ms/step - loss: 0.5142 - val_loss: 1.0740\n",
      "Epoch 101/120\n",
      "253/253 [==============================] - 2s 9ms/step - loss: 0.5154 - val_loss: 1.1000\n",
      "Epoch 102/120\n",
      "253/253 [==============================] - 3s 10ms/step - loss: 0.5100 - val_loss: 1.0932\n",
      "Epoch 103/120\n",
      "253/253 [==============================] - 2s 9ms/step - loss: 0.5084 - val_loss: 1.0952\n",
      "Epoch 104/120\n",
      "253/253 [==============================] - 2s 9ms/step - loss: 0.5071 - val_loss: 1.0881\n",
      "Epoch 105/120\n",
      "253/253 [==============================] - 2s 10ms/step - loss: 0.5064 - val_loss: 1.0969\n",
      "Epoch 106/120\n",
      "253/253 [==============================] - 2s 10ms/step - loss: 0.5042 - val_loss: 1.0886\n",
      "Epoch 107/120\n",
      "253/253 [==============================] - 2s 10ms/step - loss: 0.5027 - val_loss: 1.0832\n",
      "Epoch 108/120\n",
      "253/253 [==============================] - 2s 10ms/step - loss: 0.5020 - val_loss: 1.0872\n",
      "Epoch 109/120\n",
      "253/253 [==============================] - 3s 10ms/step - loss: 0.5038 - val_loss: 1.0980\n",
      "Epoch 110/120\n",
      "253/253 [==============================] - 2s 10ms/step - loss: 0.5015 - val_loss: 1.0909\n",
      "Epoch 111/120\n",
      "253/253 [==============================] - 3s 10ms/step - loss: 0.4990 - val_loss: 1.0942\n",
      "Epoch 112/120\n",
      "253/253 [==============================] - 3s 10ms/step - loss: 0.4944 - val_loss: 1.0974\n",
      "Epoch 113/120\n",
      "253/253 [==============================] - 3s 10ms/step - loss: 0.4979 - val_loss: 1.1055\n",
      "Epoch 114/120\n",
      "253/253 [==============================] - 3s 10ms/step - loss: 0.5007 - val_loss: 1.0911\n",
      "Epoch 115/120\n",
      "253/253 [==============================] - 3s 11ms/step - loss: 0.4971 - val_loss: 1.1077\n",
      "Epoch 116/120\n",
      "253/253 [==============================] - 3s 10ms/step - loss: 0.4897 - val_loss: 1.1015\n",
      "Epoch 117/120\n",
      "253/253 [==============================] - 3s 10ms/step - loss: 0.4924 - val_loss: 1.1012\n",
      "Epoch 118/120\n",
      "253/253 [==============================] - 3s 10ms/step - loss: 0.4864 - val_loss: 1.1104\n",
      "Epoch 119/120\n",
      "253/253 [==============================] - 3s 10ms/step - loss: 0.4886 - val_loss: 1.0941\n",
      "Epoch 120/120\n",
      "253/253 [==============================] - 3s 10ms/step - loss: 0.4867 - val_loss: 1.0956\n"
     ]
    }
   ],
   "source": [
    "# fit network\n",
    "lstm_history = model_lstm.fit(train_X, train_y, epochs=120,validation_data=(test_X, test_y), batch_size=64, shuffle=False)"
   ]
  },
  {
   "cell_type": "code",
   "execution_count": 55,
   "id": "64c27292",
   "metadata": {},
   "outputs": [],
   "source": [
    "pred_y =  model_lstm.predict(test_X)"
   ]
  },
  {
   "cell_type": "code",
   "execution_count": 56,
   "id": "79044847",
   "metadata": {},
   "outputs": [
    {
     "data": {
      "image/png": "[encoded data removed]",
      "text/plain": [
       "<Figure size 720x360 with 1 Axes>"
      ]
     },
     "metadata": {
      "needs_background": "light"
     },
     "output_type": "display_data"
    }
   ],
   "source": [
    "pyplot.plot(lstm_history.history['loss'], label='lstm train', color='brown')\n",
    "pyplot.plot(lstm_history.history['val_loss'], label='lstm test', color='blue')\n",
    "pyplot.legend()\n",
    "pyplot.show()"
   ]
  },
  {
   "cell_type": "code",
   "execution_count": 57,
   "id": "01dedb4b",
   "metadata": {},
   "outputs": [
    {
     "data": {
      "text/plain": [
       "array([[2.409091 ],\n",
       "       [2.8636365],\n",
       "       [3.1363635],\n",
       "       ...,\n",
       "       [4.6818185],\n",
       "       [7.2727275],\n",
       "       [5.7272725]], dtype=float32)"
      ]
     },
     "execution_count": 57,
     "metadata": {},
     "output_type": "execute_result"
    }
   ],
   "source": [
    "test_y.reshape(5378,1)"
   ]
  },
  {
   "cell_type": "code",
   "execution_count": 58,
   "id": "48280702",
   "metadata": {},
   "outputs": [
    {
     "data": {
      "text/plain": [
       "array([[1.8225976],\n",
       "       [1.9691688],\n",
       "       [2.2509444],\n",
       "       ...,\n",
       "       [4.3579516],\n",
       "       [4.3486376],\n",
       "       [4.1836486]], dtype=float32)"
      ]
     },
     "execution_count": 58,
     "metadata": {},
     "output_type": "execute_result"
    }
   ],
   "source": [
    "pred_y"
   ]
  },
  {
   "cell_type": "code",
   "execution_count": 59,
   "id": "d1475a58",
   "metadata": {},
   "outputs": [
    {
     "name": "stdout",
     "output_type": "stream",
     "text": [
      "1.9658366\n",
      "-0.12738712261081941\n",
      "1.4020829662229937\n",
      "1.0956407\n"
     ]
    },
    {
     "data": {
      "image/png": "[encoded data removed]",
      "text/plain": [
       "<Figure size 720x360 with 1 Axes>"
      ]
     },
     "metadata": {
      "needs_background": "light"
     },
     "output_type": "display_data"
    }
   ],
   "source": [
    "import matplotlib.pyplot as plt\n",
    "plt.rcParams['figure.figsize'] = (10,5)\n",
    "\n",
    "from sklearn.metrics import *\n",
    "from math import sqrt\n",
    "\n",
    "MSE = mean_squared_error(test_y, pred_y)\n",
    "R2 = r2_score(test_y, pred_y)\n",
    "RMSE = sqrt(mean_squared_error(test_y, pred_y))\n",
    "MAE = mean_absolute_error(test_y, pred_y)\n",
    "\n",
    "\n",
    "print(MSE)\n",
    "print(R2)\n",
    "print(RMSE)\n",
    "print(MAE)\n",
    "\n",
    "#plotting predicted test value vs actual test value\n",
    "plt.plot(test_y, label = 'Actual')\n",
    "plt.plot(pred_y, label = 'Predicted')\n",
    "plt.legend()\n",
    "plt.show()"
   ]
  },
  {
   "cell_type": "code",
   "execution_count": 60,
   "id": "80ec9af5",
   "metadata": {},
   "outputs": [
    {
     "data": {
      "image/png": "[encoded data removed]",
      "text/plain": [
       "<Figure size 720x360 with 1 Axes>"
      ]
     },
     "metadata": {
      "needs_background": "light"
     },
     "output_type": "display_data"
    }
   ],
   "source": [
    "#visualization over full data\n",
    "tra = test_X\n",
    "tes = test_y\n",
    "fp = model_lstm.predict(tra)\n",
    "plt.plot(tes, label = 'Actual')\n",
    "plt.plot(fp, label = 'Predicted')\n",
    "plt.legend()\n",
    "plt.show()"
   ]
  },
  {
   "cell_type": "code",
   "execution_count": 61,
   "id": "69f2af14",
   "metadata": {},
   "outputs": [
    {
     "data": {
      "image/png": "[encoded data removed]",
      "text/plain": [
       "<Figure size 720x360 with 1 Axes>"
      ]
     },
     "metadata": {
      "needs_background": "light"
     },
     "output_type": "display_data"
    }
   ],
   "source": [
    "#over small part of data\n",
    "plt.plot(tes[:2000], label = 'Actual')\n",
    "plt.plot(fp[:2000], label = 'Predicted')\n",
    "plt.legend()\n",
    "plt.show()"
   ]
  },
  {
   "cell_type": "code",
   "execution_count": null,
   "id": "388920ed",
   "metadata": {},
   "outputs": [],
   "source": []
  }
 ],
 "metadata": {
  "kernelspec": {
   "display_name": "Python 3 (ipykernel)",
   "language": "python",
   "name": "python3"
  },
  "language_info": {
   "codemirror_mode": {
    "name": "ipython",
    "version": 3
   },
   "file_extension": ".py",
   "mimetype": "text/x-python",
   "name": "python",
   "nbconvert_exporter": "python",
   "pygments_lexer": "ipython3",
   "version": "3.8.5"
  }
 },
 "nbformat": 4,
 "nbformat_minor": 5
}
