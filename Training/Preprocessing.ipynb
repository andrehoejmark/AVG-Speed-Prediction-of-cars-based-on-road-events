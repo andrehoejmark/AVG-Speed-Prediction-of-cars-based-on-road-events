{
 "cells": [
  {
   "cell_type": "code",
   "execution_count": 1,
   "metadata": {},
   "outputs": [],
   "source": [
    "import numpy as np\n",
    "import pandas as pd\n",
    "import datetime as dt\n",
    "import matplotlib.pyplot as plt\n",
    "from sklearn.preprocessing import MinMaxScaler\n",
    "from sklearn.preprocessing import OneHotEncoder\n",
    "import holidays\n",
    "import math"
   ]
  },
  {
   "cell_type": "code",
   "execution_count": 2,
   "metadata": {},
   "outputs": [],
   "source": [
    "import tensorflow as tf\n",
    "from tensorflow.keras.models import Sequential\n",
    "from tensorflow.keras.optimizers import RMSprop\n",
    "from tensorflow.keras.backend import square, mean\n",
    "from tensorflow.keras.callbacks import EarlyStopping, ModelCheckpoint, TensorBoard, ReduceLROnPlateau\n",
    "from tensorflow.keras.layers import Input, Dense, GRU, Embedding"
   ]
  },
  {
   "cell_type": "code",
   "execution_count": 3,
   "metadata": {},
   "outputs": [],
   "source": [
    "segment_speeds = pd.read_csv(\"/home/andrehoejmark/Desktop/GitHub/AVG-Speed-Prediction-of-cars-based-on-road-events/data/segment-data/60-min-intervals/226255131.csv\", sep=\";\")\n",
    "wind_speed = pd.read_csv(\"/home/andrehoejmark/Desktop/GitHub/AVG-Speed-Prediction-of-cars-based-on-road-events/data/weather data/smhi-weather-station-data-wind-speed.csv\", sep=\",\")\n",
    "rain = pd.read_csv(\"/home/andrehoejmark/Desktop/GitHub/AVG-Speed-Prediction-of-cars-based-on-road-events/data/weather data/smhi-weather-station-data-rain-amount.csv\", sep=\",\")\n",
    "snow_depth = pd.read_csv(\"/home/andrehoejmark/Desktop/GitHub/AVG-Speed-Prediction-of-cars-based-on-road-events/data/weather data/smhi-weather-station-data-snow-depth.csv\", sep=\",\")\n",
    "temperature = pd.read_csv(\"/home/andrehoejmark/Desktop/GitHub/AVG-Speed-Prediction-of-cars-based-on-road-events/data/weather data/smhi-weather-station-data-temperature.csv\", sep=\",\")"
   ]
  },
  {
   "cell_type": "code",
   "execution_count": 4,
   "metadata": {},
   "outputs": [],
   "source": [
    "wind_speed = wind_speed.loc[(wind_speed['Datum'] >= \"2019-06-04\")]\n",
    "rain = rain.loc[(rain['Datum'] >= \"2019-06-04\")]\n",
    "snow_depth = snow_depth.loc[(snow_depth['Datum'] >= \"2019-06-04\")]\n",
    "temperature = temperature.loc[(temperature['Datum'] >= \"2019-06-04\")]"
   ]
  },
  {
   "cell_type": "code",
   "execution_count": 5,
   "metadata": {},
   "outputs": [
    {
     "data": {
      "text/html": [
       "<div>\n",
       "<style scoped>\n",
       "    .dataframe tbody tr th:only-of-type {\n",
       "        vertical-align: middle;\n",
       "    }\n",
       "\n",
       "    .dataframe tbody tr th {\n",
       "        vertical-align: top;\n",
       "    }\n",
       "\n",
       "    .dataframe thead th {\n",
       "        text-align: right;\n",
       "    }\n",
       "</style>\n",
       "<table border=\"1\" class=\"dataframe\">\n",
       "  <thead>\n",
       "    <tr style=\"text-align: right;\">\n",
       "      <th></th>\n",
       "      <th>SegmentId</th>\n",
       "      <th>StartTime</th>\n",
       "      <th>EndTime</th>\n",
       "      <th>Speed</th>\n",
       "    </tr>\n",
       "  </thead>\n",
       "  <tbody>\n",
       "    <tr>\n",
       "      <th>0</th>\n",
       "      <td>226255131</td>\n",
       "      <td>2019-06-03 00:00:00</td>\n",
       "      <td>2019-06-03 01:00:00</td>\n",
       "      <td>NaN</td>\n",
       "    </tr>\n",
       "    <tr>\n",
       "      <th>1</th>\n",
       "      <td>226255131</td>\n",
       "      <td>2019-06-03 01:00:00</td>\n",
       "      <td>2019-06-03 02:00:00</td>\n",
       "      <td>NaN</td>\n",
       "    </tr>\n",
       "    <tr>\n",
       "      <th>2</th>\n",
       "      <td>226255131</td>\n",
       "      <td>2019-06-03 02:00:00</td>\n",
       "      <td>2019-06-03 03:00:00</td>\n",
       "      <td>NaN</td>\n",
       "    </tr>\n",
       "    <tr>\n",
       "      <th>3</th>\n",
       "      <td>226255131</td>\n",
       "      <td>2019-06-03 03:00:00</td>\n",
       "      <td>2019-06-03 04:00:00</td>\n",
       "      <td>NaN</td>\n",
       "    </tr>\n",
       "    <tr>\n",
       "      <th>4</th>\n",
       "      <td>226255131</td>\n",
       "      <td>2019-06-03 04:00:00</td>\n",
       "      <td>2019-06-03 05:00:00</td>\n",
       "      <td>NaN</td>\n",
       "    </tr>\n",
       "  </tbody>\n",
       "</table>\n",
       "</div>"
      ],
      "text/plain": [
       "   SegmentId            StartTime              EndTime  Speed\n",
       "0  226255131  2019-06-03 00:00:00  2019-06-03 01:00:00    NaN\n",
       "1  226255131  2019-06-03 01:00:00  2019-06-03 02:00:00    NaN\n",
       "2  226255131  2019-06-03 02:00:00  2019-06-03 03:00:00    NaN\n",
       "3  226255131  2019-06-03 03:00:00  2019-06-03 04:00:00    NaN\n",
       "4  226255131  2019-06-03 04:00:00  2019-06-03 05:00:00    NaN"
      ]
     },
     "execution_count": 5,
     "metadata": {},
     "output_type": "execute_result"
    }
   ],
   "source": [
    "segment_speeds.head(5)"
   ]
  },
  {
   "cell_type": "code",
   "execution_count": 6,
   "metadata": {},
   "outputs": [
    {
     "data": {
      "text/html": [
       "<div>\n",
       "<style scoped>\n",
       "    .dataframe tbody tr th:only-of-type {\n",
       "        vertical-align: middle;\n",
       "    }\n",
       "\n",
       "    .dataframe tbody tr th {\n",
       "        vertical-align: top;\n",
       "    }\n",
       "\n",
       "    .dataframe thead th {\n",
       "        text-align: right;\n",
       "    }\n",
       "</style>\n",
       "<table border=\"1\" class=\"dataframe\">\n",
       "  <thead>\n",
       "    <tr style=\"text-align: right;\">\n",
       "      <th></th>\n",
       "      <th>Datum</th>\n",
       "      <th>Tid (UTC)</th>\n",
       "      <th>Vindriktning</th>\n",
       "      <th>Kvalitet</th>\n",
       "      <th>Vindhastighet</th>\n",
       "      <th>Kvalitet.1</th>\n",
       "    </tr>\n",
       "  </thead>\n",
       "  <tbody>\n",
       "    <tr>\n",
       "      <th>297120</th>\n",
       "      <td>2019-06-04</td>\n",
       "      <td>00:00:00</td>\n",
       "      <td>192.0</td>\n",
       "      <td>G</td>\n",
       "      <td>4.7</td>\n",
       "      <td>G</td>\n",
       "    </tr>\n",
       "    <tr>\n",
       "      <th>297121</th>\n",
       "      <td>2019-06-04</td>\n",
       "      <td>01:00:00</td>\n",
       "      <td>204.0</td>\n",
       "      <td>G</td>\n",
       "      <td>5.0</td>\n",
       "      <td>G</td>\n",
       "    </tr>\n",
       "    <tr>\n",
       "      <th>297122</th>\n",
       "      <td>2019-06-04</td>\n",
       "      <td>02:00:00</td>\n",
       "      <td>211.0</td>\n",
       "      <td>G</td>\n",
       "      <td>4.8</td>\n",
       "      <td>G</td>\n",
       "    </tr>\n",
       "    <tr>\n",
       "      <th>297123</th>\n",
       "      <td>2019-06-04</td>\n",
       "      <td>03:00:00</td>\n",
       "      <td>214.0</td>\n",
       "      <td>G</td>\n",
       "      <td>4.9</td>\n",
       "      <td>G</td>\n",
       "    </tr>\n",
       "    <tr>\n",
       "      <th>297124</th>\n",
       "      <td>2019-06-04</td>\n",
       "      <td>04:00:00</td>\n",
       "      <td>231.0</td>\n",
       "      <td>G</td>\n",
       "      <td>6.7</td>\n",
       "      <td>G</td>\n",
       "    </tr>\n",
       "  </tbody>\n",
       "</table>\n",
       "</div>"
      ],
      "text/plain": [
       "             Datum Tid (UTC)  Vindriktning Kvalitet  Vindhastighet Kvalitet.1\n",
       "297120  2019-06-04  00:00:00         192.0        G            4.7          G\n",
       "297121  2019-06-04  01:00:00         204.0        G            5.0          G\n",
       "297122  2019-06-04  02:00:00         211.0        G            4.8          G\n",
       "297123  2019-06-04  03:00:00         214.0        G            4.9          G\n",
       "297124  2019-06-04  04:00:00         231.0        G            6.7          G"
      ]
     },
     "execution_count": 6,
     "metadata": {},
     "output_type": "execute_result"
    }
   ],
   "source": [
    "wind_speed.head(5)"
   ]
  },
  {
   "cell_type": "code",
   "execution_count": 7,
   "metadata": {},
   "outputs": [
    {
     "data": {
      "text/html": [
       "<div>\n",
       "<style scoped>\n",
       "    .dataframe tbody tr th:only-of-type {\n",
       "        vertical-align: middle;\n",
       "    }\n",
       "\n",
       "    .dataframe tbody tr th {\n",
       "        vertical-align: top;\n",
       "    }\n",
       "\n",
       "    .dataframe thead th {\n",
       "        text-align: right;\n",
       "    }\n",
       "</style>\n",
       "<table border=\"1\" class=\"dataframe\">\n",
       "  <thead>\n",
       "    <tr style=\"text-align: right;\">\n",
       "      <th></th>\n",
       "      <th>Datum</th>\n",
       "      <th>Tid (UTC)</th>\n",
       "      <th>Nederbördsmängd</th>\n",
       "      <th>Kvalitet</th>\n",
       "    </tr>\n",
       "  </thead>\n",
       "  <tbody>\n",
       "    <tr>\n",
       "      <th>206305</th>\n",
       "      <td>2019-06-04</td>\n",
       "      <td>00:00:00</td>\n",
       "      <td>0.0</td>\n",
       "      <td>G</td>\n",
       "    </tr>\n",
       "    <tr>\n",
       "      <th>206306</th>\n",
       "      <td>2019-06-04</td>\n",
       "      <td>01:00:00</td>\n",
       "      <td>0.0</td>\n",
       "      <td>G</td>\n",
       "    </tr>\n",
       "    <tr>\n",
       "      <th>206307</th>\n",
       "      <td>2019-06-04</td>\n",
       "      <td>02:00:00</td>\n",
       "      <td>0.0</td>\n",
       "      <td>G</td>\n",
       "    </tr>\n",
       "    <tr>\n",
       "      <th>206308</th>\n",
       "      <td>2019-06-04</td>\n",
       "      <td>03:00:00</td>\n",
       "      <td>0.0</td>\n",
       "      <td>G</td>\n",
       "    </tr>\n",
       "    <tr>\n",
       "      <th>206309</th>\n",
       "      <td>2019-06-04</td>\n",
       "      <td>04:00:00</td>\n",
       "      <td>0.0</td>\n",
       "      <td>G</td>\n",
       "    </tr>\n",
       "  </tbody>\n",
       "</table>\n",
       "</div>"
      ],
      "text/plain": [
       "             Datum Tid (UTC)  Nederbördsmängd Kvalitet\n",
       "206305  2019-06-04  00:00:00              0.0        G\n",
       "206306  2019-06-04  01:00:00              0.0        G\n",
       "206307  2019-06-04  02:00:00              0.0        G\n",
       "206308  2019-06-04  03:00:00              0.0        G\n",
       "206309  2019-06-04  04:00:00              0.0        G"
      ]
     },
     "execution_count": 7,
     "metadata": {},
     "output_type": "execute_result"
    }
   ],
   "source": [
    "rain.head(5)"
   ]
  },
  {
   "cell_type": "code",
   "execution_count": 8,
   "metadata": {},
   "outputs": [
    {
     "data": {
      "text/html": [
       "<div>\n",
       "<style scoped>\n",
       "    .dataframe tbody tr th:only-of-type {\n",
       "        vertical-align: middle;\n",
       "    }\n",
       "\n",
       "    .dataframe tbody tr th {\n",
       "        vertical-align: top;\n",
       "    }\n",
       "\n",
       "    .dataframe thead th {\n",
       "        text-align: right;\n",
       "    }\n",
       "</style>\n",
       "<table border=\"1\" class=\"dataframe\">\n",
       "  <thead>\n",
       "    <tr style=\"text-align: right;\">\n",
       "      <th></th>\n",
       "      <th>Datum</th>\n",
       "      <th>Tid (UTC)</th>\n",
       "      <th>Snödjup</th>\n",
       "      <th>Kvalitet</th>\n",
       "      <th>Markens tillstånd</th>\n",
       "      <th>Kvalitet.1</th>\n",
       "    </tr>\n",
       "  </thead>\n",
       "  <tbody>\n",
       "    <tr>\n",
       "      <th>4731</th>\n",
       "      <td>2019-06-04</td>\n",
       "      <td>06:00:00</td>\n",
       "      <td>0.0</td>\n",
       "      <td>G</td>\n",
       "      <td>0.0</td>\n",
       "      <td>G</td>\n",
       "    </tr>\n",
       "    <tr>\n",
       "      <th>4732</th>\n",
       "      <td>2019-06-05</td>\n",
       "      <td>06:00:00</td>\n",
       "      <td>0.0</td>\n",
       "      <td>G</td>\n",
       "      <td>0.0</td>\n",
       "      <td>G</td>\n",
       "    </tr>\n",
       "    <tr>\n",
       "      <th>4733</th>\n",
       "      <td>2019-06-06</td>\n",
       "      <td>06:00:00</td>\n",
       "      <td>0.0</td>\n",
       "      <td>G</td>\n",
       "      <td>0.0</td>\n",
       "      <td>G</td>\n",
       "    </tr>\n",
       "    <tr>\n",
       "      <th>4734</th>\n",
       "      <td>2019-06-07</td>\n",
       "      <td>06:00:00</td>\n",
       "      <td>0.0</td>\n",
       "      <td>G</td>\n",
       "      <td>0.0</td>\n",
       "      <td>G</td>\n",
       "    </tr>\n",
       "    <tr>\n",
       "      <th>4735</th>\n",
       "      <td>2019-06-08</td>\n",
       "      <td>06:00:00</td>\n",
       "      <td>0.0</td>\n",
       "      <td>G</td>\n",
       "      <td>0.0</td>\n",
       "      <td>G</td>\n",
       "    </tr>\n",
       "  </tbody>\n",
       "</table>\n",
       "</div>"
      ],
      "text/plain": [
       "           Datum Tid (UTC)  Snödjup Kvalitet  Markens tillstånd Kvalitet.1\n",
       "4731  2019-06-04  06:00:00      0.0        G                0.0          G\n",
       "4732  2019-06-05  06:00:00      0.0        G                0.0          G\n",
       "4733  2019-06-06  06:00:00      0.0        G                0.0          G\n",
       "4734  2019-06-07  06:00:00      0.0        G                0.0          G\n",
       "4735  2019-06-08  06:00:00      0.0        G                0.0          G"
      ]
     },
     "execution_count": 8,
     "metadata": {},
     "output_type": "execute_result"
    }
   ],
   "source": [
    "snow_depth.head(5)"
   ]
  },
  {
   "cell_type": "code",
   "execution_count": 9,
   "metadata": {},
   "outputs": [
    {
     "data": {
      "text/html": [
       "<div>\n",
       "<style scoped>\n",
       "    .dataframe tbody tr th:only-of-type {\n",
       "        vertical-align: middle;\n",
       "    }\n",
       "\n",
       "    .dataframe tbody tr th {\n",
       "        vertical-align: top;\n",
       "    }\n",
       "\n",
       "    .dataframe thead th {\n",
       "        text-align: right;\n",
       "    }\n",
       "</style>\n",
       "<table border=\"1\" class=\"dataframe\">\n",
       "  <thead>\n",
       "    <tr style=\"text-align: right;\">\n",
       "      <th></th>\n",
       "      <th>Datum</th>\n",
       "      <th>Tid (UTC)</th>\n",
       "      <th>Lufttemperatur</th>\n",
       "      <th>Kvalitet</th>\n",
       "    </tr>\n",
       "  </thead>\n",
       "  <tbody>\n",
       "    <tr>\n",
       "      <th>284343</th>\n",
       "      <td>2019-06-04</td>\n",
       "      <td>00:00:00</td>\n",
       "      <td>13.7</td>\n",
       "      <td>G</td>\n",
       "    </tr>\n",
       "    <tr>\n",
       "      <th>284344</th>\n",
       "      <td>2019-06-04</td>\n",
       "      <td>01:00:00</td>\n",
       "      <td>14.1</td>\n",
       "      <td>G</td>\n",
       "    </tr>\n",
       "    <tr>\n",
       "      <th>284345</th>\n",
       "      <td>2019-06-04</td>\n",
       "      <td>02:00:00</td>\n",
       "      <td>14.2</td>\n",
       "      <td>G</td>\n",
       "    </tr>\n",
       "    <tr>\n",
       "      <th>284346</th>\n",
       "      <td>2019-06-04</td>\n",
       "      <td>03:00:00</td>\n",
       "      <td>14.3</td>\n",
       "      <td>G</td>\n",
       "    </tr>\n",
       "    <tr>\n",
       "      <th>284347</th>\n",
       "      <td>2019-06-04</td>\n",
       "      <td>04:00:00</td>\n",
       "      <td>13.6</td>\n",
       "      <td>G</td>\n",
       "    </tr>\n",
       "  </tbody>\n",
       "</table>\n",
       "</div>"
      ],
      "text/plain": [
       "             Datum Tid (UTC)  Lufttemperatur Kvalitet\n",
       "284343  2019-06-04  00:00:00            13.7        G\n",
       "284344  2019-06-04  01:00:00            14.1        G\n",
       "284345  2019-06-04  02:00:00            14.2        G\n",
       "284346  2019-06-04  03:00:00            14.3        G\n",
       "284347  2019-06-04  04:00:00            13.6        G"
      ]
     },
     "execution_count": 9,
     "metadata": {},
     "output_type": "execute_result"
    }
   ],
   "source": [
    "temperature.head(5)"
   ]
  },
  {
   "cell_type": "markdown",
   "metadata": {},
   "source": [
    "Removing the first 24 records because the first 24 records are null values for traffic speed"
   ]
  },
  {
   "cell_type": "code",
   "execution_count": 10,
   "metadata": {},
   "outputs": [],
   "source": [
    "segment_speeds = segment_speeds[24:]"
   ]
  },
  {
   "cell_type": "markdown",
   "metadata": {},
   "source": [
    "Adding days and hours to the dataset because that could make it easier for it to identify what time instead of receiving a date column which is more complex."
   ]
  },
  {
   "cell_type": "code",
   "execution_count": 11,
   "metadata": {},
   "outputs": [],
   "source": [
    "pd.to_datetime(segment_speeds['StartTime'], format=\"%Y-%m-%d %H:%M:%S\")\n",
    "segment_speeds['hour'] = pd.DatetimeIndex(segment_speeds['StartTime']).hour\n",
    "segment_speeds['day'] = pd.DatetimeIndex(segment_speeds['StartTime']).dayofyear\n",
    "segment_speeds['year'] = pd.DatetimeIndex(segment_speeds['StartTime']).year\n",
    "segment_speeds['day_name'] = pd.DatetimeIndex(segment_speeds['StartTime']).day_name()"
   ]
  },
  {
   "cell_type": "code",
   "execution_count": 12,
   "metadata": {},
   "outputs": [],
   "source": [
    "dummy1 = pd.get_dummies(segment_speeds['day_name'])"
   ]
  },
  {
   "cell_type": "code",
   "execution_count": 13,
   "metadata": {},
   "outputs": [],
   "source": [
    "segment_speeds = pd.concat([segment_speeds, dummy1], axis=1).drop('day_name', axis=1)"
   ]
  },
  {
   "cell_type": "markdown",
   "metadata": {},
   "source": [
    "#### Adding holidays"
   ]
  },
  {
   "cell_type": "code",
   "execution_count": 14,
   "metadata": {},
   "outputs": [],
   "source": [
    "sweden_holidays = holidays.country_holidays('SE')"
   ]
  },
  {
   "cell_type": "code",
   "execution_count": 15,
   "metadata": {},
   "outputs": [],
   "source": [
    "holiday = []\n",
    " \n",
    "for date in segment_speeds[['StartTime']].values:\n",
    "    \n",
    "    year_month_day = date[0].split(' ')[0]\n",
    "    \n",
    "    res = sweden_holidays.get(str(year_month_day))\n",
    "    \n",
    "    if res != None and res != \"Söndag\":\n",
    "        holiday.append(1)\n",
    "    else:\n",
    "        holiday.append(0)\n",
    "\n",
    "segment_speeds['holiday'] = holiday"
   ]
  },
  {
   "cell_type": "markdown",
   "metadata": {},
   "source": [
    "#### Interpolation is performed for null values"
   ]
  },
  {
   "cell_type": "code",
   "execution_count": 16,
   "metadata": {},
   "outputs": [],
   "source": [
    "segment_speeds = segment_speeds.interpolate(method='linear', limit_direction='forward', axis=0)"
   ]
  },
  {
   "cell_type": "markdown",
   "metadata": {},
   "source": [
    "##### Now we merge the traffic speeds with the weather data and first need to put the segment speeds in same format as the weather data"
   ]
  },
  {
   "cell_type": "code",
   "execution_count": 17,
   "metadata": {},
   "outputs": [],
   "source": [
    "pd.to_datetime(temperature['Datum'], format=\"%Y-%m-%d\")\n",
    "pd.to_datetime(temperature['Tid (UTC)'], format=\"%H:%M:%S\")\n",
    "temperature['hour'] = pd.DatetimeIndex(temperature['Tid (UTC)']).hour\n",
    "temperature['day'] = pd.DatetimeIndex(temperature['Datum']).dayofyear\n",
    "temperature['year'] = pd.DatetimeIndex(temperature['Datum']).year\n",
    "\n",
    "pd.to_datetime(rain['Datum'], format=\"%Y-%m-%d\")\n",
    "pd.to_datetime(rain['Tid (UTC)'], format=\"%H:%M:%S\")\n",
    "rain['hour'] = pd.DatetimeIndex(rain['Tid (UTC)']).hour\n",
    "rain['day'] = pd.DatetimeIndex(rain['Datum']).dayofyear\n",
    "rain['year'] = pd.DatetimeIndex(rain['Datum']).year\n",
    "\n",
    "pd.to_datetime(wind_speed['Datum'], format=\"%Y-%m-%d\")\n",
    "pd.to_datetime(wind_speed['Tid (UTC)'], format=\"%H:%M:%S\")\n",
    "wind_speed['hour'] = pd.DatetimeIndex(wind_speed['Tid (UTC)']).hour\n",
    "wind_speed['day'] = pd.DatetimeIndex(wind_speed['Datum']).dayofyear\n",
    "wind_speed['year'] = pd.DatetimeIndex(wind_speed['Datum']).year\n",
    "\n",
    "pd.to_datetime(snow_depth['Datum'], format=\"%Y-%m-%d\")\n",
    "pd.to_datetime(snow_depth['Tid (UTC)'], format=\"%H:%M:%S\")\n",
    "snow_depth['hour'] = pd.DatetimeIndex(snow_depth['Tid (UTC)']).hour\n",
    "snow_depth['day'] = pd.DatetimeIndex(snow_depth['Datum']).dayofyear\n",
    "snow_depth['year'] = pd.DatetimeIndex(snow_depth['Datum']).year"
   ]
  },
  {
   "cell_type": "markdown",
   "metadata": {},
   "source": [
    "##### A left join is done to keep the values from the old data because for example snow_depth only have records certain days and then we could fill the NaN values from the left join with some approximation"
   ]
  },
  {
   "cell_type": "code",
   "execution_count": 18,
   "metadata": {},
   "outputs": [],
   "source": [
    "#segment_speeds_weather = segment_speeds[['SegmentId', 'hour', 'day', 'year', 'Speed']]\n",
    "segment_speeds_weather = segment_speeds\n",
    "\n",
    "segment_speeds_weather = pd.merge(segment_speeds[['SegmentId', 'hour', 'day', 'year', 'Speed', 'Monday', 'Saturday', 'Sunday', 'Thursday', 'Tuesday', 'Wednesday', 'Friday', 'holiday']], temperature[['Lufttemperatur', 'hour', 'day', 'year']], on=['day', 'year', 'hour'], how='left')\n",
    "segment_speeds_weather = pd.merge(segment_speeds_weather, rain[['Nederbördsmängd', 'hour', 'day', 'year']], on=['day', 'year', 'hour'], how='left')\n",
    "segment_speeds_weather = pd.merge(segment_speeds_weather, wind_speed[['Vindhastighet', 'hour', 'day', 'year']], on=['day', 'year', 'hour'], how='left')\n",
    "segment_speeds_weather = pd.merge(segment_speeds_weather, snow_depth[['Snödjup', 'hour', 'day', 'year']], on=['day', 'year'], how='left')\n",
    "segment_speeds_weather.rename(columns = {'hour_x':'hour'}, inplace = True)\n",
    "segment_speeds_weather.drop('hour_y', axis=1, inplace=True)"
   ]
  },
  {
   "cell_type": "markdown",
   "metadata": {},
   "source": [
    "#### Adding temperature based on last known temperature when missing data"
   ]
  },
  {
   "cell_type": "code",
   "execution_count": 19,
   "metadata": {},
   "outputs": [],
   "source": [
    "temp = []\n",
    "\n",
    "last_known_temperatuer = None\n",
    "for temperature in segment_speeds_weather[['Lufttemperatur']].values:\n",
    "\n",
    "\n",
    "    #print(temperature[0], type(temperature[0]))\n",
    "    if math.isnan(temperature[0]):\n",
    "        \n",
    "        if last_known_temperatuer == None:\n",
    "            print(\"The first NaN values has no previous value to put there\")\n",
    "        else:\n",
    "            temp.append(last_known_temperatuer)\n",
    "    else:\n",
    "        last_known_temperatuer = temperature[0]\n",
    "        temp.append(temperature[0])\n",
    "        \n",
    "\n",
    "segment_speeds_weather['Temperature-with-last-known-value-on-nan'] = temp"
   ]
  },
  {
   "cell_type": "markdown",
   "metadata": {},
   "source": [
    "#### Adding AVG wind speed for NaN Values"
   ]
  },
  {
   "cell_type": "code",
   "execution_count": 20,
   "metadata": {},
   "outputs": [],
   "source": [
    "avg_wind_speed = segment_speeds_weather['Vindhastighet'].mean()\n",
    "\n",
    "\n",
    "wind_speeds = []\n",
    "\n",
    "for wind_speed in segment_speeds_weather[['Vindhastighet']].values:\n",
    "    \n",
    "    if math.isnan(wind_speed[0]):\n",
    "        wind_speeds.append(avg_wind_speed)\n",
    "    else:\n",
    "        wind_speeds.append(wind_speed[0])\n",
    "        \n",
    "\n",
    "segment_speeds_weather['Wind-speed-avg-when-nan'] = wind_speeds"
   ]
  },
  {
   "cell_type": "markdown",
   "metadata": {},
   "source": [
    "#### Handle NAN values"
   ]
  },
  {
   "cell_type": "code",
   "execution_count": 21,
   "metadata": {},
   "outputs": [],
   "source": [
    "segment_speeds_weather['Lufttemperatur'] = segment_speeds_weather['Lufttemperatur'].interpolate(method='linear', limit_direction='forward', axis=0)\n",
    "segment_speeds_weather['Nederbördsmängd'] = segment_speeds_weather['Nederbördsmängd'].interpolate(method='linear', limit_direction='forward', axis=0)\n",
    "segment_speeds_weather['Vindhastighet'] = segment_speeds_weather['Vindhastighet'].interpolate(method='linear', limit_direction='forward', axis=0)\n",
    "segment_speeds_weather['Snödjup'] = segment_speeds_weather['Snödjup'].fillna(0)"
   ]
  },
  {
   "cell_type": "code",
   "execution_count": 22,
   "metadata": {},
   "outputs": [
    {
     "data": {
      "text/plain": [
       "SegmentId                                   0\n",
       "hour                                        0\n",
       "day                                         0\n",
       "year                                        0\n",
       "Speed                                       0\n",
       "Monday                                      0\n",
       "Saturday                                    0\n",
       "Sunday                                      0\n",
       "Thursday                                    0\n",
       "Tuesday                                     0\n",
       "Wednesday                                   0\n",
       "Friday                                      0\n",
       "holiday                                     0\n",
       "Lufttemperatur                              0\n",
       "Nederbördsmängd                             0\n",
       "Vindhastighet                               0\n",
       "Snödjup                                     0\n",
       "Temperature-with-last-known-value-on-nan    0\n",
       "wind-speed-avg-when-nan                     0\n",
       "dtype: int64"
      ]
     },
     "execution_count": 22,
     "metadata": {},
     "output_type": "execute_result"
    }
   ],
   "source": [
    "segment_speeds_weather.isna().sum()"
   ]
  },
  {
   "cell_type": "markdown",
   "metadata": {},
   "source": [
    "#### Make it into CSV for us to use"
   ]
  },
  {
   "cell_type": "code",
   "execution_count": 23,
   "metadata": {},
   "outputs": [],
   "source": [
    "segment_speeds_weather.to_csv(\"segment_speeds_weather.csv\", sep=\",\")"
   ]
  },
  {
   "cell_type": "code",
   "execution_count": 24,
   "metadata": {},
   "outputs": [
    {
     "data": {
      "text/html": [
       "<div>\n",
       "<style scoped>\n",
       "    .dataframe tbody tr th:only-of-type {\n",
       "        vertical-align: middle;\n",
       "    }\n",
       "\n",
       "    .dataframe tbody tr th {\n",
       "        vertical-align: top;\n",
       "    }\n",
       "\n",
       "    .dataframe thead th {\n",
       "        text-align: right;\n",
       "    }\n",
       "</style>\n",
       "<table border=\"1\" class=\"dataframe\">\n",
       "  <thead>\n",
       "    <tr style=\"text-align: right;\">\n",
       "      <th></th>\n",
       "      <th>SegmentId</th>\n",
       "      <th>hour</th>\n",
       "      <th>day</th>\n",
       "      <th>year</th>\n",
       "      <th>Speed</th>\n",
       "      <th>Monday</th>\n",
       "      <th>Saturday</th>\n",
       "      <th>Sunday</th>\n",
       "      <th>Thursday</th>\n",
       "      <th>Tuesday</th>\n",
       "      <th>Wednesday</th>\n",
       "      <th>Friday</th>\n",
       "      <th>holiday</th>\n",
       "      <th>Lufttemperatur</th>\n",
       "      <th>Nederbördsmängd</th>\n",
       "      <th>Vindhastighet</th>\n",
       "      <th>Snödjup</th>\n",
       "      <th>Temperature-with-last-known-value-on-nan</th>\n",
       "      <th>wind-speed-avg-when-nan</th>\n",
       "    </tr>\n",
       "  </thead>\n",
       "  <tbody>\n",
       "    <tr>\n",
       "      <th>0</th>\n",
       "      <td>226255131</td>\n",
       "      <td>0</td>\n",
       "      <td>155</td>\n",
       "      <td>2019</td>\n",
       "      <td>91.383333</td>\n",
       "      <td>0</td>\n",
       "      <td>0</td>\n",
       "      <td>0</td>\n",
       "      <td>0</td>\n",
       "      <td>1</td>\n",
       "      <td>0</td>\n",
       "      <td>0</td>\n",
       "      <td>0</td>\n",
       "      <td>13.7</td>\n",
       "      <td>0.0</td>\n",
       "      <td>4.7</td>\n",
       "      <td>0.0</td>\n",
       "      <td>13.7</td>\n",
       "      <td>4.7</td>\n",
       "    </tr>\n",
       "    <tr>\n",
       "      <th>1</th>\n",
       "      <td>226255131</td>\n",
       "      <td>1</td>\n",
       "      <td>155</td>\n",
       "      <td>2019</td>\n",
       "      <td>92.000000</td>\n",
       "      <td>0</td>\n",
       "      <td>0</td>\n",
       "      <td>0</td>\n",
       "      <td>0</td>\n",
       "      <td>1</td>\n",
       "      <td>0</td>\n",
       "      <td>0</td>\n",
       "      <td>0</td>\n",
       "      <td>14.1</td>\n",
       "      <td>0.0</td>\n",
       "      <td>5.0</td>\n",
       "      <td>0.0</td>\n",
       "      <td>14.1</td>\n",
       "      <td>5.0</td>\n",
       "    </tr>\n",
       "    <tr>\n",
       "      <th>2</th>\n",
       "      <td>226255131</td>\n",
       "      <td>2</td>\n",
       "      <td>155</td>\n",
       "      <td>2019</td>\n",
       "      <td>93.666667</td>\n",
       "      <td>0</td>\n",
       "      <td>0</td>\n",
       "      <td>0</td>\n",
       "      <td>0</td>\n",
       "      <td>1</td>\n",
       "      <td>0</td>\n",
       "      <td>0</td>\n",
       "      <td>0</td>\n",
       "      <td>14.2</td>\n",
       "      <td>0.0</td>\n",
       "      <td>4.8</td>\n",
       "      <td>0.0</td>\n",
       "      <td>14.2</td>\n",
       "      <td>4.8</td>\n",
       "    </tr>\n",
       "    <tr>\n",
       "      <th>3</th>\n",
       "      <td>226255131</td>\n",
       "      <td>3</td>\n",
       "      <td>155</td>\n",
       "      <td>2019</td>\n",
       "      <td>86.216667</td>\n",
       "      <td>0</td>\n",
       "      <td>0</td>\n",
       "      <td>0</td>\n",
       "      <td>0</td>\n",
       "      <td>1</td>\n",
       "      <td>0</td>\n",
       "      <td>0</td>\n",
       "      <td>0</td>\n",
       "      <td>14.3</td>\n",
       "      <td>0.0</td>\n",
       "      <td>4.9</td>\n",
       "      <td>0.0</td>\n",
       "      <td>14.3</td>\n",
       "      <td>4.9</td>\n",
       "    </tr>\n",
       "    <tr>\n",
       "      <th>4</th>\n",
       "      <td>226255131</td>\n",
       "      <td>4</td>\n",
       "      <td>155</td>\n",
       "      <td>2019</td>\n",
       "      <td>90.116667</td>\n",
       "      <td>0</td>\n",
       "      <td>0</td>\n",
       "      <td>0</td>\n",
       "      <td>0</td>\n",
       "      <td>1</td>\n",
       "      <td>0</td>\n",
       "      <td>0</td>\n",
       "      <td>0</td>\n",
       "      <td>13.6</td>\n",
       "      <td>0.0</td>\n",
       "      <td>6.7</td>\n",
       "      <td>0.0</td>\n",
       "      <td>13.6</td>\n",
       "      <td>6.7</td>\n",
       "    </tr>\n",
       "  </tbody>\n",
       "</table>\n",
       "</div>"
      ],
      "text/plain": [
       "   SegmentId  hour  day  year      Speed  Monday  Saturday  Sunday  Thursday  \\\n",
       "0  226255131     0  155  2019  91.383333       0         0       0         0   \n",
       "1  226255131     1  155  2019  92.000000       0         0       0         0   \n",
       "2  226255131     2  155  2019  93.666667       0         0       0         0   \n",
       "3  226255131     3  155  2019  86.216667       0         0       0         0   \n",
       "4  226255131     4  155  2019  90.116667       0         0       0         0   \n",
       "\n",
       "   Tuesday  Wednesday  Friday  holiday  Lufttemperatur  Nederbördsmängd  \\\n",
       "0        1          0       0        0            13.7              0.0   \n",
       "1        1          0       0        0            14.1              0.0   \n",
       "2        1          0       0        0            14.2              0.0   \n",
       "3        1          0       0        0            14.3              0.0   \n",
       "4        1          0       0        0            13.6              0.0   \n",
       "\n",
       "   Vindhastighet  Snödjup  Temperature-with-last-known-value-on-nan  \\\n",
       "0            4.7      0.0                                      13.7   \n",
       "1            5.0      0.0                                      14.1   \n",
       "2            4.8      0.0                                      14.2   \n",
       "3            4.9      0.0                                      14.3   \n",
       "4            6.7      0.0                                      13.6   \n",
       "\n",
       "   wind-speed-avg-when-nan  \n",
       "0                      4.7  \n",
       "1                      5.0  \n",
       "2                      4.8  \n",
       "3                      4.9  \n",
       "4                      6.7  "
      ]
     },
     "execution_count": 24,
     "metadata": {},
     "output_type": "execute_result"
    }
   ],
   "source": [
    "segment_speeds_weather.head(5)"
   ]
  },
  {
   "cell_type": "code",
   "execution_count": null,
   "metadata": {},
   "outputs": [],
   "source": []
  },
  {
   "cell_type": "code",
   "execution_count": null,
   "metadata": {},
   "outputs": [],
   "source": []
  },
  {
   "cell_type": "code",
   "execution_count": null,
   "metadata": {},
   "outputs": [],
   "source": []
  },
  {
   "cell_type": "code",
   "execution_count": null,
   "metadata": {},
   "outputs": [],
   "source": []
  },
  {
   "cell_type": "code",
   "execution_count": null,
   "metadata": {},
   "outputs": [],
   "source": []
  },
  {
   "cell_type": "code",
   "execution_count": null,
   "metadata": {},
   "outputs": [],
   "source": []
  },
  {
   "cell_type": "code",
   "execution_count": null,
   "metadata": {},
   "outputs": [],
   "source": []
  },
  {
   "cell_type": "code",
   "execution_count": null,
   "metadata": {},
   "outputs": [],
   "source": []
  },
  {
   "cell_type": "code",
   "execution_count": null,
   "metadata": {},
   "outputs": [],
   "source": []
  }
 ],
 "metadata": {
  "hide_input": false,
  "kernelspec": {
   "display_name": "Python 3",
   "language": "python",
   "name": "python3"
  },
  "language_info": {
   "codemirror_mode": {
    "name": "ipython",
    "version": 3
   },
   "file_extension": ".py",
   "mimetype": "text/x-python",
   "name": "python",
   "nbconvert_exporter": "python",
   "pygments_lexer": "ipython3",
   "version": "3.6.15"
  },
  "latex_envs": {
   "LaTeX_envs_menu_present": true,
   "autoclose": false,
   "autocomplete": true,
   "bibliofile": "biblio.bib",
   "cite_by": "apalike",
   "current_citInitial": 1,
   "eqLabelWithNumbers": true,
   "eqNumInitial": 1,
   "hotkeys": {
    "equation": "Ctrl-E",
    "itemize": "Ctrl-I"
   },
   "labels_anchors": false,
   "latex_user_defs": false,
   "report_style_numbering": false,
   "user_envs_cfg": false
  }
 },
 "nbformat": 4,
 "nbformat_minor": 4
}
