{
 "cells": [
  {
   "cell_type": "code",
   "execution_count": 1,
   "metadata": {},
   "outputs": [],
   "source": [
    "import numpy as np\n",
    "import pandas as pd\n",
    "import datetime as dt\n",
    "import matplotlib.pyplot as plt\n",
    "from sklearn.preprocessing import MinMaxScaler"
   ]
  },
  {
   "cell_type": "code",
   "execution_count": 2,
   "metadata": {},
   "outputs": [],
   "source": [
    "import tensorflow as tf\n",
    "from tensorflow.keras.models import Sequential\n",
    "from tensorflow.keras.optimizers import RMSprop\n",
    "from tensorflow.keras.backend import square, mean\n",
    "from tensorflow.keras.callbacks import EarlyStopping, ModelCheckpoint, TensorBoard, ReduceLROnPlateau\n",
    "from tensorflow.keras.layers import Input, Dense, GRU, Embedding"
   ]
  },
  {
   "cell_type": "code",
   "execution_count": 3,
   "metadata": {},
   "outputs": [],
   "source": [
    "segment_speeds = pd.read_csv(\"/home/andrehoejmark/Desktop/GitHub/AVG-Speed-Prediction-of-cars-based-on-road-events/data/segment-data/60-min-intervals/226255131.csv\", sep=\";\")\n",
    "wind_speed = pd.read_csv(\"/home/andrehoejmark/Desktop/GitHub/AVG-Speed-Prediction-of-cars-based-on-road-events/data/weather data/smhi-weather-station-data-wind-speed.csv\", sep=\",\")\n",
    "rain = pd.read_csv(\"/home/andrehoejmark/Desktop/GitHub/AVG-Speed-Prediction-of-cars-based-on-road-events/data/weather data/smhi-weather-station-data-rain-amount.csv\", sep=\",\")\n",
    "snow_depth = pd.read_csv(\"/home/andrehoejmark/Desktop/GitHub/AVG-Speed-Prediction-of-cars-based-on-road-events/data/weather data/smhi-weather-station-data-snow-depth.csv\", sep=\",\")\n",
    "temperature = pd.read_csv(\"/home/andrehoejmark/Desktop/GitHub/AVG-Speed-Prediction-of-cars-based-on-road-events/data/weather data/smhi-weather-station-data-temperature.csv\", sep=\",\")"
   ]
  },
  {
   "cell_type": "code",
   "execution_count": 4,
   "metadata": {},
   "outputs": [],
   "source": [
    "wind_speed = wind_speed.loc[(wind_speed['Datum'] >= \"2019-06-04\")]\n",
    "rain = rain.loc[(rain['Datum'] >= \"2019-06-04\")]\n",
    "snow_depth = snow_depth.loc[(snow_depth['Datum'] >= \"2019-06-04\")]\n",
    "temperature = temperature.loc[(temperature['Datum'] >= \"2019-06-04\")]"
   ]
  },
  {
   "cell_type": "code",
   "execution_count": 5,
   "metadata": {},
   "outputs": [
    {
     "data": {
      "text/html": [
       "<div>\n",
       "<style scoped>\n",
       "    .dataframe tbody tr th:only-of-type {\n",
       "        vertical-align: middle;\n",
       "    }\n",
       "\n",
       "    .dataframe tbody tr th {\n",
       "        vertical-align: top;\n",
       "    }\n",
       "\n",
       "    .dataframe thead th {\n",
       "        text-align: right;\n",
       "    }\n",
       "</style>\n",
       "<table border=\"1\" class=\"dataframe\">\n",
       "  <thead>\n",
       "    <tr style=\"text-align: right;\">\n",
       "      <th></th>\n",
       "      <th>SegmentId</th>\n",
       "      <th>StartTime</th>\n",
       "      <th>EndTime</th>\n",
       "      <th>Speed</th>\n",
       "    </tr>\n",
       "  </thead>\n",
       "  <tbody>\n",
       "    <tr>\n",
       "      <th>0</th>\n",
       "      <td>226255131</td>\n",
       "      <td>2019-06-03 00:00:00</td>\n",
       "      <td>2019-06-03 01:00:00</td>\n",
       "      <td>NaN</td>\n",
       "    </tr>\n",
       "    <tr>\n",
       "      <th>1</th>\n",
       "      <td>226255131</td>\n",
       "      <td>2019-06-03 01:00:00</td>\n",
       "      <td>2019-06-03 02:00:00</td>\n",
       "      <td>NaN</td>\n",
       "    </tr>\n",
       "    <tr>\n",
       "      <th>2</th>\n",
       "      <td>226255131</td>\n",
       "      <td>2019-06-03 02:00:00</td>\n",
       "      <td>2019-06-03 03:00:00</td>\n",
       "      <td>NaN</td>\n",
       "    </tr>\n",
       "    <tr>\n",
       "      <th>3</th>\n",
       "      <td>226255131</td>\n",
       "      <td>2019-06-03 03:00:00</td>\n",
       "      <td>2019-06-03 04:00:00</td>\n",
       "      <td>NaN</td>\n",
       "    </tr>\n",
       "    <tr>\n",
       "      <th>4</th>\n",
       "      <td>226255131</td>\n",
       "      <td>2019-06-03 04:00:00</td>\n",
       "      <td>2019-06-03 05:00:00</td>\n",
       "      <td>NaN</td>\n",
       "    </tr>\n",
       "  </tbody>\n",
       "</table>\n",
       "</div>"
      ],
      "text/plain": [
       "   SegmentId            StartTime              EndTime  Speed\n",
       "0  226255131  2019-06-03 00:00:00  2019-06-03 01:00:00    NaN\n",
       "1  226255131  2019-06-03 01:00:00  2019-06-03 02:00:00    NaN\n",
       "2  226255131  2019-06-03 02:00:00  2019-06-03 03:00:00    NaN\n",
       "3  226255131  2019-06-03 03:00:00  2019-06-03 04:00:00    NaN\n",
       "4  226255131  2019-06-03 04:00:00  2019-06-03 05:00:00    NaN"
      ]
     },
     "execution_count": 5,
     "metadata": {},
     "output_type": "execute_result"
    }
   ],
   "source": [
    "segment_speeds.head(5)"
   ]
  },
  {
   "cell_type": "code",
   "execution_count": 6,
   "metadata": {},
   "outputs": [
    {
     "data": {
      "text/html": [
       "<div>\n",
       "<style scoped>\n",
       "    .dataframe tbody tr th:only-of-type {\n",
       "        vertical-align: middle;\n",
       "    }\n",
       "\n",
       "    .dataframe tbody tr th {\n",
       "        vertical-align: top;\n",
       "    }\n",
       "\n",
       "    .dataframe thead th {\n",
       "        text-align: right;\n",
       "    }\n",
       "</style>\n",
       "<table border=\"1\" class=\"dataframe\">\n",
       "  <thead>\n",
       "    <tr style=\"text-align: right;\">\n",
       "      <th></th>\n",
       "      <th>Datum</th>\n",
       "      <th>Tid (UTC)</th>\n",
       "      <th>Vindriktning</th>\n",
       "      <th>Kvalitet</th>\n",
       "      <th>Vindhastighet</th>\n",
       "      <th>Kvalitet.1</th>\n",
       "    </tr>\n",
       "  </thead>\n",
       "  <tbody>\n",
       "    <tr>\n",
       "      <th>297120</th>\n",
       "      <td>2019-06-04</td>\n",
       "      <td>00:00:00</td>\n",
       "      <td>192.0</td>\n",
       "      <td>G</td>\n",
       "      <td>4.7</td>\n",
       "      <td>G</td>\n",
       "    </tr>\n",
       "    <tr>\n",
       "      <th>297121</th>\n",
       "      <td>2019-06-04</td>\n",
       "      <td>01:00:00</td>\n",
       "      <td>204.0</td>\n",
       "      <td>G</td>\n",
       "      <td>5.0</td>\n",
       "      <td>G</td>\n",
       "    </tr>\n",
       "    <tr>\n",
       "      <th>297122</th>\n",
       "      <td>2019-06-04</td>\n",
       "      <td>02:00:00</td>\n",
       "      <td>211.0</td>\n",
       "      <td>G</td>\n",
       "      <td>4.8</td>\n",
       "      <td>G</td>\n",
       "    </tr>\n",
       "    <tr>\n",
       "      <th>297123</th>\n",
       "      <td>2019-06-04</td>\n",
       "      <td>03:00:00</td>\n",
       "      <td>214.0</td>\n",
       "      <td>G</td>\n",
       "      <td>4.9</td>\n",
       "      <td>G</td>\n",
       "    </tr>\n",
       "    <tr>\n",
       "      <th>297124</th>\n",
       "      <td>2019-06-04</td>\n",
       "      <td>04:00:00</td>\n",
       "      <td>231.0</td>\n",
       "      <td>G</td>\n",
       "      <td>6.7</td>\n",
       "      <td>G</td>\n",
       "    </tr>\n",
       "  </tbody>\n",
       "</table>\n",
       "</div>"
      ],
      "text/plain": [
       "             Datum Tid (UTC)  Vindriktning Kvalitet  Vindhastighet Kvalitet.1\n",
       "297120  2019-06-04  00:00:00         192.0        G            4.7          G\n",
       "297121  2019-06-04  01:00:00         204.0        G            5.0          G\n",
       "297122  2019-06-04  02:00:00         211.0        G            4.8          G\n",
       "297123  2019-06-04  03:00:00         214.0        G            4.9          G\n",
       "297124  2019-06-04  04:00:00         231.0        G            6.7          G"
      ]
     },
     "execution_count": 6,
     "metadata": {},
     "output_type": "execute_result"
    }
   ],
   "source": [
    "wind_speed.head(5)"
   ]
  },
  {
   "cell_type": "code",
   "execution_count": 7,
   "metadata": {},
   "outputs": [
    {
     "data": {
      "text/html": [
       "<div>\n",
       "<style scoped>\n",
       "    .dataframe tbody tr th:only-of-type {\n",
       "        vertical-align: middle;\n",
       "    }\n",
       "\n",
       "    .dataframe tbody tr th {\n",
       "        vertical-align: top;\n",
       "    }\n",
       "\n",
       "    .dataframe thead th {\n",
       "        text-align: right;\n",
       "    }\n",
       "</style>\n",
       "<table border=\"1\" class=\"dataframe\">\n",
       "  <thead>\n",
       "    <tr style=\"text-align: right;\">\n",
       "      <th></th>\n",
       "      <th>Datum</th>\n",
       "      <th>Tid (UTC)</th>\n",
       "      <th>Nederbördsmängd</th>\n",
       "      <th>Kvalitet</th>\n",
       "    </tr>\n",
       "  </thead>\n",
       "  <tbody>\n",
       "    <tr>\n",
       "      <th>206305</th>\n",
       "      <td>2019-06-04</td>\n",
       "      <td>00:00:00</td>\n",
       "      <td>0.0</td>\n",
       "      <td>G</td>\n",
       "    </tr>\n",
       "    <tr>\n",
       "      <th>206306</th>\n",
       "      <td>2019-06-04</td>\n",
       "      <td>01:00:00</td>\n",
       "      <td>0.0</td>\n",
       "      <td>G</td>\n",
       "    </tr>\n",
       "    <tr>\n",
       "      <th>206307</th>\n",
       "      <td>2019-06-04</td>\n",
       "      <td>02:00:00</td>\n",
       "      <td>0.0</td>\n",
       "      <td>G</td>\n",
       "    </tr>\n",
       "    <tr>\n",
       "      <th>206308</th>\n",
       "      <td>2019-06-04</td>\n",
       "      <td>03:00:00</td>\n",
       "      <td>0.0</td>\n",
       "      <td>G</td>\n",
       "    </tr>\n",
       "    <tr>\n",
       "      <th>206309</th>\n",
       "      <td>2019-06-04</td>\n",
       "      <td>04:00:00</td>\n",
       "      <td>0.0</td>\n",
       "      <td>G</td>\n",
       "    </tr>\n",
       "  </tbody>\n",
       "</table>\n",
       "</div>"
      ],
      "text/plain": [
       "             Datum Tid (UTC)  Nederbördsmängd Kvalitet\n",
       "206305  2019-06-04  00:00:00              0.0        G\n",
       "206306  2019-06-04  01:00:00              0.0        G\n",
       "206307  2019-06-04  02:00:00              0.0        G\n",
       "206308  2019-06-04  03:00:00              0.0        G\n",
       "206309  2019-06-04  04:00:00              0.0        G"
      ]
     },
     "execution_count": 7,
     "metadata": {},
     "output_type": "execute_result"
    }
   ],
   "source": [
    "rain.head(5)"
   ]
  },
  {
   "cell_type": "code",
   "execution_count": 8,
   "metadata": {},
   "outputs": [
    {
     "data": {
      "text/html": [
       "<div>\n",
       "<style scoped>\n",
       "    .dataframe tbody tr th:only-of-type {\n",
       "        vertical-align: middle;\n",
       "    }\n",
       "\n",
       "    .dataframe tbody tr th {\n",
       "        vertical-align: top;\n",
       "    }\n",
       "\n",
       "    .dataframe thead th {\n",
       "        text-align: right;\n",
       "    }\n",
       "</style>\n",
       "<table border=\"1\" class=\"dataframe\">\n",
       "  <thead>\n",
       "    <tr style=\"text-align: right;\">\n",
       "      <th></th>\n",
       "      <th>Datum</th>\n",
       "      <th>Tid (UTC)</th>\n",
       "      <th>Snödjup</th>\n",
       "      <th>Kvalitet</th>\n",
       "      <th>Markens tillstånd</th>\n",
       "      <th>Kvalitet.1</th>\n",
       "    </tr>\n",
       "  </thead>\n",
       "  <tbody>\n",
       "    <tr>\n",
       "      <th>4731</th>\n",
       "      <td>2019-06-04</td>\n",
       "      <td>06:00:00</td>\n",
       "      <td>0.0</td>\n",
       "      <td>G</td>\n",
       "      <td>0.0</td>\n",
       "      <td>G</td>\n",
       "    </tr>\n",
       "    <tr>\n",
       "      <th>4732</th>\n",
       "      <td>2019-06-05</td>\n",
       "      <td>06:00:00</td>\n",
       "      <td>0.0</td>\n",
       "      <td>G</td>\n",
       "      <td>0.0</td>\n",
       "      <td>G</td>\n",
       "    </tr>\n",
       "    <tr>\n",
       "      <th>4733</th>\n",
       "      <td>2019-06-06</td>\n",
       "      <td>06:00:00</td>\n",
       "      <td>0.0</td>\n",
       "      <td>G</td>\n",
       "      <td>0.0</td>\n",
       "      <td>G</td>\n",
       "    </tr>\n",
       "    <tr>\n",
       "      <th>4734</th>\n",
       "      <td>2019-06-07</td>\n",
       "      <td>06:00:00</td>\n",
       "      <td>0.0</td>\n",
       "      <td>G</td>\n",
       "      <td>0.0</td>\n",
       "      <td>G</td>\n",
       "    </tr>\n",
       "    <tr>\n",
       "      <th>4735</th>\n",
       "      <td>2019-06-08</td>\n",
       "      <td>06:00:00</td>\n",
       "      <td>0.0</td>\n",
       "      <td>G</td>\n",
       "      <td>0.0</td>\n",
       "      <td>G</td>\n",
       "    </tr>\n",
       "  </tbody>\n",
       "</table>\n",
       "</div>"
      ],
      "text/plain": [
       "           Datum Tid (UTC)  Snödjup Kvalitet  Markens tillstånd Kvalitet.1\n",
       "4731  2019-06-04  06:00:00      0.0        G                0.0          G\n",
       "4732  2019-06-05  06:00:00      0.0        G                0.0          G\n",
       "4733  2019-06-06  06:00:00      0.0        G                0.0          G\n",
       "4734  2019-06-07  06:00:00      0.0        G                0.0          G\n",
       "4735  2019-06-08  06:00:00      0.0        G                0.0          G"
      ]
     },
     "execution_count": 8,
     "metadata": {},
     "output_type": "execute_result"
    }
   ],
   "source": [
    "snow_depth.head(5)"
   ]
  },
  {
   "cell_type": "code",
   "execution_count": 9,
   "metadata": {},
   "outputs": [
    {
     "data": {
      "text/html": [
       "<div>\n",
       "<style scoped>\n",
       "    .dataframe tbody tr th:only-of-type {\n",
       "        vertical-align: middle;\n",
       "    }\n",
       "\n",
       "    .dataframe tbody tr th {\n",
       "        vertical-align: top;\n",
       "    }\n",
       "\n",
       "    .dataframe thead th {\n",
       "        text-align: right;\n",
       "    }\n",
       "</style>\n",
       "<table border=\"1\" class=\"dataframe\">\n",
       "  <thead>\n",
       "    <tr style=\"text-align: right;\">\n",
       "      <th></th>\n",
       "      <th>Datum</th>\n",
       "      <th>Tid (UTC)</th>\n",
       "      <th>Lufttemperatur</th>\n",
       "      <th>Kvalitet</th>\n",
       "    </tr>\n",
       "  </thead>\n",
       "  <tbody>\n",
       "    <tr>\n",
       "      <th>284343</th>\n",
       "      <td>2019-06-04</td>\n",
       "      <td>00:00:00</td>\n",
       "      <td>13.7</td>\n",
       "      <td>G</td>\n",
       "    </tr>\n",
       "    <tr>\n",
       "      <th>284344</th>\n",
       "      <td>2019-06-04</td>\n",
       "      <td>01:00:00</td>\n",
       "      <td>14.1</td>\n",
       "      <td>G</td>\n",
       "    </tr>\n",
       "    <tr>\n",
       "      <th>284345</th>\n",
       "      <td>2019-06-04</td>\n",
       "      <td>02:00:00</td>\n",
       "      <td>14.2</td>\n",
       "      <td>G</td>\n",
       "    </tr>\n",
       "    <tr>\n",
       "      <th>284346</th>\n",
       "      <td>2019-06-04</td>\n",
       "      <td>03:00:00</td>\n",
       "      <td>14.3</td>\n",
       "      <td>G</td>\n",
       "    </tr>\n",
       "    <tr>\n",
       "      <th>284347</th>\n",
       "      <td>2019-06-04</td>\n",
       "      <td>04:00:00</td>\n",
       "      <td>13.6</td>\n",
       "      <td>G</td>\n",
       "    </tr>\n",
       "  </tbody>\n",
       "</table>\n",
       "</div>"
      ],
      "text/plain": [
       "             Datum Tid (UTC)  Lufttemperatur Kvalitet\n",
       "284343  2019-06-04  00:00:00            13.7        G\n",
       "284344  2019-06-04  01:00:00            14.1        G\n",
       "284345  2019-06-04  02:00:00            14.2        G\n",
       "284346  2019-06-04  03:00:00            14.3        G\n",
       "284347  2019-06-04  04:00:00            13.6        G"
      ]
     },
     "execution_count": 9,
     "metadata": {},
     "output_type": "execute_result"
    }
   ],
   "source": [
    "temperature.head(5)"
   ]
  },
  {
   "cell_type": "markdown",
   "metadata": {},
   "source": [
    "# Preprocessing"
   ]
  },
  {
   "cell_type": "markdown",
   "metadata": {},
   "source": [
    "Removing the first 24 records because the first 24 records are null values for traffic speed"
   ]
  },
  {
   "cell_type": "code",
   "execution_count": 10,
   "metadata": {},
   "outputs": [],
   "source": [
    "segment_speeds = segment_speeds[24:]"
   ]
  },
  {
   "cell_type": "markdown",
   "metadata": {},
   "source": [
    "Adding days and hours to the dataset because that could make it easier for it to identify what time instead of receiving a date column which is more complex."
   ]
  },
  {
   "cell_type": "code",
   "execution_count": 11,
   "metadata": {},
   "outputs": [],
   "source": [
    "pd.to_datetime(segment_speeds['StartTime'], format=\"%Y-%m-%d %H:%M:%S\")\n",
    "segment_speeds['hour'] = pd.DatetimeIndex(segment_speeds['StartTime']).hour\n",
    "segment_speeds['day'] = pd.DatetimeIndex(segment_speeds['StartTime']).dayofyear\n",
    "segment_speeds['year'] = pd.DatetimeIndex(segment_speeds['StartTime']).year"
   ]
  },
  {
   "cell_type": "markdown",
   "metadata": {},
   "source": [
    "We now see now many null values are left"
   ]
  },
  {
   "cell_type": "code",
   "execution_count": 12,
   "metadata": {},
   "outputs": [
    {
     "data": {
      "text/plain": [
       "146"
      ]
     },
     "execution_count": 12,
     "metadata": {},
     "output_type": "execute_result"
    }
   ],
   "source": [
    "pd.isnull(segment_speeds).values.sum()"
   ]
  },
  {
   "cell_type": "markdown",
   "metadata": {},
   "source": [
    "Interpolation is performed for those values that null which means we should have no null values anymore"
   ]
  },
  {
   "cell_type": "code",
   "execution_count": 13,
   "metadata": {},
   "outputs": [],
   "source": [
    "segment_speeds = segment_speeds.interpolate(method='linear', limit_direction='forward', axis=0)"
   ]
  },
  {
   "cell_type": "markdown",
   "metadata": {},
   "source": [
    " "
   ]
  },
  {
   "cell_type": "markdown",
   "metadata": {},
   "source": [
    "Now we merge the traffic speeds with the weather data and first need to put the segment speeds in same format as the weather data"
   ]
  },
  {
   "cell_type": "code",
   "execution_count": 14,
   "metadata": {},
   "outputs": [],
   "source": [
    "pd.to_datetime(temperature['Datum'], format=\"%Y-%m-%d\")\n",
    "pd.to_datetime(temperature['Tid (UTC)'], format=\"%H:%M:%S\")\n",
    "temperature['hour'] = pd.DatetimeIndex(temperature['Tid (UTC)']).hour\n",
    "temperature['day'] = pd.DatetimeIndex(temperature['Datum']).dayofyear\n",
    "temperature['year'] = pd.DatetimeIndex(temperature['Datum']).year\n",
    "\n",
    "pd.to_datetime(rain['Datum'], format=\"%Y-%m-%d\")\n",
    "pd.to_datetime(rain['Tid (UTC)'], format=\"%H:%M:%S\")\n",
    "rain['hour'] = pd.DatetimeIndex(rain['Tid (UTC)']).hour\n",
    "rain['day'] = pd.DatetimeIndex(rain['Datum']).dayofyear\n",
    "rain['year'] = pd.DatetimeIndex(rain['Datum']).year\n",
    "\n",
    "pd.to_datetime(wind_speed['Datum'], format=\"%Y-%m-%d\")\n",
    "pd.to_datetime(wind_speed['Tid (UTC)'], format=\"%H:%M:%S\")\n",
    "wind_speed['hour'] = pd.DatetimeIndex(wind_speed['Tid (UTC)']).hour\n",
    "wind_speed['day'] = pd.DatetimeIndex(wind_speed['Datum']).dayofyear\n",
    "wind_speed['year'] = pd.DatetimeIndex(wind_speed['Datum']).year\n",
    "\n",
    "pd.to_datetime(snow_depth['Datum'], format=\"%Y-%m-%d\")\n",
    "pd.to_datetime(snow_depth['Tid (UTC)'], format=\"%H:%M:%S\")\n",
    "snow_depth['hour'] = pd.DatetimeIndex(snow_depth['Tid (UTC)']).hour\n",
    "snow_depth['day'] = pd.DatetimeIndex(snow_depth['Datum']).dayofyear\n",
    "snow_depth['year'] = pd.DatetimeIndex(snow_depth['Datum']).year"
   ]
  },
  {
   "cell_type": "markdown",
   "metadata": {},
   "source": [
    "Verfication that we now see hour, day, year columns with correct values which seem to be correct"
   ]
  },
  {
   "cell_type": "code",
   "execution_count": 15,
   "metadata": {},
   "outputs": [
    {
     "data": {
      "text/html": [
       "<div>\n",
       "<style scoped>\n",
       "    .dataframe tbody tr th:only-of-type {\n",
       "        vertical-align: middle;\n",
       "    }\n",
       "\n",
       "    .dataframe tbody tr th {\n",
       "        vertical-align: top;\n",
       "    }\n",
       "\n",
       "    .dataframe thead th {\n",
       "        text-align: right;\n",
       "    }\n",
       "</style>\n",
       "<table border=\"1\" class=\"dataframe\">\n",
       "  <thead>\n",
       "    <tr style=\"text-align: right;\">\n",
       "      <th></th>\n",
       "      <th>Datum</th>\n",
       "      <th>Tid (UTC)</th>\n",
       "      <th>Lufttemperatur</th>\n",
       "      <th>Kvalitet</th>\n",
       "      <th>hour</th>\n",
       "      <th>day</th>\n",
       "      <th>year</th>\n",
       "    </tr>\n",
       "  </thead>\n",
       "  <tbody>\n",
       "    <tr>\n",
       "      <th>284343</th>\n",
       "      <td>2019-06-04</td>\n",
       "      <td>00:00:00</td>\n",
       "      <td>13.7</td>\n",
       "      <td>G</td>\n",
       "      <td>0</td>\n",
       "      <td>155</td>\n",
       "      <td>2019</td>\n",
       "    </tr>\n",
       "    <tr>\n",
       "      <th>284344</th>\n",
       "      <td>2019-06-04</td>\n",
       "      <td>01:00:00</td>\n",
       "      <td>14.1</td>\n",
       "      <td>G</td>\n",
       "      <td>1</td>\n",
       "      <td>155</td>\n",
       "      <td>2019</td>\n",
       "    </tr>\n",
       "  </tbody>\n",
       "</table>\n",
       "</div>"
      ],
      "text/plain": [
       "             Datum Tid (UTC)  Lufttemperatur Kvalitet  hour  day  year\n",
       "284343  2019-06-04  00:00:00            13.7        G     0  155  2019\n",
       "284344  2019-06-04  01:00:00            14.1        G     1  155  2019"
      ]
     },
     "execution_count": 15,
     "metadata": {},
     "output_type": "execute_result"
    }
   ],
   "source": [
    "temperature.head(2)"
   ]
  },
  {
   "cell_type": "code",
   "execution_count": 16,
   "metadata": {},
   "outputs": [
    {
     "data": {
      "text/html": [
       "<div>\n",
       "<style scoped>\n",
       "    .dataframe tbody tr th:only-of-type {\n",
       "        vertical-align: middle;\n",
       "    }\n",
       "\n",
       "    .dataframe tbody tr th {\n",
       "        vertical-align: top;\n",
       "    }\n",
       "\n",
       "    .dataframe thead th {\n",
       "        text-align: right;\n",
       "    }\n",
       "</style>\n",
       "<table border=\"1\" class=\"dataframe\">\n",
       "  <thead>\n",
       "    <tr style=\"text-align: right;\">\n",
       "      <th></th>\n",
       "      <th>Datum</th>\n",
       "      <th>Tid (UTC)</th>\n",
       "      <th>Snödjup</th>\n",
       "      <th>Kvalitet</th>\n",
       "      <th>Markens tillstånd</th>\n",
       "      <th>Kvalitet.1</th>\n",
       "      <th>hour</th>\n",
       "      <th>day</th>\n",
       "      <th>year</th>\n",
       "    </tr>\n",
       "  </thead>\n",
       "  <tbody>\n",
       "    <tr>\n",
       "      <th>4731</th>\n",
       "      <td>2019-06-04</td>\n",
       "      <td>06:00:00</td>\n",
       "      <td>0.0</td>\n",
       "      <td>G</td>\n",
       "      <td>0.0</td>\n",
       "      <td>G</td>\n",
       "      <td>6</td>\n",
       "      <td>155</td>\n",
       "      <td>2019</td>\n",
       "    </tr>\n",
       "    <tr>\n",
       "      <th>4732</th>\n",
       "      <td>2019-06-05</td>\n",
       "      <td>06:00:00</td>\n",
       "      <td>0.0</td>\n",
       "      <td>G</td>\n",
       "      <td>0.0</td>\n",
       "      <td>G</td>\n",
       "      <td>6</td>\n",
       "      <td>156</td>\n",
       "      <td>2019</td>\n",
       "    </tr>\n",
       "  </tbody>\n",
       "</table>\n",
       "</div>"
      ],
      "text/plain": [
       "           Datum Tid (UTC)  Snödjup Kvalitet  Markens tillstånd Kvalitet.1  \\\n",
       "4731  2019-06-04  06:00:00      0.0        G                0.0          G   \n",
       "4732  2019-06-05  06:00:00      0.0        G                0.0          G   \n",
       "\n",
       "      hour  day  year  \n",
       "4731     6  155  2019  \n",
       "4732     6  156  2019  "
      ]
     },
     "execution_count": 16,
     "metadata": {},
     "output_type": "execute_result"
    }
   ],
   "source": [
    "snow_depth.head(2)"
   ]
  },
  {
   "cell_type": "code",
   "execution_count": 17,
   "metadata": {},
   "outputs": [
    {
     "data": {
      "text/html": [
       "<div>\n",
       "<style scoped>\n",
       "    .dataframe tbody tr th:only-of-type {\n",
       "        vertical-align: middle;\n",
       "    }\n",
       "\n",
       "    .dataframe tbody tr th {\n",
       "        vertical-align: top;\n",
       "    }\n",
       "\n",
       "    .dataframe thead th {\n",
       "        text-align: right;\n",
       "    }\n",
       "</style>\n",
       "<table border=\"1\" class=\"dataframe\">\n",
       "  <thead>\n",
       "    <tr style=\"text-align: right;\">\n",
       "      <th></th>\n",
       "      <th>Datum</th>\n",
       "      <th>Tid (UTC)</th>\n",
       "      <th>Vindriktning</th>\n",
       "      <th>Kvalitet</th>\n",
       "      <th>Vindhastighet</th>\n",
       "      <th>Kvalitet.1</th>\n",
       "      <th>hour</th>\n",
       "      <th>day</th>\n",
       "      <th>year</th>\n",
       "    </tr>\n",
       "  </thead>\n",
       "  <tbody>\n",
       "    <tr>\n",
       "      <th>297120</th>\n",
       "      <td>2019-06-04</td>\n",
       "      <td>00:00:00</td>\n",
       "      <td>192.0</td>\n",
       "      <td>G</td>\n",
       "      <td>4.7</td>\n",
       "      <td>G</td>\n",
       "      <td>0</td>\n",
       "      <td>155</td>\n",
       "      <td>2019</td>\n",
       "    </tr>\n",
       "    <tr>\n",
       "      <th>297121</th>\n",
       "      <td>2019-06-04</td>\n",
       "      <td>01:00:00</td>\n",
       "      <td>204.0</td>\n",
       "      <td>G</td>\n",
       "      <td>5.0</td>\n",
       "      <td>G</td>\n",
       "      <td>1</td>\n",
       "      <td>155</td>\n",
       "      <td>2019</td>\n",
       "    </tr>\n",
       "  </tbody>\n",
       "</table>\n",
       "</div>"
      ],
      "text/plain": [
       "             Datum Tid (UTC)  Vindriktning Kvalitet  Vindhastighet Kvalitet.1  \\\n",
       "297120  2019-06-04  00:00:00         192.0        G            4.7          G   \n",
       "297121  2019-06-04  01:00:00         204.0        G            5.0          G   \n",
       "\n",
       "        hour  day  year  \n",
       "297120     0  155  2019  \n",
       "297121     1  155  2019  "
      ]
     },
     "execution_count": 17,
     "metadata": {},
     "output_type": "execute_result"
    }
   ],
   "source": [
    "wind_speed.head(2)"
   ]
  },
  {
   "cell_type": "code",
   "execution_count": 18,
   "metadata": {},
   "outputs": [
    {
     "data": {
      "text/html": [
       "<div>\n",
       "<style scoped>\n",
       "    .dataframe tbody tr th:only-of-type {\n",
       "        vertical-align: middle;\n",
       "    }\n",
       "\n",
       "    .dataframe tbody tr th {\n",
       "        vertical-align: top;\n",
       "    }\n",
       "\n",
       "    .dataframe thead th {\n",
       "        text-align: right;\n",
       "    }\n",
       "</style>\n",
       "<table border=\"1\" class=\"dataframe\">\n",
       "  <thead>\n",
       "    <tr style=\"text-align: right;\">\n",
       "      <th></th>\n",
       "      <th>Datum</th>\n",
       "      <th>Tid (UTC)</th>\n",
       "      <th>Nederbördsmängd</th>\n",
       "      <th>Kvalitet</th>\n",
       "      <th>hour</th>\n",
       "      <th>day</th>\n",
       "      <th>year</th>\n",
       "    </tr>\n",
       "  </thead>\n",
       "  <tbody>\n",
       "    <tr>\n",
       "      <th>206305</th>\n",
       "      <td>2019-06-04</td>\n",
       "      <td>00:00:00</td>\n",
       "      <td>0.0</td>\n",
       "      <td>G</td>\n",
       "      <td>0</td>\n",
       "      <td>155</td>\n",
       "      <td>2019</td>\n",
       "    </tr>\n",
       "    <tr>\n",
       "      <th>206306</th>\n",
       "      <td>2019-06-04</td>\n",
       "      <td>01:00:00</td>\n",
       "      <td>0.0</td>\n",
       "      <td>G</td>\n",
       "      <td>1</td>\n",
       "      <td>155</td>\n",
       "      <td>2019</td>\n",
       "    </tr>\n",
       "  </tbody>\n",
       "</table>\n",
       "</div>"
      ],
      "text/plain": [
       "             Datum Tid (UTC)  Nederbördsmängd Kvalitet  hour  day  year\n",
       "206305  2019-06-04  00:00:00              0.0        G     0  155  2019\n",
       "206306  2019-06-04  01:00:00              0.0        G     1  155  2019"
      ]
     },
     "execution_count": 18,
     "metadata": {},
     "output_type": "execute_result"
    }
   ],
   "source": [
    "rain.head(2)"
   ]
  },
  {
   "cell_type": "markdown",
   "metadata": {},
   "source": [
    "A left join is done to keep the values from the old data because for example snow_depth only have records certain days and then we could fill the NaN values from the left join with some approximation"
   ]
  },
  {
   "cell_type": "code",
   "execution_count": 19,
   "metadata": {},
   "outputs": [],
   "source": [
    "#segment_speeds_weather = segment_speeds[['SegmentId', 'hour', 'day', 'year', 'Speed']]\n",
    "segment_speeds_weather = segment_speeds\n",
    "\n",
    "segment_speeds_weather = pd.merge(segment_speeds[['SegmentId', 'hour', 'day', 'year', 'Speed']], temperature[['Lufttemperatur', 'hour', 'day', 'year']], on=['day', 'year', 'hour'], how='left')\n",
    "segment_speeds_weather = pd.merge(segment_speeds_weather, rain[['Nederbördsmängd', 'hour', 'day', 'year']], on=['day', 'year', 'hour'], how='left')\n",
    "segment_speeds_weather = pd.merge(segment_speeds_weather, wind_speed[['Vindhastighet', 'hour', 'day', 'year']], on=['day', 'year', 'hour'], how='left')\n",
    "segment_speeds_weather = pd.merge(segment_speeds_weather, snow_depth[['Snödjup', 'hour', 'day', 'year']], on=['day', 'year'], how='left')\n",
    "segment_speeds_weather.rename(columns = {'hour_x':'hour'}, inplace = True)\n",
    "segment_speeds_weather.drop('hour_y', axis=1, inplace=True)"
   ]
  },
  {
   "cell_type": "code",
   "execution_count": 20,
   "metadata": {},
   "outputs": [],
   "source": [
    "segment_speeds_weather.to_csv(\"segment_speeds_weather.csv\", sep=\",\")"
   ]
  },
  {
   "cell_type": "code",
   "execution_count": 21,
   "metadata": {},
   "outputs": [
    {
     "data": {
      "text/html": [
       "<div>\n",
       "<style scoped>\n",
       "    .dataframe tbody tr th:only-of-type {\n",
       "        vertical-align: middle;\n",
       "    }\n",
       "\n",
       "    .dataframe tbody tr th {\n",
       "        vertical-align: top;\n",
       "    }\n",
       "\n",
       "    .dataframe thead th {\n",
       "        text-align: right;\n",
       "    }\n",
       "</style>\n",
       "<table border=\"1\" class=\"dataframe\">\n",
       "  <thead>\n",
       "    <tr style=\"text-align: right;\">\n",
       "      <th></th>\n",
       "      <th>SegmentId</th>\n",
       "      <th>hour</th>\n",
       "      <th>day</th>\n",
       "      <th>year</th>\n",
       "      <th>Speed</th>\n",
       "      <th>Lufttemperatur</th>\n",
       "      <th>Nederbördsmängd</th>\n",
       "      <th>Vindhastighet</th>\n",
       "      <th>Snödjup</th>\n",
       "    </tr>\n",
       "  </thead>\n",
       "  <tbody>\n",
       "    <tr>\n",
       "      <th>0</th>\n",
       "      <td>226255131</td>\n",
       "      <td>0</td>\n",
       "      <td>155</td>\n",
       "      <td>2019</td>\n",
       "      <td>91.383333</td>\n",
       "      <td>13.7</td>\n",
       "      <td>0.0</td>\n",
       "      <td>4.7</td>\n",
       "      <td>0.0</td>\n",
       "    </tr>\n",
       "    <tr>\n",
       "      <th>1</th>\n",
       "      <td>226255131</td>\n",
       "      <td>1</td>\n",
       "      <td>155</td>\n",
       "      <td>2019</td>\n",
       "      <td>92.000000</td>\n",
       "      <td>14.1</td>\n",
       "      <td>0.0</td>\n",
       "      <td>5.0</td>\n",
       "      <td>0.0</td>\n",
       "    </tr>\n",
       "    <tr>\n",
       "      <th>2</th>\n",
       "      <td>226255131</td>\n",
       "      <td>2</td>\n",
       "      <td>155</td>\n",
       "      <td>2019</td>\n",
       "      <td>93.666667</td>\n",
       "      <td>14.2</td>\n",
       "      <td>0.0</td>\n",
       "      <td>4.8</td>\n",
       "      <td>0.0</td>\n",
       "    </tr>\n",
       "    <tr>\n",
       "      <th>3</th>\n",
       "      <td>226255131</td>\n",
       "      <td>3</td>\n",
       "      <td>155</td>\n",
       "      <td>2019</td>\n",
       "      <td>86.216667</td>\n",
       "      <td>14.3</td>\n",
       "      <td>0.0</td>\n",
       "      <td>4.9</td>\n",
       "      <td>0.0</td>\n",
       "    </tr>\n",
       "    <tr>\n",
       "      <th>4</th>\n",
       "      <td>226255131</td>\n",
       "      <td>4</td>\n",
       "      <td>155</td>\n",
       "      <td>2019</td>\n",
       "      <td>90.116667</td>\n",
       "      <td>13.6</td>\n",
       "      <td>0.0</td>\n",
       "      <td>6.7</td>\n",
       "      <td>0.0</td>\n",
       "    </tr>\n",
       "    <tr>\n",
       "      <th>5</th>\n",
       "      <td>226255131</td>\n",
       "      <td>5</td>\n",
       "      <td>155</td>\n",
       "      <td>2019</td>\n",
       "      <td>103.627119</td>\n",
       "      <td>12.9</td>\n",
       "      <td>0.0</td>\n",
       "      <td>6.8</td>\n",
       "      <td>0.0</td>\n",
       "    </tr>\n",
       "    <tr>\n",
       "      <th>6</th>\n",
       "      <td>226255131</td>\n",
       "      <td>6</td>\n",
       "      <td>155</td>\n",
       "      <td>2019</td>\n",
       "      <td>92.666667</td>\n",
       "      <td>13.0</td>\n",
       "      <td>0.0</td>\n",
       "      <td>5.2</td>\n",
       "      <td>0.0</td>\n",
       "    </tr>\n",
       "    <tr>\n",
       "      <th>7</th>\n",
       "      <td>226255131</td>\n",
       "      <td>7</td>\n",
       "      <td>155</td>\n",
       "      <td>2019</td>\n",
       "      <td>101.366667</td>\n",
       "      <td>13.4</td>\n",
       "      <td>0.0</td>\n",
       "      <td>6.6</td>\n",
       "      <td>0.0</td>\n",
       "    </tr>\n",
       "    <tr>\n",
       "      <th>8</th>\n",
       "      <td>226255131</td>\n",
       "      <td>8</td>\n",
       "      <td>155</td>\n",
       "      <td>2019</td>\n",
       "      <td>98.616667</td>\n",
       "      <td>14.1</td>\n",
       "      <td>0.0</td>\n",
       "      <td>6.5</td>\n",
       "      <td>0.0</td>\n",
       "    </tr>\n",
       "    <tr>\n",
       "      <th>9</th>\n",
       "      <td>226255131</td>\n",
       "      <td>9</td>\n",
       "      <td>155</td>\n",
       "      <td>2019</td>\n",
       "      <td>93.083333</td>\n",
       "      <td>15.2</td>\n",
       "      <td>0.0</td>\n",
       "      <td>7.3</td>\n",
       "      <td>0.0</td>\n",
       "    </tr>\n",
       "    <tr>\n",
       "      <th>10</th>\n",
       "      <td>226255131</td>\n",
       "      <td>10</td>\n",
       "      <td>155</td>\n",
       "      <td>2019</td>\n",
       "      <td>92.200000</td>\n",
       "      <td>15.8</td>\n",
       "      <td>0.0</td>\n",
       "      <td>6.8</td>\n",
       "      <td>0.0</td>\n",
       "    </tr>\n",
       "    <tr>\n",
       "      <th>11</th>\n",
       "      <td>226255131</td>\n",
       "      <td>11</td>\n",
       "      <td>155</td>\n",
       "      <td>2019</td>\n",
       "      <td>89.898305</td>\n",
       "      <td>17.8</td>\n",
       "      <td>0.0</td>\n",
       "      <td>5.8</td>\n",
       "      <td>0.0</td>\n",
       "    </tr>\n",
       "    <tr>\n",
       "      <th>12</th>\n",
       "      <td>226255131</td>\n",
       "      <td>12</td>\n",
       "      <td>155</td>\n",
       "      <td>2019</td>\n",
       "      <td>93.900000</td>\n",
       "      <td>19.4</td>\n",
       "      <td>0.0</td>\n",
       "      <td>6.5</td>\n",
       "      <td>0.0</td>\n",
       "    </tr>\n",
       "    <tr>\n",
       "      <th>13</th>\n",
       "      <td>226255131</td>\n",
       "      <td>13</td>\n",
       "      <td>155</td>\n",
       "      <td>2019</td>\n",
       "      <td>104.850000</td>\n",
       "      <td>19.9</td>\n",
       "      <td>0.0</td>\n",
       "      <td>5.4</td>\n",
       "      <td>0.0</td>\n",
       "    </tr>\n",
       "    <tr>\n",
       "      <th>14</th>\n",
       "      <td>226255131</td>\n",
       "      <td>14</td>\n",
       "      <td>155</td>\n",
       "      <td>2019</td>\n",
       "      <td>92.483333</td>\n",
       "      <td>18.1</td>\n",
       "      <td>0.0</td>\n",
       "      <td>4.3</td>\n",
       "      <td>0.0</td>\n",
       "    </tr>\n",
       "    <tr>\n",
       "      <th>15</th>\n",
       "      <td>226255131</td>\n",
       "      <td>15</td>\n",
       "      <td>155</td>\n",
       "      <td>2019</td>\n",
       "      <td>97.100000</td>\n",
       "      <td>18.8</td>\n",
       "      <td>0.0</td>\n",
       "      <td>3.2</td>\n",
       "      <td>0.0</td>\n",
       "    </tr>\n",
       "    <tr>\n",
       "      <th>16</th>\n",
       "      <td>226255131</td>\n",
       "      <td>16</td>\n",
       "      <td>155</td>\n",
       "      <td>2019</td>\n",
       "      <td>105.566667</td>\n",
       "      <td>18.1</td>\n",
       "      <td>0.0</td>\n",
       "      <td>4.3</td>\n",
       "      <td>0.0</td>\n",
       "    </tr>\n",
       "    <tr>\n",
       "      <th>17</th>\n",
       "      <td>226255131</td>\n",
       "      <td>17</td>\n",
       "      <td>155</td>\n",
       "      <td>2019</td>\n",
       "      <td>96.900000</td>\n",
       "      <td>17.5</td>\n",
       "      <td>0.0</td>\n",
       "      <td>5.9</td>\n",
       "      <td>0.0</td>\n",
       "    </tr>\n",
       "    <tr>\n",
       "      <th>18</th>\n",
       "      <td>226255131</td>\n",
       "      <td>18</td>\n",
       "      <td>155</td>\n",
       "      <td>2019</td>\n",
       "      <td>90.966667</td>\n",
       "      <td>16.5</td>\n",
       "      <td>0.0</td>\n",
       "      <td>4.8</td>\n",
       "      <td>0.0</td>\n",
       "    </tr>\n",
       "    <tr>\n",
       "      <th>19</th>\n",
       "      <td>226255131</td>\n",
       "      <td>19</td>\n",
       "      <td>155</td>\n",
       "      <td>2019</td>\n",
       "      <td>94.300000</td>\n",
       "      <td>16.5</td>\n",
       "      <td>0.0</td>\n",
       "      <td>4.3</td>\n",
       "      <td>0.0</td>\n",
       "    </tr>\n",
       "    <tr>\n",
       "      <th>20</th>\n",
       "      <td>226255131</td>\n",
       "      <td>20</td>\n",
       "      <td>155</td>\n",
       "      <td>2019</td>\n",
       "      <td>92.616667</td>\n",
       "      <td>15.6</td>\n",
       "      <td>0.0</td>\n",
       "      <td>3.5</td>\n",
       "      <td>0.0</td>\n",
       "    </tr>\n",
       "    <tr>\n",
       "      <th>21</th>\n",
       "      <td>226255131</td>\n",
       "      <td>21</td>\n",
       "      <td>155</td>\n",
       "      <td>2019</td>\n",
       "      <td>96.383333</td>\n",
       "      <td>14.2</td>\n",
       "      <td>0.0</td>\n",
       "      <td>3.2</td>\n",
       "      <td>0.0</td>\n",
       "    </tr>\n",
       "    <tr>\n",
       "      <th>22</th>\n",
       "      <td>226255131</td>\n",
       "      <td>22</td>\n",
       "      <td>155</td>\n",
       "      <td>2019</td>\n",
       "      <td>90.716667</td>\n",
       "      <td>14.6</td>\n",
       "      <td>0.0</td>\n",
       "      <td>5.2</td>\n",
       "      <td>0.0</td>\n",
       "    </tr>\n",
       "    <tr>\n",
       "      <th>23</th>\n",
       "      <td>226255131</td>\n",
       "      <td>23</td>\n",
       "      <td>155</td>\n",
       "      <td>2019</td>\n",
       "      <td>92.000000</td>\n",
       "      <td>11.8</td>\n",
       "      <td>0.0</td>\n",
       "      <td>3.2</td>\n",
       "      <td>0.0</td>\n",
       "    </tr>\n",
       "    <tr>\n",
       "      <th>24</th>\n",
       "      <td>226255131</td>\n",
       "      <td>0</td>\n",
       "      <td>156</td>\n",
       "      <td>2019</td>\n",
       "      <td>96.033333</td>\n",
       "      <td>12.5</td>\n",
       "      <td>0.0</td>\n",
       "      <td>4.2</td>\n",
       "      <td>0.0</td>\n",
       "    </tr>\n",
       "  </tbody>\n",
       "</table>\n",
       "</div>"
      ],
      "text/plain": [
       "    SegmentId  hour  day  year       Speed  Lufttemperatur  Nederbördsmängd  \\\n",
       "0   226255131     0  155  2019   91.383333            13.7              0.0   \n",
       "1   226255131     1  155  2019   92.000000            14.1              0.0   \n",
       "2   226255131     2  155  2019   93.666667            14.2              0.0   \n",
       "3   226255131     3  155  2019   86.216667            14.3              0.0   \n",
       "4   226255131     4  155  2019   90.116667            13.6              0.0   \n",
       "5   226255131     5  155  2019  103.627119            12.9              0.0   \n",
       "6   226255131     6  155  2019   92.666667            13.0              0.0   \n",
       "7   226255131     7  155  2019  101.366667            13.4              0.0   \n",
       "8   226255131     8  155  2019   98.616667            14.1              0.0   \n",
       "9   226255131     9  155  2019   93.083333            15.2              0.0   \n",
       "10  226255131    10  155  2019   92.200000            15.8              0.0   \n",
       "11  226255131    11  155  2019   89.898305            17.8              0.0   \n",
       "12  226255131    12  155  2019   93.900000            19.4              0.0   \n",
       "13  226255131    13  155  2019  104.850000            19.9              0.0   \n",
       "14  226255131    14  155  2019   92.483333            18.1              0.0   \n",
       "15  226255131    15  155  2019   97.100000            18.8              0.0   \n",
       "16  226255131    16  155  2019  105.566667            18.1              0.0   \n",
       "17  226255131    17  155  2019   96.900000            17.5              0.0   \n",
       "18  226255131    18  155  2019   90.966667            16.5              0.0   \n",
       "19  226255131    19  155  2019   94.300000            16.5              0.0   \n",
       "20  226255131    20  155  2019   92.616667            15.6              0.0   \n",
       "21  226255131    21  155  2019   96.383333            14.2              0.0   \n",
       "22  226255131    22  155  2019   90.716667            14.6              0.0   \n",
       "23  226255131    23  155  2019   92.000000            11.8              0.0   \n",
       "24  226255131     0  156  2019   96.033333            12.5              0.0   \n",
       "\n",
       "    Vindhastighet  Snödjup  \n",
       "0             4.7      0.0  \n",
       "1             5.0      0.0  \n",
       "2             4.8      0.0  \n",
       "3             4.9      0.0  \n",
       "4             6.7      0.0  \n",
       "5             6.8      0.0  \n",
       "6             5.2      0.0  \n",
       "7             6.6      0.0  \n",
       "8             6.5      0.0  \n",
       "9             7.3      0.0  \n",
       "10            6.8      0.0  \n",
       "11            5.8      0.0  \n",
       "12            6.5      0.0  \n",
       "13            5.4      0.0  \n",
       "14            4.3      0.0  \n",
       "15            3.2      0.0  \n",
       "16            4.3      0.0  \n",
       "17            5.9      0.0  \n",
       "18            4.8      0.0  \n",
       "19            4.3      0.0  \n",
       "20            3.5      0.0  \n",
       "21            3.2      0.0  \n",
       "22            5.2      0.0  \n",
       "23            3.2      0.0  \n",
       "24            4.2      0.0  "
      ]
     },
     "execution_count": 21,
     "metadata": {},
     "output_type": "execute_result"
    }
   ],
   "source": [
    "segment_speeds_weather.head(25)"
   ]
  },
  {
   "cell_type": "code",
   "execution_count": 22,
   "metadata": {},
   "outputs": [
    {
     "data": {
      "text/plain": [
       "SegmentId             0\n",
       "hour                  0\n",
       "day                   0\n",
       "year                  0\n",
       "Speed                 0\n",
       "Lufttemperatur     1719\n",
       "Nederbördsmängd     112\n",
       "Vindhastighet      1753\n",
       "Snödjup              24\n",
       "dtype: int64"
      ]
     },
     "execution_count": 22,
     "metadata": {},
     "output_type": "execute_result"
    }
   ],
   "source": [
    "segment_speeds_weather.isnull().sum()"
   ]
  },
  {
   "cell_type": "markdown",
   "metadata": {},
   "source": [
    "We can now see that there are certain year, day of year and hour combinations that have no values and...\n",
    "\n",
    "**Lufttemperature(Temperature)** would only miss values if they forgot to take them or temperature insturment stopped working therefore interpolation should work\n",
    "\n",
    "**Nederbördsmängd** would only miss values if they forgot to take them or temperature insturment stopped working because we can see even if there is no nederbördsmängd they put it at 0 therefore interpolation should work\n",
    "\n",
    "**Vindhastighet** would only miss values if they forgot to take them or temperature insturment stopped working because it pretty much is always some sort of wind therefore interpolation should work\n",
    "\n",
    "\n",
    "**snow_depth** gives NaN during the summer months and when there is no snow. Therefore all of the NaN values will be put to 0. It could be that they put 0 during winter months but we just assume that the model would be able to ignore those rare occations."
   ]
  },
  {
   "cell_type": "code",
   "execution_count": 23,
   "metadata": {},
   "outputs": [],
   "source": [
    "segment_speeds_weather['Lufttemperatur'] = segment_speeds_weather['Lufttemperatur'].interpolate(method='linear', limit_direction='forward', axis=0)\n",
    "segment_speeds_weather['Nederbördsmängd'] = segment_speeds_weather['Nederbördsmängd'].interpolate(method='linear', limit_direction='forward', axis=0)\n",
    "segment_speeds_weather['Vindhastighet'] = segment_speeds_weather['Vindhastighet'].interpolate(method='linear', limit_direction='forward', axis=0)\n",
    "segment_speeds_weather['Snödjup'] = segment_speeds_weather['Snödjup'].fillna(0)"
   ]
  },
  {
   "cell_type": "markdown",
   "metadata": {},
   "source": [
    "Now we can see that all of the NaN values are handled and we should be able to use the data to train"
   ]
  },
  {
   "cell_type": "markdown",
   "metadata": {
    "scrolled": true
   },
   "source": [
    "The target that we want to predict"
   ]
  },
  {
   "cell_type": "code",
   "execution_count": 24,
   "metadata": {},
   "outputs": [],
   "source": [
    "target_names = ['Speed']"
   ]
  },
  {
   "cell_type": "code",
   "execution_count": 25,
   "metadata": {},
   "outputs": [],
   "source": [
    "# 4 steps of 60min means we try to predict 4 hours into the future\n",
    "shift_steps_of_60_min = 1"
   ]
  },
  {
   "cell_type": "code",
   "execution_count": 26,
   "metadata": {},
   "outputs": [],
   "source": [
    "segment_speeds_targets = segment_speeds_weather[['Speed']].shift(-shift_steps_of_60_min)"
   ]
  },
  {
   "cell_type": "code",
   "execution_count": 27,
   "metadata": {},
   "outputs": [],
   "source": [
    "input_variables = ['Speed','hour', 'day']\n",
    "\n",
    "input_variables.append('Lufttemperatur')\n",
    "input_variables.append('Nederbördsmängd')\n",
    "input_variables.append('Vindhastighet')\n",
    "input_variables.append('Snödjup')\n",
    "\n",
    "x_data = segment_speeds_weather[input_variables].values[0:-shift_steps_of_60_min]"
   ]
  },
  {
   "cell_type": "code",
   "execution_count": 28,
   "metadata": {},
   "outputs": [
    {
     "data": {
      "text/plain": [
       "(21551, 7)"
      ]
     },
     "execution_count": 28,
     "metadata": {},
     "output_type": "execute_result"
    }
   ],
   "source": [
    "x_data.shape"
   ]
  },
  {
   "cell_type": "code",
   "execution_count": 29,
   "metadata": {},
   "outputs": [],
   "source": [
    "y_data = segment_speeds_targets.values[:-shift_steps_of_60_min]"
   ]
  },
  {
   "cell_type": "code",
   "execution_count": 30,
   "metadata": {},
   "outputs": [
    {
     "data": {
      "text/plain": [
       "(21551, 1)"
      ]
     },
     "execution_count": 30,
     "metadata": {},
     "output_type": "execute_result"
    }
   ],
   "source": [
    "y_data.shape"
   ]
  },
  {
   "cell_type": "code",
   "execution_count": 31,
   "metadata": {},
   "outputs": [
    {
     "data": {
      "text/plain": [
       "21551"
      ]
     },
     "execution_count": 31,
     "metadata": {},
     "output_type": "execute_result"
    }
   ],
   "source": [
    "num_data = len(x_data)\n",
    "num_data"
   ]
  },
  {
   "cell_type": "code",
   "execution_count": 32,
   "metadata": {},
   "outputs": [],
   "source": [
    "train_split = 0.75"
   ]
  },
  {
   "cell_type": "code",
   "execution_count": 33,
   "metadata": {},
   "outputs": [
    {
     "data": {
      "text/plain": [
       "16163"
      ]
     },
     "execution_count": 33,
     "metadata": {},
     "output_type": "execute_result"
    }
   ],
   "source": [
    "num_train = int(train_split * num_data)\n",
    "num_train"
   ]
  },
  {
   "cell_type": "code",
   "execution_count": 34,
   "metadata": {},
   "outputs": [
    {
     "data": {
      "text/plain": [
       "5388"
      ]
     },
     "execution_count": 34,
     "metadata": {},
     "output_type": "execute_result"
    }
   ],
   "source": [
    "#num_test = num_data - num_train\n",
    "num_test = num_data - num_train\n",
    "num_test"
   ]
  },
  {
   "cell_type": "code",
   "execution_count": 35,
   "metadata": {},
   "outputs": [
    {
     "data": {
      "text/plain": [
       "21551"
      ]
     },
     "execution_count": 35,
     "metadata": {},
     "output_type": "execute_result"
    }
   ],
   "source": [
    "x_train = x_data[0:num_train]\n",
    "x_test = x_data[num_train:]\n",
    "len(x_train) + len(x_test)"
   ]
  },
  {
   "cell_type": "code",
   "execution_count": 36,
   "metadata": {},
   "outputs": [
    {
     "data": {
      "text/plain": [
       "21551"
      ]
     },
     "execution_count": 36,
     "metadata": {},
     "output_type": "execute_result"
    }
   ],
   "source": [
    "y_train = y_data[0:num_train]\n",
    "y_test = y_data[num_train:]\n",
    "len(y_train) + len(y_test)"
   ]
  },
  {
   "cell_type": "code",
   "execution_count": 37,
   "metadata": {},
   "outputs": [
    {
     "data": {
      "text/plain": [
       "7"
      ]
     },
     "execution_count": 37,
     "metadata": {},
     "output_type": "execute_result"
    }
   ],
   "source": [
    "num_x_signals = x_data.shape[1]\n",
    "num_x_signals"
   ]
  },
  {
   "cell_type": "code",
   "execution_count": 38,
   "metadata": {},
   "outputs": [
    {
     "data": {
      "text/plain": [
       "1"
      ]
     },
     "execution_count": 38,
     "metadata": {},
     "output_type": "execute_result"
    }
   ],
   "source": [
    "num_y_signals = y_data.shape[1]\n",
    "num_y_signals"
   ]
  },
  {
   "cell_type": "code",
   "execution_count": 39,
   "metadata": {
    "scrolled": true
   },
   "outputs": [
    {
     "name": "stdout",
     "output_type": "stream",
     "text": [
      "Min: 6.85\n",
      "Max: 134.63333333333333\n"
     ]
    }
   ],
   "source": [
    "print(\"Min:\", np.min(segment_speeds['Speed']))\n",
    "print(\"Max:\", np.max(segment_speeds['Speed']))"
   ]
  },
  {
   "cell_type": "code",
   "execution_count": 40,
   "metadata": {},
   "outputs": [],
   "source": [
    "x_scaler = MinMaxScaler()"
   ]
  },
  {
   "cell_type": "code",
   "execution_count": 41,
   "metadata": {},
   "outputs": [],
   "source": [
    "x_train_scaled = x_scaler.fit_transform(x_train)"
   ]
  },
  {
   "cell_type": "code",
   "execution_count": 42,
   "metadata": {},
   "outputs": [],
   "source": [
    "x_test_scaled = x_scaler.transform(x_test)"
   ]
  },
  {
   "cell_type": "code",
   "execution_count": 43,
   "metadata": {},
   "outputs": [
    {
     "name": "stdout",
     "output_type": "stream",
     "text": [
      "Min: 0.0\n",
      "Max: 1.0\n"
     ]
    }
   ],
   "source": [
    "print(\"Min:\", np.min(x_train_scaled))\n",
    "print(\"Max:\", np.max(x_train_scaled))"
   ]
  },
  {
   "cell_type": "code",
   "execution_count": 44,
   "metadata": {},
   "outputs": [],
   "source": [
    "y_scaler = MinMaxScaler()\n",
    "y_train_scaled = y_scaler.fit_transform(y_train)\n",
    "y_test_scaled = y_scaler.transform(y_test)"
   ]
  },
  {
   "cell_type": "code",
   "execution_count": 45,
   "metadata": {},
   "outputs": [
    {
     "name": "stdout",
     "output_type": "stream",
     "text": [
      "(16163, 7)\n",
      "(16163, 1)\n"
     ]
    }
   ],
   "source": [
    "print(x_train_scaled.shape)\n",
    "print(y_train_scaled.shape)"
   ]
  },
  {
   "cell_type": "code",
   "execution_count": 46,
   "metadata": {},
   "outputs": [],
   "source": [
    "def batch_generator(batch_size, sequence_length):\n",
    "    \"\"\"\n",
    "    Generator function for creating random batches of training-data.\n",
    "    \"\"\"\n",
    "\n",
    "    # Infinite loop.\n",
    "    while True:\n",
    "        # Allocate a new array for the batch of input-signals.\n",
    "        x_shape = (batch_size, sequence_length, num_x_signals)\n",
    "        x_batch = np.zeros(shape=x_shape, dtype=np.float16)\n",
    "\n",
    "        # Allocate a new array for the batch of output-signals.\n",
    "        y_shape = (batch_size, sequence_length, num_y_signals)\n",
    "        y_batch = np.zeros(shape=y_shape, dtype=np.float16)\n",
    "\n",
    "        # Fill the batch with random sequences of data.\n",
    "        for i in range(batch_size):\n",
    "            # Get a random start-index.\n",
    "            # This points somewhere into the training-data.\n",
    "            idx = np.random.randint(num_train - sequence_length)\n",
    "            \n",
    "            # Copy the sequences of data starting at this index.\n",
    "            x_batch[i] = x_train_scaled[idx:idx+sequence_length]\n",
    "            y_batch[i] = y_train_scaled[idx:idx+sequence_length]\n",
    "        \n",
    "        yield (x_batch, y_batch)"
   ]
  },
  {
   "cell_type": "code",
   "execution_count": 47,
   "metadata": {},
   "outputs": [],
   "source": [
    "batch_size = 64"
   ]
  },
  {
   "cell_type": "code",
   "execution_count": 48,
   "metadata": {},
   "outputs": [
    {
     "data": {
      "text/plain": [
       "1344"
      ]
     },
     "execution_count": 48,
     "metadata": {},
     "output_type": "execute_result"
    }
   ],
   "source": [
    "sequence_length = 24 * 7 * 8\n",
    "sequence_length"
   ]
  },
  {
   "cell_type": "code",
   "execution_count": 49,
   "metadata": {},
   "outputs": [],
   "source": [
    "generator = batch_generator(batch_size=batch_size,\n",
    "                            sequence_length=sequence_length)"
   ]
  },
  {
   "cell_type": "code",
   "execution_count": 50,
   "metadata": {},
   "outputs": [],
   "source": [
    "x_batch, y_batch = next(generator)"
   ]
  },
  {
   "cell_type": "code",
   "execution_count": 51,
   "metadata": {},
   "outputs": [
    {
     "data": {
      "text/plain": [
       "[<matplotlib.lines.Line2D at 0x7f28ccddf240>]"
      ]
     },
     "execution_count": 51,
     "metadata": {},
     "output_type": "execute_result"
    },
    {
     "data": {
      "image/png": "[encoded data removed]",
      "text/plain": [
       "<Figure size 432x288 with 1 Axes>"
      ]
     },
     "metadata": {
      "needs_background": "light"
     },
     "output_type": "display_data"
    }
   ],
   "source": [
    "batch = 0\n",
    "signal = 0\n",
    "seq = x_batch[batch, :, signal]\n",
    "plt.plot(seq)"
   ]
  },
  {
   "cell_type": "code",
   "execution_count": 52,
   "metadata": {},
   "outputs": [],
   "source": [
    "validation_data = (np.expand_dims(x_test_scaled, axis=0),\n",
    "                   np.expand_dims(y_test_scaled, axis=0))"
   ]
  },
  {
   "cell_type": "markdown",
   "metadata": {},
   "source": [
    "# Creation of Model"
   ]
  },
  {
   "cell_type": "code",
   "execution_count": 53,
   "metadata": {},
   "outputs": [],
   "source": [
    "model = Sequential()\n",
    "model.add(GRU(units=512,\n",
    "              return_sequences=True,\n",
    "              input_shape=(None, num_x_signals,)))\n",
    "\n",
    "model.add(Dense(num_y_signals, activation='sigmoid'))"
   ]
  },
  {
   "cell_type": "code",
   "execution_count": 54,
   "metadata": {},
   "outputs": [],
   "source": [
    "warmup_steps = 50"
   ]
  },
  {
   "cell_type": "code",
   "execution_count": 55,
   "metadata": {},
   "outputs": [],
   "source": [
    "def loss_mse_warmup(y_true, y_pred):\n",
    "    \"\"\"\n",
    "    Calculate the Mean Squared Error between y_true and y_pred,\n",
    "    but ignore the beginning \"warmup\" part of the sequences.\n",
    "    \n",
    "    y_true is the desired output.\n",
    "    y_pred is the model's output.\n",
    "    \"\"\"\n",
    "\n",
    "    # The shape of both input tensors are:\n",
    "    # [batch_size, sequence_length, num_y_signals].\n",
    "\n",
    "    # Ignore the \"warmup\" parts of the sequences\n",
    "    # by taking slices of the tensors.\n",
    "    y_true_slice = y_true[:, warmup_steps:, :]\n",
    "    y_pred_slice = y_pred[:, warmup_steps:, :]\n",
    "\n",
    "    # These sliced tensors both have this shape:\n",
    "    # [batch_size, sequence_length - warmup_steps, num_y_signals]\n",
    "\n",
    "    # Calculat the Mean Squared Error and use it as loss.\n",
    "    mse = mean(square(y_true_slice - y_pred_slice))\n",
    "    \n",
    "    return mse"
   ]
  },
  {
   "cell_type": "code",
   "execution_count": 56,
   "metadata": {},
   "outputs": [],
   "source": [
    "optimizer = RMSprop(lr=1e-3)"
   ]
  },
  {
   "cell_type": "code",
   "execution_count": 57,
   "metadata": {},
   "outputs": [],
   "source": [
    "model.compile(loss=loss_mse_warmup, optimizer=optimizer)"
   ]
  },
  {
   "cell_type": "code",
   "execution_count": 58,
   "metadata": {},
   "outputs": [
    {
     "name": "stdout",
     "output_type": "stream",
     "text": [
      "Model: \"sequential\"\n",
      "_________________________________________________________________\n",
      "Layer (type)                 Output Shape              Param #   \n",
      "=================================================================\n",
      "gru (GRU)                    (None, None, 512)         800256    \n",
      "_________________________________________________________________\n",
      "dense (Dense)                (None, None, 1)           513       \n",
      "=================================================================\n",
      "Total params: 800,769\n",
      "Trainable params: 800,769\n",
      "Non-trainable params: 0\n",
      "_________________________________________________________________\n"
     ]
    }
   ],
   "source": [
    "model.summary()"
   ]
  },
  {
   "cell_type": "code",
   "execution_count": 59,
   "metadata": {},
   "outputs": [],
   "source": [
    "path_checkpoint = '23_checkpoint.keras'\n",
    "callback_checkpoint = ModelCheckpoint(filepath=path_checkpoint,\n",
    "                                      monitor='val_loss',\n",
    "                                      verbose=1,\n",
    "                                      save_weights_only=True,\n",
    "                                      save_best_only=True)"
   ]
  },
  {
   "cell_type": "code",
   "execution_count": 60,
   "metadata": {},
   "outputs": [],
   "source": [
    "callback_early_stopping = EarlyStopping(monitor='val_loss',\n",
    "                                        patience=18, verbose=1)"
   ]
  },
  {
   "cell_type": "code",
   "execution_count": 61,
   "metadata": {},
   "outputs": [],
   "source": [
    "callback_tensorboard = TensorBoard(log_dir=\".\\\\23_logs\\\\\",\n",
    "                                   histogram_freq=0,\n",
    "                                   write_graph=False)"
   ]
  },
  {
   "cell_type": "code",
   "execution_count": 62,
   "metadata": {},
   "outputs": [],
   "source": [
    "callback_reduce_lr = ReduceLROnPlateau(monitor='val_loss',\n",
    "                                       factor=0.1,\n",
    "                                       min_lr=1e-3,\n",
    "                                       patience=0,\n",
    "                                       verbose=1)"
   ]
  },
  {
   "cell_type": "code",
   "execution_count": 63,
   "metadata": {},
   "outputs": [],
   "source": [
    "callbacks = [callback_checkpoint,\n",
    "             callback_tensorboard]"
   ]
  },
  {
   "cell_type": "code",
   "execution_count": 65,
   "metadata": {},
   "outputs": [
    {
     "name": "stdout",
     "output_type": "stream",
     "text": [
      "WARNING:tensorflow:sample_weight modes were coerced from\n",
      "  ...\n",
      "    to  \n",
      "  ['...']\n",
      "Train for 235 steps, validate on 1 samples\n",
      "Epoch 1/60\n",
      "234/235 [============================>.] - ETA: 0s - loss: 7.0683e-04\n",
      "Epoch 00001: val_loss did not improve from 0.00308\n",
      "235/235 [==============================] - 68s 289ms/step - loss: 7.0586e-04 - val_loss: 0.0050\n",
      "Epoch 2/60\n",
      "234/235 [============================>.] - ETA: 0s - loss: 5.2450e-04\n",
      "Epoch 00002: val_loss did not improve from 0.00308\n",
      "235/235 [==============================] - 69s 292ms/step - loss: 5.2403e-04 - val_loss: 0.0054\n",
      "Epoch 3/60\n",
      "234/235 [============================>.] - ETA: 0s - loss: 3.9177e-04\n",
      "Epoch 00003: val_loss did not improve from 0.00308\n",
      "235/235 [==============================] - 75s 321ms/step - loss: 3.9134e-04 - val_loss: 0.0053\n",
      "Epoch 4/60\n",
      "234/235 [============================>.] - ETA: 0s - loss: 2.9560e-04\n",
      "Epoch 00004: val_loss did not improve from 0.00308\n",
      "235/235 [==============================] - 72s 305ms/step - loss: 2.9532e-04 - val_loss: 0.0055\n",
      "Epoch 5/60\n",
      "234/235 [============================>.] - ETA: 0s - loss: 2.3103e-04\n",
      "Epoch 00005: val_loss did not improve from 0.00308\n",
      "235/235 [==============================] - 70s 299ms/step - loss: 2.3114e-04 - val_loss: 0.0055\n",
      "Epoch 6/60\n",
      "234/235 [============================>.] - ETA: 0s - loss: 1.8706e-04\n",
      "Epoch 00006: val_loss did not improve from 0.00308\n",
      "235/235 [==============================] - 69s 292ms/step - loss: 1.8689e-04 - val_loss: 0.0054\n",
      "Epoch 7/60\n",
      "234/235 [============================>.] - ETA: 0s - loss: 1.5249e-04\n",
      "Epoch 00007: val_loss did not improve from 0.00308\n",
      "235/235 [==============================] - 69s 293ms/step - loss: 1.5237e-04 - val_loss: 0.0052\n",
      "Epoch 8/60\n",
      "234/235 [============================>.] - ETA: 0s - loss: 1.2906e-04\n",
      "Epoch 00008: val_loss did not improve from 0.00308\n",
      "235/235 [==============================] - 70s 296ms/step - loss: 1.2930e-04 - val_loss: 0.0052\n",
      "Epoch 9/60\n",
      "234/235 [============================>.] - ETA: 0s - loss: 1.1051e-04\n",
      "Epoch 00009: val_loss did not improve from 0.00308\n",
      "235/235 [==============================] - 70s 299ms/step - loss: 1.1049e-04 - val_loss: 0.0051\n",
      "Epoch 10/60\n",
      "234/235 [============================>.] - ETA: 0s - loss: 9.7293e-05\n",
      "Epoch 00010: val_loss did not improve from 0.00308\n",
      "235/235 [==============================] - 68s 291ms/step - loss: 9.7162e-05 - val_loss: 0.0050\n",
      "Epoch 11/60\n",
      "234/235 [============================>.] - ETA: 0s - loss: 8.4734e-05\n",
      "Epoch 00011: val_loss did not improve from 0.00308\n",
      "235/235 [==============================] - 73s 312ms/step - loss: 8.4690e-05 - val_loss: 0.0050\n",
      "Epoch 12/60\n",
      "234/235 [============================>.] - ETA: 0s - loss: 7.5631e-05\n",
      "Epoch 00012: val_loss did not improve from 0.00308\n",
      "235/235 [==============================] - 70s 298ms/step - loss: 7.5734e-05 - val_loss: 0.0049\n",
      "Epoch 13/60\n",
      "234/235 [============================>.] - ETA: 0s - loss: 6.7753e-05\n",
      "Epoch 00013: val_loss did not improve from 0.00308\n",
      "235/235 [==============================] - 70s 297ms/step - loss: 6.7878e-05 - val_loss: 0.0048\n",
      "Epoch 14/60\n",
      "234/235 [============================>.] - ETA: 0s - loss: 6.1102e-05\n",
      "Epoch 00014: val_loss did not improve from 0.00308\n",
      "235/235 [==============================] - 68s 291ms/step - loss: 6.1074e-05 - val_loss: 0.0048\n",
      "Epoch 15/60\n",
      "234/235 [============================>.] - ETA: 0s - loss: 5.6836e-05\n",
      "Epoch 00015: val_loss did not improve from 0.00308\n",
      "235/235 [==============================] - 70s 299ms/step - loss: 5.6813e-05 - val_loss: 0.0048\n",
      "Epoch 16/60\n",
      "234/235 [============================>.] - ETA: 0s - loss: 6.1388e-05\n",
      "Epoch 00016: val_loss did not improve from 0.00308\n",
      "235/235 [==============================] - 70s 298ms/step - loss: 6.1286e-05 - val_loss: 0.0046\n",
      "Epoch 17/60\n",
      "234/235 [============================>.] - ETA: 0s - loss: 6.4046e-05\n",
      "Epoch 00017: val_loss did not improve from 0.00308\n",
      "235/235 [==============================] - 71s 300ms/step - loss: 6.3933e-05 - val_loss: 0.0046\n",
      "Epoch 18/60\n",
      "234/235 [============================>.] - ETA: 0s - loss: 4.7352e-05\n",
      "Epoch 00018: val_loss did not improve from 0.00308\n",
      "235/235 [==============================] - 67s 287ms/step - loss: 4.7341e-05 - val_loss: 0.0047\n",
      "Epoch 19/60\n",
      "234/235 [============================>.] - ETA: 0s - loss: 4.3492e-05\n",
      "Epoch 00019: val_loss did not improve from 0.00308\n",
      "235/235 [==============================] - 69s 292ms/step - loss: 4.3465e-05 - val_loss: 0.0046\n",
      "Epoch 20/60\n",
      "234/235 [============================>.] - ETA: 0s - loss: 4.0737e-05\n",
      "Epoch 00020: val_loss did not improve from 0.00308\n",
      "235/235 [==============================] - 70s 298ms/step - loss: 4.0690e-05 - val_loss: 0.0046\n",
      "Epoch 21/60\n",
      "234/235 [============================>.] - ETA: 0s - loss: 3.8320e-05\n",
      "Epoch 00021: val_loss did not improve from 0.00308\n",
      "235/235 [==============================] - 70s 300ms/step - loss: 3.8278e-05 - val_loss: 0.0046\n",
      "Epoch 22/60\n",
      "234/235 [============================>.] - ETA: 0s - loss: 3.6357e-05\n",
      "Epoch 00022: val_loss did not improve from 0.00308\n",
      "235/235 [==============================] - 70s 300ms/step - loss: 3.6276e-05 - val_loss: 0.0045\n",
      "Epoch 23/60\n",
      "234/235 [============================>.] - ETA: 0s - loss: 3.4507e-05\n",
      "Epoch 00023: val_loss did not improve from 0.00308\n",
      "235/235 [==============================] - 70s 299ms/step - loss: 3.4487e-05 - val_loss: 0.0045\n",
      "Epoch 24/60\n",
      "234/235 [============================>.] - ETA: 0s - loss: 3.2576e-05\n",
      "Epoch 00024: val_loss did not improve from 0.00308\n",
      "235/235 [==============================] - 70s 298ms/step - loss: 3.2564e-05 - val_loss: 0.0045\n",
      "Epoch 25/60\n",
      "234/235 [============================>.] - ETA: 0s - loss: 3.1333e-05\n",
      "Epoch 00025: val_loss did not improve from 0.00308\n",
      "235/235 [==============================] - 73s 312ms/step - loss: 3.1318e-05 - val_loss: 0.0046\n",
      "Epoch 26/60\n",
      "234/235 [============================>.] - ETA: 0s - loss: 3.0067e-05\n",
      "Epoch 00026: val_loss did not improve from 0.00308\n",
      "235/235 [==============================] - 72s 305ms/step - loss: 3.0017e-05 - val_loss: 0.0045\n",
      "Epoch 27/60\n",
      "234/235 [============================>.] - ETA: 0s - loss: 2.9334e-05\n",
      "Epoch 00027: val_loss did not improve from 0.00308\n",
      "235/235 [==============================] - 71s 304ms/step - loss: 2.9355e-05 - val_loss: 0.0045\n",
      "Epoch 28/60\n",
      "234/235 [============================>.] - ETA: 0s - loss: 2.7319e-05\n",
      "Epoch 00028: val_loss did not improve from 0.00308\n",
      "235/235 [==============================] - 75s 320ms/step - loss: 2.7330e-05 - val_loss: 0.0044\n",
      "Epoch 29/60\n",
      "234/235 [============================>.] - ETA: 0s - loss: 2.6348e-05\n",
      "Epoch 00029: val_loss did not improve from 0.00308\n",
      "235/235 [==============================] - 72s 306ms/step - loss: 2.6319e-05 - val_loss: 0.0044\n",
      "Epoch 30/60\n",
      "234/235 [============================>.] - ETA: 0s - loss: 2.5399e-05\n",
      "Epoch 00030: val_loss did not improve from 0.00308\n",
      "235/235 [==============================] - 69s 292ms/step - loss: 2.5366e-05 - val_loss: 0.0044\n",
      "Epoch 31/60\n",
      "234/235 [============================>.] - ETA: 0s - loss: 2.4368e-05\n",
      "Epoch 00031: val_loss did not improve from 0.00308\n",
      "235/235 [==============================] - 69s 293ms/step - loss: 2.4367e-05 - val_loss: 0.0044\n",
      "Epoch 32/60\n",
      "234/235 [============================>.] - ETA: 0s - loss: 2.3931e-05\n",
      "Epoch 00032: val_loss did not improve from 0.00308\n",
      "235/235 [==============================] - 72s 308ms/step - loss: 2.3916e-05 - val_loss: 0.0044\n",
      "Epoch 33/60\n",
      "234/235 [============================>.] - ETA: 0s - loss: 2.2989e-05\n",
      "Epoch 00033: val_loss did not improve from 0.00308\n",
      "235/235 [==============================] - 68s 290ms/step - loss: 2.2983e-05 - val_loss: 0.0044\n",
      "Epoch 34/60\n",
      "234/235 [============================>.] - ETA: 0s - loss: 2.2563e-05\n",
      "Epoch 00034: val_loss did not improve from 0.00308\n",
      "235/235 [==============================] - 70s 299ms/step - loss: 2.2603e-05 - val_loss: 0.0044\n",
      "Epoch 35/60\n",
      "234/235 [============================>.] - ETA: 0s - loss: 2.1565e-05\n",
      "Epoch 00035: val_loss did not improve from 0.00308\n",
      "235/235 [==============================] - 70s 296ms/step - loss: 2.1556e-05 - val_loss: 0.0043\n",
      "Epoch 36/60\n"
     ]
    },
    {
     "name": "stdout",
     "output_type": "stream",
     "text": [
      "234/235 [============================>.] - ETA: 0s - loss: 2.0867e-05\n",
      "Epoch 00036: val_loss did not improve from 0.00308\n",
      "235/235 [==============================] - 70s 299ms/step - loss: 2.0854e-05 - val_loss: 0.0045\n",
      "Epoch 37/60\n",
      "234/235 [============================>.] - ETA: 0s - loss: 2.0534e-05\n",
      "Epoch 00037: val_loss did not improve from 0.00308\n",
      "235/235 [==============================] - 71s 303ms/step - loss: 2.0511e-05 - val_loss: 0.0044\n",
      "Epoch 38/60\n",
      "234/235 [============================>.] - ETA: 0s - loss: 1.9836e-05\n",
      "Epoch 00038: val_loss did not improve from 0.00308\n",
      "235/235 [==============================] - 72s 307ms/step - loss: 1.9837e-05 - val_loss: 0.0044\n",
      "Epoch 39/60\n",
      "234/235 [============================>.] - ETA: 0s - loss: 1.9286e-05\n",
      "Epoch 00039: val_loss did not improve from 0.00308\n",
      "235/235 [==============================] - 71s 301ms/step - loss: 1.9261e-05 - val_loss: 0.0044\n",
      "Epoch 40/60\n",
      "234/235 [============================>.] - ETA: 0s - loss: 1.8974e-05\n",
      "Epoch 00040: val_loss did not improve from 0.00308\n",
      "235/235 [==============================] - 70s 299ms/step - loss: 1.8959e-05 - val_loss: 0.0043\n",
      "Epoch 41/60\n",
      "234/235 [============================>.] - ETA: 0s - loss: 1.9314e-05\n",
      "Epoch 00041: val_loss did not improve from 0.00308\n",
      "235/235 [==============================] - 71s 301ms/step - loss: 1.9326e-05 - val_loss: 0.0044\n",
      "Epoch 42/60\n",
      "234/235 [============================>.] - ETA: 0s - loss: 1.8007e-05\n",
      "Epoch 00042: val_loss did not improve from 0.00308\n",
      "235/235 [==============================] - 70s 297ms/step - loss: 1.8019e-05 - val_loss: 0.0044\n",
      "Epoch 43/60\n",
      "234/235 [============================>.] - ETA: 0s - loss: 1.7670e-05\n",
      "Epoch 00043: val_loss did not improve from 0.00308\n",
      "235/235 [==============================] - 69s 292ms/step - loss: 1.7659e-05 - val_loss: 0.0044\n",
      "Epoch 44/60\n",
      "234/235 [============================>.] - ETA: 0s - loss: 1.7249e-05\n",
      "Epoch 00044: val_loss did not improve from 0.00308\n",
      "235/235 [==============================] - 69s 292ms/step - loss: 1.7257e-05 - val_loss: 0.0044\n",
      "Epoch 45/60\n",
      "234/235 [============================>.] - ETA: 0s - loss: 1.7047e-05\n",
      "Epoch 00045: val_loss did not improve from 0.00308\n",
      "235/235 [==============================] - 69s 292ms/step - loss: 1.7035e-05 - val_loss: 0.0043\n",
      "Epoch 46/60\n",
      "234/235 [============================>.] - ETA: 0s - loss: 1.6442e-05\n",
      "Epoch 00046: val_loss did not improve from 0.00308\n",
      "235/235 [==============================] - 69s 292ms/step - loss: 1.6433e-05 - val_loss: 0.0044\n",
      "Epoch 47/60\n",
      "234/235 [============================>.] - ETA: 0s - loss: 1.6207e-05\n",
      "Epoch 00047: val_loss did not improve from 0.00308\n",
      "235/235 [==============================] - 68s 289ms/step - loss: 1.6199e-05 - val_loss: 0.0044\n",
      "Epoch 48/60\n",
      "234/235 [============================>.] - ETA: 0s - loss: 1.6013e-05\n",
      "Epoch 00048: val_loss did not improve from 0.00308\n",
      "235/235 [==============================] - 67s 285ms/step - loss: 1.6015e-05 - val_loss: 0.0045\n",
      "Epoch 49/60\n",
      "234/235 [============================>.] - ETA: 0s - loss: 1.5641e-05\n",
      "Epoch 00049: val_loss did not improve from 0.00308\n",
      "235/235 [==============================] - 67s 286ms/step - loss: 1.5622e-05 - val_loss: 0.0044\n",
      "Epoch 50/60\n",
      "234/235 [============================>.] - ETA: 0s - loss: 1.5423e-05\n",
      "Epoch 00050: val_loss did not improve from 0.00308\n",
      "235/235 [==============================] - 67s 286ms/step - loss: 1.5422e-05 - val_loss: 0.0044\n",
      "Epoch 51/60\n",
      "234/235 [============================>.] - ETA: 0s - loss: 1.5102e-05\n",
      "Epoch 00051: val_loss did not improve from 0.00308\n",
      "235/235 [==============================] - 67s 287ms/step - loss: 1.5102e-05 - val_loss: 0.0044\n",
      "Epoch 52/60\n",
      "234/235 [============================>.] - ETA: 0s - loss: 1.4846e-05\n",
      "Epoch 00052: val_loss did not improve from 0.00308\n",
      "235/235 [==============================] - 67s 286ms/step - loss: 1.4834e-05 - val_loss: 0.0044\n",
      "Epoch 53/60\n",
      "234/235 [============================>.] - ETA: 0s - loss: 1.4580e-05\n",
      "Epoch 00053: val_loss did not improve from 0.00308\n",
      "235/235 [==============================] - 67s 287ms/step - loss: 1.4592e-05 - val_loss: 0.0044\n",
      "Epoch 54/60\n",
      "234/235 [============================>.] - ETA: 0s - loss: 1.4356e-05\n",
      "Epoch 00054: val_loss did not improve from 0.00308\n",
      "235/235 [==============================] - 67s 287ms/step - loss: 1.4360e-05 - val_loss: 0.0043\n",
      "Epoch 55/60\n",
      "234/235 [============================>.] - ETA: 0s - loss: 1.4209e-05\n",
      "Epoch 00055: val_loss did not improve from 0.00308\n",
      "235/235 [==============================] - 67s 286ms/step - loss: 1.4204e-05 - val_loss: 0.0043\n",
      "Epoch 56/60\n",
      "234/235 [============================>.] - ETA: 0s - loss: 1.3971e-05\n",
      "Epoch 00056: val_loss did not improve from 0.00308\n",
      "235/235 [==============================] - 68s 290ms/step - loss: 1.3966e-05 - val_loss: 0.0043\n",
      "Epoch 57/60\n",
      "234/235 [============================>.] - ETA: 0s - loss: 1.3869e-05\n",
      "Epoch 00057: val_loss did not improve from 0.00308\n",
      "235/235 [==============================] - 67s 286ms/step - loss: 1.3890e-05 - val_loss: 0.0043\n",
      "Epoch 58/60\n",
      "234/235 [============================>.] - ETA: 0s - loss: 1.3596e-05\n",
      "Epoch 00058: val_loss did not improve from 0.00308\n",
      "235/235 [==============================] - 69s 293ms/step - loss: 1.3590e-05 - val_loss: 0.0044\n",
      "Epoch 59/60\n",
      "234/235 [============================>.] - ETA: 0s - loss: 1.3364e-05\n",
      "Epoch 00059: val_loss did not improve from 0.00308\n",
      "235/235 [==============================] - 70s 296ms/step - loss: 1.3421e-05 - val_loss: 0.0043\n",
      "Epoch 60/60\n",
      "234/235 [============================>.] - ETA: 0s - loss: 1.3079e-05\n",
      "Epoch 00060: val_loss did not improve from 0.00308\n",
      "235/235 [==============================] - 69s 295ms/step - loss: 1.3085e-05 - val_loss: 0.0044\n"
     ]
    },
    {
     "data": {
      "text/plain": [
       "<tensorflow.python.keras.callbacks.History at 0x7f28cd8f12e8>"
      ]
     },
     "execution_count": 65,
     "metadata": {},
     "output_type": "execute_result"
    }
   ],
   "source": [
    "model.fit(x=generator,\n",
    "          epochs=60,\n",
    "          steps_per_epoch=235,\n",
    "          validation_data=validation_data,\n",
    "          callbacks=callbacks)"
   ]
  },
  {
   "cell_type": "code",
   "execution_count": 66,
   "metadata": {},
   "outputs": [
    {
     "name": "stdout",
     "output_type": "stream",
     "text": [
      "Error trying to load checkpoint.\n"
     ]
    }
   ],
   "source": [
    "try:\n",
    "    model.load_weights(path_checkpoint)\n",
    "except Exception as error:\n",
    "    print(\"Error trying to load checkpoint.\")"
   ]
  },
  {
   "cell_type": "code",
   "execution_count": 67,
   "metadata": {},
   "outputs": [
    {
     "name": "stdout",
     "output_type": "stream",
     "text": [
      "\r",
      "1/1 [==============================] - 0s 156ms/sample - loss: 0.0044\n"
     ]
    }
   ],
   "source": [
    "result = model.evaluate(x=np.expand_dims(x_test_scaled, axis=0),\n",
    "                        y=np.expand_dims(y_test_scaled, axis=0))"
   ]
  },
  {
   "cell_type": "code",
   "execution_count": 68,
   "metadata": {},
   "outputs": [
    {
     "name": "stdout",
     "output_type": "stream",
     "text": [
      "loss (test-set): 0.0044180285185575485\n"
     ]
    }
   ],
   "source": [
    "print(\"loss (test-set):\", result)"
   ]
  },
  {
   "cell_type": "code",
   "execution_count": 69,
   "metadata": {},
   "outputs": [],
   "source": [
    "def plot_comparison(start_idx, length=100, train=True):\n",
    "    \"\"\"\n",
    "    Plot the predicted and true output-signals.\n",
    "    \n",
    "    :param start_idx: Start-index for the time-series.\n",
    "    :param length: Sequence-length to process and plot.\n",
    "    :param train: Boolean whether to use training- or test-set.\n",
    "    \"\"\"\n",
    "    \n",
    "    if train:\n",
    "        # Use training-data.\n",
    "        x = x_train_scaled\n",
    "        y_true = y_train\n",
    "    else:\n",
    "        # Use test-data.\n",
    "        x = x_test_scaled\n",
    "        y_true = y_test\n",
    "    \n",
    "    # End-index for the sequences.\n",
    "    end_idx = start_idx + length\n",
    "    \n",
    "    # Select the sequences from the given start-index and\n",
    "    # of the given length.\n",
    "    x = x[start_idx:end_idx]\n",
    "    y_true = y_true[start_idx:end_idx]\n",
    "    \n",
    "    # Input-signals for the model.\n",
    "    x = np.expand_dims(x, axis=0)\n",
    "\n",
    "    # Use the model to predict the output-signals.\n",
    "    y_pred = model.predict(x)\n",
    "    \n",
    "    # The output of the model is between 0 and 1.\n",
    "    # Do an inverse map to get it back to the scale\n",
    "    # of the original data-set.\n",
    "    y_pred_rescaled = y_scaler.inverse_transform(y_pred[0])\n",
    "    \n",
    "    # For each output-signal.\n",
    "    for signal in range(len(target_names)):\n",
    "        # Get the output-signal predicted by the model.\n",
    "        signal_pred = y_pred_rescaled[:, signal]\n",
    "        \n",
    "        # Get the true output-signal from the data-set.\n",
    "        signal_true = y_true[:, signal]\n",
    "\n",
    "        # Make the plotting-canvas bigger.\n",
    "        plt.figure(figsize=(15,5))\n",
    "        \n",
    "        # Plot and compare the two signals.\n",
    "        plt.plot(signal_true, label='true')\n",
    "        plt.plot(signal_pred, label='pred')\n",
    "        \n",
    "        # Plot grey box for warmup-period.\n",
    "        p = plt.axvspan(0, warmup_steps, facecolor='black', alpha=0.15)\n",
    "        \n",
    "        # Plot labels etc.\n",
    "        plt.ylabel(target_names[signal])\n",
    "        plt.legend()\n",
    "        plt.show()"
   ]
  },
  {
   "cell_type": "code",
   "execution_count": 70,
   "metadata": {},
   "outputs": [
    {
     "data": {
      "image/png": "[encoded data removed]",
      "text/plain": [
       "<Figure size 1080x360 with 1 Axes>"
      ]
     },
     "metadata": {
      "needs_background": "light"
     },
     "output_type": "display_data"
    }
   ],
   "source": [
    "plot_comparison(start_idx=10000, length=1000, train=True)"
   ]
  },
  {
   "cell_type": "code",
   "execution_count": 71,
   "metadata": {
    "scrolled": true
   },
   "outputs": [
    {
     "data": {
      "image/png": "[encoded data removed]",
      "text/plain": [
       "<Figure size 1080x360 with 1 Axes>"
      ]
     },
     "metadata": {
      "needs_background": "light"
     },
     "output_type": "display_data"
    }
   ],
   "source": [
    "plot_comparison(start_idx=0, length=1000, train=False)"
   ]
  },
  {
   "cell_type": "code",
   "execution_count": null,
   "metadata": {},
   "outputs": [],
   "source": []
  },
  {
   "cell_type": "code",
   "execution_count": null,
   "metadata": {},
   "outputs": [],
   "source": []
  },
  {
   "cell_type": "code",
   "execution_count": null,
   "metadata": {},
   "outputs": [],
   "source": []
  },
  {
   "cell_type": "code",
   "execution_count": null,
   "metadata": {},
   "outputs": [],
   "source": []
  },
  {
   "cell_type": "code",
   "execution_count": null,
   "metadata": {},
   "outputs": [],
   "source": []
  },
  {
   "cell_type": "code",
   "execution_count": null,
   "metadata": {},
   "outputs": [],
   "source": []
  }
 ],
 "metadata": {
  "hide_input": false,
  "kernelspec": {
   "display_name": "Python 3",
   "language": "python",
   "name": "python3"
  },
  "language_info": {
   "codemirror_mode": {
    "name": "ipython",
    "version": 3
   },
   "file_extension": ".py",
   "mimetype": "text/x-python",
   "name": "python",
   "nbconvert_exporter": "python",
   "pygments_lexer": "ipython3",
   "version": "3.6.15"
  },
  "latex_envs": {
   "LaTeX_envs_menu_present": true,
   "autoclose": false,
   "autocomplete": true,
   "bibliofile": "biblio.bib",
   "cite_by": "apalike",
   "current_citInitial": 1,
   "eqLabelWithNumbers": true,
   "eqNumInitial": 1,
   "hotkeys": {
    "equation": "Ctrl-E",
    "itemize": "Ctrl-I"
   },
   "labels_anchors": false,
   "latex_user_defs": false,
   "report_style_numbering": false,
   "user_envs_cfg": false
  }
 },
 "nbformat": 4,
 "nbformat_minor": 4
}
